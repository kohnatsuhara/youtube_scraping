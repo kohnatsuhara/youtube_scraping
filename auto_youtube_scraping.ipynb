{
  "cells": [
    {
      "cell_type": "markdown",
      "metadata": {
        "id": "view-in-github",
        "colab_type": "text"
      },
      "source": [
        "<a href=\"https://colab.research.google.com/github/kohnatsuhara/youtube_scraping/blob/googlecolab/auto_youtube_scraping.ipynb\" target=\"_parent\"><img src=\"https://colab.research.google.com/assets/colab-badge.svg\" alt=\"Open In Colab\"/></a>"
      ]
    },
    {
      "cell_type": "markdown",
      "metadata": {
        "id": "_ucUMZYTg2VN"
      },
      "source": [
        "# 広告情報取得"
      ]
    },
    {
      "cell_type": "code",
      "source": [
        "# 必要なパッケージ\n",
        "!pip3 install openpyxl xlwt\n",
        "!pip3 install selenium\n",
        "!pip install pyvirtualdisplay\n",
        "!apt-get update\n",
        "!apt-get install -y xvfb"
      ],
      "metadata": {
        "id": "yujKpvcd258W"
      },
      "execution_count": null,
      "outputs": []
    },
    {
      "cell_type": "code",
      "execution_count": 6,
      "metadata": {
        "colab": {
          "base_uri": "https://localhost:8080/"
        },
        "id": "EX2G0U3tg2VW",
        "outputId": "372bf2ff-8c77-4c9d-c0ca-743e51b71c64",
        "collapsed": true
      },
      "outputs": [
        {
          "output_type": "stream",
          "name": "stdout",
          "text": [
            "Requirement already satisfied: openpyxl in /usr/local/lib/python3.10/dist-packages (3.1.2)\n",
            "Requirement already satisfied: xlwt in /usr/local/lib/python3.10/dist-packages (1.3.0)\n",
            "Requirement already satisfied: et-xmlfile in /usr/local/lib/python3.10/dist-packages (from openpyxl) (1.1.0)\n",
            "Requirement already satisfied: selenium in /usr/local/lib/python3.10/dist-packages (4.21.0)\n",
            "Requirement already satisfied: urllib3[socks]<3,>=1.26 in /usr/local/lib/python3.10/dist-packages (from selenium) (2.0.7)\n",
            "Requirement already satisfied: trio~=0.17 in /usr/local/lib/python3.10/dist-packages (from selenium) (0.25.1)\n",
            "Requirement already satisfied: trio-websocket~=0.9 in /usr/local/lib/python3.10/dist-packages (from selenium) (0.11.1)\n",
            "Requirement already satisfied: certifi>=2021.10.8 in /usr/local/lib/python3.10/dist-packages (from selenium) (2024.2.2)\n",
            "Requirement already satisfied: typing_extensions>=4.9.0 in /usr/local/lib/python3.10/dist-packages (from selenium) (4.11.0)\n",
            "Requirement already satisfied: attrs>=23.2.0 in /usr/local/lib/python3.10/dist-packages (from trio~=0.17->selenium) (23.2.0)\n",
            "Requirement already satisfied: sortedcontainers in /usr/local/lib/python3.10/dist-packages (from trio~=0.17->selenium) (2.4.0)\n",
            "Requirement already satisfied: idna in /usr/local/lib/python3.10/dist-packages (from trio~=0.17->selenium) (3.7)\n",
            "Requirement already satisfied: outcome in /usr/local/lib/python3.10/dist-packages (from trio~=0.17->selenium) (1.3.0.post0)\n",
            "Requirement already satisfied: sniffio>=1.3.0 in /usr/local/lib/python3.10/dist-packages (from trio~=0.17->selenium) (1.3.1)\n",
            "Requirement already satisfied: exceptiongroup in /usr/local/lib/python3.10/dist-packages (from trio~=0.17->selenium) (1.2.1)\n",
            "Requirement already satisfied: wsproto>=0.14 in /usr/local/lib/python3.10/dist-packages (from trio-websocket~=0.9->selenium) (1.2.0)\n",
            "Requirement already satisfied: pysocks!=1.5.7,<2.0,>=1.5.6 in /usr/local/lib/python3.10/dist-packages (from urllib3[socks]<3,>=1.26->selenium) (1.7.1)\n",
            "Requirement already satisfied: h11<1,>=0.9.0 in /usr/local/lib/python3.10/dist-packages (from wsproto>=0.14->trio-websocket~=0.9->selenium) (0.14.0)\n",
            "Collecting pyvirtualdisplay\n",
            "  Downloading PyVirtualDisplay-3.0-py3-none-any.whl (15 kB)\n",
            "Installing collected packages: pyvirtualdisplay\n",
            "Successfully installed pyvirtualdisplay-3.0\n",
            "Hit:1 http://archive.ubuntu.com/ubuntu jammy InRelease\n",
            "Get:2 http://archive.ubuntu.com/ubuntu jammy-updates InRelease [128 kB]\n",
            "Get:3 http://security.ubuntu.com/ubuntu jammy-security InRelease [129 kB]\n",
            "Get:4 https://cloud.r-project.org/bin/linux/ubuntu jammy-cran40/ InRelease [3,626 B]\n",
            "Get:5 http://archive.ubuntu.com/ubuntu jammy-backports InRelease [127 kB]\n",
            "Get:6 https://developer.download.nvidia.com/compute/cuda/repos/ubuntu2204/x86_64  InRelease [1,581 B]\n",
            "Hit:7 https://ppa.launchpadcontent.net/c2d4u.team/c2d4u4.0+/ubuntu jammy InRelease\n",
            "Get:8 http://security.ubuntu.com/ubuntu jammy-security/universe amd64 Packages [1,084 kB]\n",
            "Hit:9 https://ppa.launchpadcontent.net/deadsnakes/ppa/ubuntu jammy InRelease\n",
            "Get:10 http://security.ubuntu.com/ubuntu jammy-security/main amd64 Packages [1,858 kB]\n",
            "Hit:11 https://ppa.launchpadcontent.net/graphics-drivers/ppa/ubuntu jammy InRelease\n",
            "Hit:12 https://ppa.launchpadcontent.net/ubuntugis/ppa/ubuntu jammy InRelease\n",
            "Get:13 http://archive.ubuntu.com/ubuntu jammy-updates/main amd64 Packages [2,128 kB]\n",
            "Get:14 http://archive.ubuntu.com/ubuntu jammy-updates/universe amd64 Packages [1,376 kB]\n",
            "Get:15 http://archive.ubuntu.com/ubuntu jammy-backports/main amd64 Packages [81.0 kB]\n",
            "Get:16 http://archive.ubuntu.com/ubuntu jammy-backports/universe amd64 Packages [31.8 kB]\n",
            "Get:17 https://developer.download.nvidia.com/compute/cuda/repos/ubuntu2204/x86_64  Packages [874 kB]\n",
            "Fetched 7,822 kB in 2s (4,358 kB/s)\n",
            "Reading package lists... Done\n",
            "Reading package lists... Done\n",
            "Building dependency tree... Done\n",
            "Reading state information... Done\n",
            "The following additional packages will be installed:\n",
            "  libfontenc1 libxfont2 libxkbfile1 x11-xkb-utils xfonts-base xfonts-encodings xfonts-utils\n",
            "  xserver-common\n",
            "The following NEW packages will be installed:\n",
            "  libfontenc1 libxfont2 libxkbfile1 x11-xkb-utils xfonts-base xfonts-encodings xfonts-utils\n",
            "  xserver-common xvfb\n",
            "0 upgraded, 9 newly installed, 0 to remove and 53 not upgraded.\n",
            "Need to get 7,813 kB of archives.\n",
            "After this operation, 11.9 MB of additional disk space will be used.\n",
            "Get:1 http://archive.ubuntu.com/ubuntu jammy/main amd64 libfontenc1 amd64 1:1.1.4-1build3 [14.7 kB]\n",
            "Get:2 http://archive.ubuntu.com/ubuntu jammy/main amd64 libxfont2 amd64 1:2.0.5-1build1 [94.5 kB]\n",
            "Get:3 http://archive.ubuntu.com/ubuntu jammy/main amd64 libxkbfile1 amd64 1:1.1.0-1build3 [71.8 kB]\n",
            "Get:4 http://archive.ubuntu.com/ubuntu jammy/main amd64 x11-xkb-utils amd64 7.7+5build4 [172 kB]\n",
            "Get:5 http://archive.ubuntu.com/ubuntu jammy/main amd64 xfonts-encodings all 1:1.0.5-0ubuntu2 [578 kB]\n",
            "Get:6 http://archive.ubuntu.com/ubuntu jammy/main amd64 xfonts-utils amd64 1:7.7+6build2 [94.6 kB]\n",
            "Get:7 http://archive.ubuntu.com/ubuntu jammy/main amd64 xfonts-base all 1:1.0.5 [5,896 kB]\n",
            "Get:8 http://archive.ubuntu.com/ubuntu jammy-updates/main amd64 xserver-common all 2:21.1.4-2ubuntu1.7~22.04.10 [28.5 kB]\n",
            "Get:9 http://archive.ubuntu.com/ubuntu jammy-updates/universe amd64 xvfb amd64 2:21.1.4-2ubuntu1.7~22.04.10 [863 kB]\n",
            "Fetched 7,813 kB in 0s (34.7 MB/s)\n",
            "Selecting previously unselected package libfontenc1:amd64.\n",
            "(Reading database ... 121918 files and directories currently installed.)\n",
            "Preparing to unpack .../0-libfontenc1_1%3a1.1.4-1build3_amd64.deb ...\n",
            "Unpacking libfontenc1:amd64 (1:1.1.4-1build3) ...\n",
            "Selecting previously unselected package libxfont2:amd64.\n",
            "Preparing to unpack .../1-libxfont2_1%3a2.0.5-1build1_amd64.deb ...\n",
            "Unpacking libxfont2:amd64 (1:2.0.5-1build1) ...\n",
            "Selecting previously unselected package libxkbfile1:amd64.\n",
            "Preparing to unpack .../2-libxkbfile1_1%3a1.1.0-1build3_amd64.deb ...\n",
            "Unpacking libxkbfile1:amd64 (1:1.1.0-1build3) ...\n",
            "Selecting previously unselected package x11-xkb-utils.\n",
            "Preparing to unpack .../3-x11-xkb-utils_7.7+5build4_amd64.deb ...\n",
            "Unpacking x11-xkb-utils (7.7+5build4) ...\n",
            "Selecting previously unselected package xfonts-encodings.\n",
            "Preparing to unpack .../4-xfonts-encodings_1%3a1.0.5-0ubuntu2_all.deb ...\n",
            "Unpacking xfonts-encodings (1:1.0.5-0ubuntu2) ...\n",
            "Selecting previously unselected package xfonts-utils.\n",
            "Preparing to unpack .../5-xfonts-utils_1%3a7.7+6build2_amd64.deb ...\n",
            "Unpacking xfonts-utils (1:7.7+6build2) ...\n",
            "Selecting previously unselected package xfonts-base.\n",
            "Preparing to unpack .../6-xfonts-base_1%3a1.0.5_all.deb ...\n",
            "Unpacking xfonts-base (1:1.0.5) ...\n",
            "Selecting previously unselected package xserver-common.\n",
            "Preparing to unpack .../7-xserver-common_2%3a21.1.4-2ubuntu1.7~22.04.10_all.deb ...\n",
            "Unpacking xserver-common (2:21.1.4-2ubuntu1.7~22.04.10) ...\n",
            "Selecting previously unselected package xvfb.\n",
            "Preparing to unpack .../8-xvfb_2%3a21.1.4-2ubuntu1.7~22.04.10_amd64.deb ...\n",
            "Unpacking xvfb (2:21.1.4-2ubuntu1.7~22.04.10) ...\n",
            "Setting up libfontenc1:amd64 (1:1.1.4-1build3) ...\n",
            "Setting up xfonts-encodings (1:1.0.5-0ubuntu2) ...\n",
            "Setting up libxkbfile1:amd64 (1:1.1.0-1build3) ...\n",
            "Setting up libxfont2:amd64 (1:2.0.5-1build1) ...\n",
            "Setting up x11-xkb-utils (7.7+5build4) ...\n",
            "Setting up xfonts-utils (1:7.7+6build2) ...\n",
            "Setting up xfonts-base (1:1.0.5) ...\n",
            "Setting up xserver-common (2:21.1.4-2ubuntu1.7~22.04.10) ...\n",
            "Setting up xvfb (2:21.1.4-2ubuntu1.7~22.04.10) ...\n",
            "Processing triggers for man-db (2.10.2-1) ...\n",
            "Processing triggers for fontconfig (2.13.1-4.2ubuntu5) ...\n",
            "Processing triggers for libc-bin (2.35-0ubuntu3.4) ...\n",
            "/sbin/ldconfig.real: /usr/local/lib/libtbb.so.12 is not a symbolic link\n",
            "\n",
            "/sbin/ldconfig.real: /usr/local/lib/libtbbmalloc.so.2 is not a symbolic link\n",
            "\n",
            "/sbin/ldconfig.real: /usr/local/lib/libtbbbind.so.3 is not a symbolic link\n",
            "\n",
            "/sbin/ldconfig.real: /usr/local/lib/libtbbmalloc_proxy.so.2 is not a symbolic link\n",
            "\n",
            "/sbin/ldconfig.real: /usr/local/lib/libtbbbind_2_5.so.3 is not a symbolic link\n",
            "\n",
            "/sbin/ldconfig.real: /usr/local/lib/libtbbbind_2_0.so.3 is not a symbolic link\n",
            "\n"
          ]
        },
        {
          "output_type": "execute_result",
          "data": {
            "text/plain": [
              "<pyvirtualdisplay.display.Display at 0x7c2ed6e9f610>"
            ]
          },
          "metadata": {},
          "execution_count": 6
        }
      ],
      "source": [
        "import pyvirtualdisplay\n",
        "\n",
        "# 仮想ディスプレイ環境を構築\n",
        "display = pyvirtualdisplay.Display(visible=0, size=(1024, 768))\n",
        "display.start()"
      ]
    },
    {
      "cell_type": "code",
      "source": [
        "# googledriveをマウント\n",
        "from google.colab import drive\n",
        "drive.mount('./drive')"
      ],
      "metadata": {
        "colab": {
          "base_uri": "https://localhost:8080/"
        },
        "id": "8N5tFFnOzofP",
        "outputId": "d967276e-8492-4743-feff-a88d602c514b"
      },
      "execution_count": 15,
      "outputs": [
        {
          "output_type": "stream",
          "name": "stdout",
          "text": [
            "Mounted at ./drive\n"
          ]
        }
      ]
    },
    {
      "cell_type": "code",
      "source": [
        "# マウントしたgoogledrive内のconfigファイルを読み込む\n",
        "# config.py内のYOUTUBE_API_KEYを追記しておく\n",
        "import sys\n",
        "sys.path.append(\"/content/drive/MyDrive/youtube_scraping-main/\")\n",
        "from config import *"
      ],
      "metadata": {
        "id": "FJXmTjhr2DvI"
      },
      "execution_count": 23,
      "outputs": []
    },
    {
      "cell_type": "code",
      "source": [
        "import requests\n",
        "from selenium import webdriver\n",
        "from selenium.webdriver.chrome.options import Options\n",
        "from selenium.webdriver.common.by import By\n",
        "import re\n",
        "import time\n",
        "import pandas as pd"
      ],
      "metadata": {
        "id": "K1dE8NSohw7Y"
      },
      "execution_count": 8,
      "outputs": []
    },
    {
      "cell_type": "code",
      "execution_count": 9,
      "metadata": {
        "id": "GtZrtVmjg2VY"
      },
      "outputs": [],
      "source": [
        "def click_start(driver):\n",
        "    \"\"\"\n",
        "    広告を再生するために動画の再生ボタンを押す\n",
        "    \"\"\"\n",
        "    xpath = '//*[@id=\"movie_player\"]/div[8]/button'\n",
        "    element = driver.find_elements(by=By.XPATH, value=xpath)\n",
        "    try:\n",
        "        element[0].click()\n",
        "        print(\"click\")\n",
        "    except Exception as e:\n",
        "        print(e)\n",
        "\n",
        "def get_video_info(videoID):\n",
        "    \"\"\"\n",
        "    指定したvideoIDの詳細情報を取得\n",
        "    \"\"\"\n",
        "\n",
        "    params = {\n",
        "        \"id\": videoID,\n",
        "        \"key\": YOUTUBE_API_KEY,\n",
        "        \"part\": 'snippet,statistics,status,contentDetails,topicDetails',\n",
        "        # \"fields\": \"id,snippet,statistics,status\",\n",
        "    }\n",
        "\n",
        "    r = requests.get(URL_VIDEOS, params=params)\n",
        "    result_dic = {}\n",
        "    result_dic[\"viewCount\"] = r.json()[\"items\"][0][\"statistics\"].get('viewCount',\"不明\")# 再生回数\n",
        "    result_dic[\"commentCount\"] = r.json()[\"items\"][0][\"statistics\"].get('commentCount',\"不明\")# コメント数\n",
        "    result_dic[\"likeCount\"] = r.json()[\"items\"][0][\"statistics\"].get('likeCount',\"不明\")# いいねの数\n",
        "    result_dic[\"tags\"] = \",\".join(r.json()[\"items\"][0][\"snippet\"].get(\"tags\",\"不明\"))# タグ\n",
        "    result_dic[\"description\"] = r.json()[\"items\"][0][\"snippet\"].get(\"description\",\"不明\")# 動画詳細\n",
        "    result_dic[\"title\"] = r.json()[\"items\"][0][\"snippet\"].get(\"title\",\"不明\")#動画タイトル\n",
        "    result_dic[\"channelTitle\"] = r.json()[\"items\"][0][\"snippet\"].get(\"channelTitle\",\"不明\")# チャンネル名\n",
        "    return result_dic\n"
      ]
    },
    {
      "cell_type": "code",
      "execution_count": 11,
      "metadata": {
        "colab": {
          "base_uri": "https://localhost:8080/"
        },
        "id": "sDz2ecv1g2VY",
        "outputId": "2e1bef3f-4c15-410b-8fab-96719c8ea8c2"
      },
      "outputs": [
        {
          "output_type": "stream",
          "name": "stdout",
          "text": [
            "0 oP-CWIgeY9E\n",
            "開始\n",
            "click\n",
            "click\n",
            "click\n",
            "click\n",
            "click\n",
            "click\n",
            "click\n",
            "click\n",
            "click\n",
            "click\n",
            "1 zlRDOj-3EpA\n",
            "開始\n",
            "list index out of range\n",
            "list index out of range\n",
            "list index out of range\n",
            "list index out of range\n",
            "list index out of range\n",
            "list index out of range\n",
            "list index out of range\n",
            "list index out of range\n",
            "list index out of range\n",
            "list index out of range\n",
            "2 BoZ0Zwab6Oc\n",
            "開始\n",
            "list index out of range\n",
            "list index out of range\n",
            "list index out of range\n",
            "list index out of range\n",
            "list index out of range\n",
            "list index out of range\n",
            "list index out of range\n",
            "list index out of range\n",
            "list index out of range\n",
            "list index out of range\n",
            "3 qYllGk_5gl0\n",
            "開始\n",
            "click\n",
            "click\n",
            "click\n",
            "click\n",
            "click\n",
            "click\n",
            "click\n",
            "click\n",
            "click\n",
            "click\n",
            "4 23g5HBOg3Ic\n",
            "開始\n",
            "click\n",
            "click\n",
            "click\n",
            "click\n",
            "click\n",
            "click\n",
            "click\n",
            "click\n",
            "click\n",
            "click\n",
            "5 diIQBFaBNHU\n",
            "開始\n",
            "click\n",
            "click\n",
            "click\n",
            "click\n",
            "click\n",
            "click\n",
            "click\n",
            "click\n",
            "click\n",
            "click\n",
            "6 L6GiPS_KZos\n",
            "開始\n",
            "click\n",
            "click\n",
            "click\n",
            "click\n",
            "click\n",
            "click\n",
            "click\n",
            "click\n",
            "click\n",
            "click\n",
            "click\n",
            "click\n",
            "7 Cn34P8-tssE\n",
            "開始\n",
            "list index out of range\n",
            "list index out of range\n",
            "list index out of range\n",
            "list index out of range\n",
            "list index out of range\n",
            "list index out of range\n",
            "list index out of range\n",
            "list index out of range\n",
            "list index out of range\n",
            "list index out of range\n",
            "8 ajjN7eAnyZE\n",
            "開始\n",
            "click\n",
            "click\n",
            "click\n",
            "click\n",
            "click\n",
            "click\n",
            "click\n",
            "click\n",
            "click\n",
            "click\n",
            "click\n",
            "click\n",
            "9 Yl0aI4-k1Mk\n",
            "開始\n",
            "click\n",
            "click\n",
            "click\n",
            "click\n",
            "click\n",
            "click\n",
            "click\n",
            "click\n",
            "click\n",
            "click\n"
          ]
        }
      ],
      "source": [
        "# 検索ワード\n",
        "video_search_words = \"ポケモン\"\n",
        "\n",
        "# 1動画ごとに取得するCM数（動画再生を繰り返して取得するCM数）\n",
        "# 繰り返し再生しても大抵一種類のCMしか再生されない\n",
        "cm_num = 5\n",
        "# 情報取得する動画数\n",
        "video_num = 10\n",
        "\n",
        "params = {\n",
        "    \"key\": YOUTUBE_API_KEY,\n",
        "    \"part\": 'snippet',\n",
        "    \"q\":video_search_words,\n",
        "    \"order\":'viewCount',\n",
        "    \"type\":'video',\n",
        "    \"maxResults\": video_num\n",
        "    # \"fields\": \"id,snippet,statistics,status\",\n",
        "}\n",
        "r = requests.get(URL_SEARCH, params=params)\n",
        "\n",
        "# top_bideoID = r.json()[\"items\"][0][\"id\"][\"videoId\"]\n",
        "\n",
        "result_df = pd.DataFrame()\n",
        "for n,video in enumerate(r.json()[\"items\"][:video_num]):\n",
        "\n",
        "    options = Options()\n",
        "    # linux上で動かすときは次の2つも実行してください。\n",
        "    options.add_argument('--headless')\n",
        "    options.add_argument('--incognito') #シークレットモード\n",
        "    options.add_argument(\"--no-sandbox\") # サンドボックスモードを無効にするオプション\n",
        "    options.add_argument(\"--disable-dev-shm-usage\") # /dev/shmへのアクセスを禁止\n",
        "\n",
        "    driver = webdriver.Chrome(options=options)\n",
        "    videoID = video['id'][\"videoId\"]\n",
        "    print(n,videoID)\n",
        "\n",
        "    url = f\"https://www.youtube.com/watch?v={videoID}\"\n",
        "    driver.get(url)\n",
        "    url_list = []\n",
        "    count_num = 0\n",
        "    print(\"開始\")\n",
        "    while True:\n",
        "        driver.refresh() # ページの更新\n",
        "        time.sleep(5)\n",
        "        click_start(driver) #動画再生（広告の割り込み）\n",
        "        time.sleep(3)\n",
        "\n",
        "        # 広告URLが格納されているxpath\n",
        "        xpath = '//*[@id=\"companion\"]/top-banner-image-text-icon-buttoned-layout-view-model/div[2]/ad-button-view-model/a'\n",
        "        result = driver.find_elements(by=By.XPATH, value=xpath)\n",
        "\n",
        "        # 取得した要素のHTMLを表示\n",
        "        for element in result:\n",
        "            # url_search_list = re.findall('adurl=(.*)', element.get_attribute(\"href\"))\n",
        "            url_search_list = element.get_attribute(\"href\")\n",
        "            if len(url_search_list) > 0:\n",
        "                url_list.append(url_search_list)\n",
        "                url_num = len(url_list)\n",
        "                count_num = 0\n",
        "\n",
        "        if (len(url_list)>cm_num) or (count_num==9):\n",
        "            break\n",
        "        count_num += 1\n",
        "\n",
        "    url_list = list(set(url_list))\n",
        "    video_info_dic = get_video_info(videoID)\n",
        "    video_info_dic[\"koukoku\"]= \",\".join(url_list)\n",
        "    a = pd.Series(video_info_dic, name=f\"rank{n}\")\n",
        "\n",
        "    result_df = pd.concat([result_df, a.to_frame().T])\n",
        "    # driverを終了する\n",
        "    driver.quit()"
      ]
    },
    {
      "cell_type": "code",
      "execution_count": 16,
      "metadata": {
        "id": "EsX-8qSIg2Vb"
      },
      "outputs": [],
      "source": [
        "# マウントしたgoogledriveに保存する\n",
        "result_df.to_excel(\"./drive/MyDrive/result.xlsx\")"
      ]
    },
    {
      "cell_type": "code",
      "execution_count": 25,
      "metadata": {
        "colab": {
          "base_uri": "https://localhost:8080/"
        },
        "id": "l4bNETXZg2Ve",
        "outputId": "d6c86552-a62d-4b51-e5da-965c9dc491b8"
      },
      "outputs": [
        {
          "output_type": "execute_result",
          "data": {
            "text/plain": [
              "(10, 8)"
            ]
          },
          "metadata": {},
          "execution_count": 25
        }
      ],
      "source": [
        "result_df.shape"
      ]
    },
    {
      "cell_type": "code",
      "execution_count": null,
      "metadata": {
        "id": "oy3ReszHg2Vf"
      },
      "outputs": [],
      "source": []
    }
  ],
  "metadata": {
    "kernelspec": {
      "display_name": "Python 3",
      "language": "python",
      "name": "python3"
    },
    "language_info": {
      "codemirror_mode": {
        "name": "ipython",
        "version": 3
      },
      "file_extension": ".py",
      "mimetype": "text/x-python",
      "name": "python",
      "nbconvert_exporter": "python",
      "pygments_lexer": "ipython3",
      "version": "3.10.12"
    },
    "colab": {
      "provenance": [],
      "include_colab_link": true
    }
  },
  "nbformat": 4,
  "nbformat_minor": 0
}