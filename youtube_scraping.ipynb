{
 "cells": [
  {
   "cell_type": "markdown",
   "id": "178076f5-c750-4fce-9320-cea0851b1498",
   "metadata": {},
   "source": [
    "# youtubeのスクレイピング\n",
    "\n",
    "## youtubeのAPI作成方法\n",
    "- 参考：https://qiita.com/g-k/items/7c98efe21257afac70e9\n"
   ]
  },
  {
   "cell_type": "code",
   "execution_count": null,
   "id": "7713ad15-37b5-45ff-b93b-f8d0f3cf574f",
   "metadata": {},
   "outputs": [],
   "source": [
    "Video ID / sCPN tYtQLNO4eNI / TB1B B64A KXBE N5GN N3F0\n",
    "Viewport / Frames 1259x708 / 7 dropped of 134\n",
    "Current / Optimal Res 640x360@24 / 1280x720@24\n",
    "Volume / Normalized 100% / 55% (content loudness 5.1dB)\n",
    "Codecs av01.0.01M.08 (396) / opus (251)\n",
    "Color bt709 / bt709\n",
    "Connection Speed 2190 Kbps\n",
    "Network Activity 0 KB\n",
    "Buffer Health 2.19 s\n",
    "Mystery Text SABR, s:4 t:3.85 b:0.000-6.041 P L pl_i:72 pbs:1933\n",
    "Date"
   ]
  },
  {
   "cell_type": "code",
   "execution_count": null,
   "id": "69a9ad2e",
   "metadata": {},
   "outputs": [],
   "source": [
    "pip install google-api-python-client"
   ]
  },
  {
   "cell_type": "markdown",
   "id": "60ddaf67",
   "metadata": {},
   "source": [
    "# キーワード検索\n",
    "- 基本的に動画検索用\n",
    "- ビデオID\n",
    "- チャンネルID\n",
    "- 公開日\n",
    "- 動画詳細など"
   ]
  },
  {
   "cell_type": "code",
   "execution_count": 2,
   "id": "aae5ef20-b73e-4488-8fd0-7ca3323bf18e",
   "metadata": {},
   "outputs": [],
   "source": [
    "from config import *\n",
    "import requests"
   ]
  },
  {
   "cell_type": "code",
   "execution_count": 10,
   "id": "bd921610",
   "metadata": {},
   "outputs": [],
   "source": [
    "params = {\n",
    "    \"key\": YOUTUBE_API_KEY,\n",
    "    \"part\": 'snippet',\n",
    "    \"q\":\"ポケモン\",\n",
    "    \"order\":'viewCount',\n",
    "    \"type\":'video',\n",
    "    # \"fields\": \"id,snippet,statistics,status\",\n",
    "}\n",
    "r = requests.get(URL_SEARCH, params=params)\n",
    "  \n"
   ]
  },
  {
   "cell_type": "code",
   "execution_count": 22,
   "id": "dafda296",
   "metadata": {},
   "outputs": [
    {
     "data": {
      "text/plain": [
       "[{'kind': 'youtube#searchResult',\n",
       "  'etag': 'LZk_fHC5TOcTBXS5CTQSGQfcerE',\n",
       "  'id': {'kind': 'youtube#video', 'videoId': 'zlRDOj-3EpA'},\n",
       "  'snippet': {'publishedAt': '2022-02-18T02:45:04Z',\n",
       "   'channelId': 'UC_SI1j1d8vJo_rYMV5o_dRg',\n",
       "   'title': '【公式】「ポケモンたちとの甘い冬」第2話「ゴージャス！タルト盛り合せ」',\n",
       "   'description': 'ある料理好きの男性とポケモンたちの、おいしくてあたたかい日常風景を描いたショートムービー「ポケモンたちとの甘い冬」第2 ...',\n",
       "   'thumbnails': {'default': {'url': 'https://i.ytimg.com/vi/zlRDOj-3EpA/default.jpg',\n",
       "     'width': 120,\n",
       "     'height': 90},\n",
       "    'medium': {'url': 'https://i.ytimg.com/vi/zlRDOj-3EpA/mqdefault.jpg',\n",
       "     'width': 320,\n",
       "     'height': 180},\n",
       "    'high': {'url': 'https://i.ytimg.com/vi/zlRDOj-3EpA/hqdefault.jpg',\n",
       "     'width': 480,\n",
       "     'height': 360}},\n",
       "   'channelTitle': 'ポケモン公式YouTubeチャンネル',\n",
       "   'liveBroadcastContent': 'none',\n",
       "   'publishTime': '2022-02-18T02:45:04Z'}},\n",
       " {'kind': 'youtube#searchResult',\n",
       "  'etag': 'qz6lfZeCOs6l_Q8Xt1T-h37rfqA',\n",
       "  'id': {'kind': 'youtube#video', 'videoId': 'oP-CWIgeY9E'},\n",
       "  'snippet': {'publishedAt': '2021-01-29T05:00:20Z',\n",
       "   'channelId': 'UCgbfG5HoczHIkpzxLYH-8Ww',\n",
       "   'title': 'London Bridge is Falling Down | Nursery Rhyme | Kids Song | Pokémon Kids TV',\n",
       "   'description': 'A sing-along \"London Bridge\" video featuring Pokémon! Cheer these Pokémon on as they try to make it to the other side of the ...',\n",
       "   'thumbnails': {'default': {'url': 'https://i.ytimg.com/vi/oP-CWIgeY9E/default.jpg',\n",
       "     'width': 120,\n",
       "     'height': 90},\n",
       "    'medium': {'url': 'https://i.ytimg.com/vi/oP-CWIgeY9E/mqdefault.jpg',\n",
       "     'width': 320,\n",
       "     'height': 180},\n",
       "    'high': {'url': 'https://i.ytimg.com/vi/oP-CWIgeY9E/hqdefault.jpg',\n",
       "     'width': 480,\n",
       "     'height': 360}},\n",
       "   'channelTitle': 'Pokémon Kids TV',\n",
       "   'liveBroadcastContent': 'none',\n",
       "   'publishTime': '2021-01-29T05:00:20Z'}},\n",
       " {'kind': 'youtube#searchResult',\n",
       "  'etag': 'JE8xkDuB72FYMIjQHYTYtRhu2nA',\n",
       "  'id': {'kind': 'youtube#video', 'videoId': 'BoZ0Zwab6Oc'},\n",
       "  'snippet': {'publishedAt': '2020-09-29T13:13:35Z',\n",
       "   'channelId': 'UC_SI1j1d8vJo_rYMV5o_dRg',\n",
       "   'title': '【Official】Pokémon Special Music Video 「GOTCHA！」 | BUMP OF CHICKEN - Acacia',\n",
       "   'description': 'ポケモン ＆ BUMP OF CHICKEN スペシャルミュージックビデオ「GOTCHA！」 9言語の歌詞字幕付きで公開中！',\n",
       "   'thumbnails': {'default': {'url': 'https://i.ytimg.com/vi/BoZ0Zwab6Oc/default.jpg',\n",
       "     'width': 120,\n",
       "     'height': 90},\n",
       "    'medium': {'url': 'https://i.ytimg.com/vi/BoZ0Zwab6Oc/mqdefault.jpg',\n",
       "     'width': 320,\n",
       "     'height': 180},\n",
       "    'high': {'url': 'https://i.ytimg.com/vi/BoZ0Zwab6Oc/hqdefault.jpg',\n",
       "     'width': 480,\n",
       "     'height': 360}},\n",
       "   'channelTitle': 'ポケモン公式YouTubeチャンネル',\n",
       "   'liveBroadcastContent': 'none',\n",
       "   'publishTime': '2020-09-29T13:13:35Z'}},\n",
       " {'kind': 'youtube#searchResult',\n",
       "  'etag': '6F7GNjYmdBGIqYtCLfcmv3VblGk',\n",
       "  'id': {'kind': 'youtube#video', 'videoId': '1X9HkJNIRfM'},\n",
       "  'snippet': {'publishedAt': '2024-01-20T02:53:20Z',\n",
       "   'channelId': 'UCr3OIzi9He2kFdAMO7iRI8A',\n",
       "   'title': 'Pikachu &amp; Meowth (Full Episode) ft. skibidi toilet |Who&#39;s that Pokémon?#pokemon  #memes',\n",
       "   'description': \"Can Meowth & Pikachu answer who's that Pokémon MEME? Pokemon meme? Pikachu meme? Meowth? Doraemon? skibidi dop ...\",\n",
       "   'thumbnails': {'default': {'url': 'https://i.ytimg.com/vi/1X9HkJNIRfM/default.jpg',\n",
       "     'width': 120,\n",
       "     'height': 90},\n",
       "    'medium': {'url': 'https://i.ytimg.com/vi/1X9HkJNIRfM/mqdefault.jpg',\n",
       "     'width': 320,\n",
       "     'height': 180},\n",
       "    'high': {'url': 'https://i.ytimg.com/vi/1X9HkJNIRfM/hqdefault.jpg',\n",
       "     'width': 480,\n",
       "     'height': 360}},\n",
       "   'channelTitle': 'FoxSmil',\n",
       "   'liveBroadcastContent': 'none',\n",
       "   'publishTime': '2024-01-20T02:53:20Z'}},\n",
       " {'kind': 'youtube#searchResult',\n",
       "  'etag': '_FUXBqlPXJOSF2h9yjiWIfSeuts',\n",
       "  'id': {'kind': 'youtube#video', 'videoId': '23g5HBOg3Ic'},\n",
       "  'snippet': {'publishedAt': '2022-09-29T15:00:12Z',\n",
       "   'channelId': 'UC0C-w0YjGpqDXGB8IHb662A',\n",
       "   'title': 'Ed Sheeran, Pokémon - Celestial [Official Video]',\n",
       "   'description': 'The official music video for Ed Sheeran, Pokémon - Celestial Subtract, the new album, out 05.05.2023. Pre-order: ...',\n",
       "   'thumbnails': {'default': {'url': 'https://i.ytimg.com/vi/23g5HBOg3Ic/default.jpg',\n",
       "     'width': 120,\n",
       "     'height': 90},\n",
       "    'medium': {'url': 'https://i.ytimg.com/vi/23g5HBOg3Ic/mqdefault.jpg',\n",
       "     'width': 320,\n",
       "     'height': 180},\n",
       "    'high': {'url': 'https://i.ytimg.com/vi/23g5HBOg3Ic/hqdefault.jpg',\n",
       "     'width': 480,\n",
       "     'height': 360}},\n",
       "   'channelTitle': 'Ed Sheeran',\n",
       "   'liveBroadcastContent': 'none',\n",
       "   'publishTime': '2022-09-29T15:00:12Z'}}]"
      ]
     },
     "execution_count": 22,
     "metadata": {},
     "output_type": "execute_result"
    }
   ],
   "source": [
    "r.json()[\"items\"]"
   ]
  },
  {
   "cell_type": "code",
   "execution_count": 27,
   "id": "179c7f58",
   "metadata": {},
   "outputs": [],
   "source": [
    "top_bideoID = r.json()[\"items\"][0][\"id\"][\"videoId\"]"
   ]
  },
  {
   "cell_type": "markdown",
   "id": "a3fb0e40",
   "metadata": {},
   "source": [
    "# webAPIでの詳細検索\n",
    "キーワード検索で取得したIDを使って詳細検索"
   ]
  },
  {
   "cell_type": "code",
   "execution_count": 29,
   "id": "e79e32ac-35b1-4f80-8909-edb94df6472a",
   "metadata": {},
   "outputs": [],
   "source": [
    "\n",
    "# videoId = \"tYtQLNO4eNI\"\n",
    "params = {\n",
    "    \"id\": top_bideoID,\n",
    "    \"key\": YOUTUBE_API_KEY,\n",
    "    \"part\": 'snippet,statistics,status,contentDetails,topicDetails',\n",
    "    # \"fields\": \"id,snippet,statistics,status\",\n",
    "}\n",
    "\n",
    "r = requests.get(URL_VIDEOS, params=params)\n",
    "\n",
    "    \n"
   ]
  },
  {
   "cell_type": "markdown",
   "id": "0fc11111",
   "metadata": {},
   "source": [
    "## 取得できるデータ\n",
    "参考：https://qiita.com/SoichiroOta/items/6aa6316d9e0478180e2d"
   ]
  },
  {
   "cell_type": "code",
   "execution_count": 30,
   "id": "5826aa7f",
   "metadata": {},
   "outputs": [
    {
     "data": {
      "text/plain": [
       "dict_keys(['kind', 'etag', 'id', 'snippet', 'contentDetails', 'status', 'statistics', 'topicDetails'])"
      ]
     },
     "execution_count": 30,
     "metadata": {},
     "output_type": "execute_result"
    }
   ],
   "source": [
    "\n",
    "r.json()[\"items\"][0].keys()"
   ]
  },
  {
   "cell_type": "markdown",
   "id": "d0a99951",
   "metadata": {},
   "source": [
    "### snippet"
   ]
  },
  {
   "cell_type": "code",
   "execution_count": 31,
   "id": "89675361-bfa4-4e14-871f-1a107cc46880",
   "metadata": {},
   "outputs": [
    {
     "data": {
      "text/plain": [
       "dict_keys(['publishedAt', 'channelId', 'title', 'description', 'thumbnails', 'channelTitle', 'tags', 'categoryId', 'liveBroadcastContent', 'localized', 'defaultAudioLanguage'])"
      ]
     },
     "execution_count": 31,
     "metadata": {},
     "output_type": "execute_result"
    }
   ],
   "source": [
    "r.json()[\"items\"][0][\"snippet\"].keys()"
   ]
  },
  {
   "cell_type": "code",
   "execution_count": 32,
   "id": "b05c025d",
   "metadata": {},
   "outputs": [
    {
     "data": {
      "text/plain": [
       "{'publishedAt': '2022-02-18T02:45:04Z',\n",
       " 'channelId': 'UC_SI1j1d8vJo_rYMV5o_dRg',\n",
       " 'title': '【公式】「ポケモンたちとの甘い冬」第2話「ゴージャス！タルト盛り合せ」',\n",
       " 'description': 'ある料理好きの男性とポケモンたちの、おいしくてあたたかい日常風景を描いたショートムービー「ポケモンたちとの甘い冬」第2話「ゴージャス！タルト盛り合せ」が公開！\\n \\nある日、庭でボール遊びをしていたヒトカゲ・ピカチュウ・コダックは、うっかりそのボールをプリンに当ててしまった！\\n泣き出してしまったプリンをなぐさめるために、みんなが取った行動は……？\\n\\n----\\n「ポケモンたちとの甘い冬」は、中国の大人気映像クリエイターチーム「日食記」によって制作された全3話の実写×CG映像作品。\\nエピソードごとに、ポケモンの世界に暮らすひとりの男性とポケモンたちとのおいしくてあたたかい一日を描いています。\\n \\n■日食記\\n「食」をテーマとする中国大人気映像クリエイターチーム。2013年の活動開始以来、現在は中国本土で6,000万以上のフォロワーを持ち、動画の総再生数が78億を超えた。創業者の姜老刀（ジャン・ラオダオ）が本人役で出演する動画は愛情を込めた手作り料理と温かい雰囲気で多くのファンから厚い支持を得ている。\\n\\n日食記公式YouTubeチャンネル\\nhttps://www.youtube.com/channel/UCisCgODN_XZUC-s6Y9iwm7w\\n\\n#ポケモン #日食記 #ポケモンたちとの甘い冬\\n\\n-----\\nチャンネル登録はこちら\\nhttp://www.youtube.com/user/PokemonCoJp?sub_confirmation=1\\n\\n【ポケモンの最新情報をチェック！】\\n■オフィシャルサイト\\nhttps://www.pokemon.co.jp/\\n■Twitter\\nhttps://twitter.com/pokemon_cojp\\n■ポケモン情報局\\nhttps://twitter.com/poke_times\\n■LINE\\nhttps://line.me/R/ti/p/@pokemon\\n■Instagram\\nhttps://www.instagram.com/pokemon_jpn/\\n■TikTok\\nhttps://www.tiktok.com/@pokemon\\n-----\\n©2022 Pokémon. ©1995-2022 Nintendo/Creatures Inc./GAME FREAK inc.',\n",
       " 'thumbnails': {'default': {'url': 'https://i.ytimg.com/vi/zlRDOj-3EpA/default.jpg',\n",
       "   'width': 120,\n",
       "   'height': 90},\n",
       "  'medium': {'url': 'https://i.ytimg.com/vi/zlRDOj-3EpA/mqdefault.jpg',\n",
       "   'width': 320,\n",
       "   'height': 180},\n",
       "  'high': {'url': 'https://i.ytimg.com/vi/zlRDOj-3EpA/hqdefault.jpg',\n",
       "   'width': 480,\n",
       "   'height': 360},\n",
       "  'standard': {'url': 'https://i.ytimg.com/vi/zlRDOj-3EpA/sddefault.jpg',\n",
       "   'width': 640,\n",
       "   'height': 480},\n",
       "  'maxres': {'url': 'https://i.ytimg.com/vi/zlRDOj-3EpA/maxresdefault.jpg',\n",
       "   'width': 1280,\n",
       "   'height': 720}},\n",
       " 'channelTitle': 'ポケモン公式YouTubeチャンネル',\n",
       " 'tags': ['ピカチュウ',\n",
       "  'プリン',\n",
       "  'コダック',\n",
       "  'ヒトカゲ',\n",
       "  '料理動画',\n",
       "  '3DCG',\n",
       "  'デザート',\n",
       "  'お菓子',\n",
       "  '日食記',\n",
       "  'ポケモン',\n",
       "  'ぽけもん',\n",
       "  'Pokémon',\n",
       "  'Pokemon',\n",
       "  'ポケットモンスター',\n",
       "  'イーブイ',\n",
       "  'コイキング',\n",
       "  'ミミッキュ',\n",
       "  'ヤドン',\n",
       "  'メタモン',\n",
       "  'ポケモンGO',\n",
       "  'Pokémon GO',\n",
       "  'アニポケ',\n",
       "  'ポケんち',\n",
       "  'ポケモン映画',\n",
       "  'ポケカ',\n",
       "  'だいすきクラブ',\n",
       "  'ポケモンセンター',\n",
       "  'ポケモン ソード・シールド',\n",
       "  '剣盾',\n",
       "  'ポケモン剣盾',\n",
       "  '赤緑',\n",
       "  'GOTCHA',\n",
       "  '薄明の翼',\n",
       "  'ポケモンカード',\n",
       "  'ダンデ',\n",
       "  'キバナ',\n",
       "  'マリィ',\n",
       "  'サトシ',\n",
       "  'ゴウ',\n",
       "  'ポケセン',\n",
       "  'ユウリ',\n",
       "  'マサル',\n",
       "  'ポケモンレジェンズ',\n",
       "  'ポッチャマ',\n",
       "  'ディアルガ',\n",
       "  'パルキア',\n",
       "  'アルセウス',\n",
       "  'ブリダイ',\n",
       "  'シャイパ',\n",
       "  'BDSP'],\n",
       " 'categoryId': '20',\n",
       " 'liveBroadcastContent': 'none',\n",
       " 'localized': {'title': '【公式】「ポケモンたちとの甘い冬」第2話「ゴージャス！タルト盛り合せ」',\n",
       "  'description': 'ある料理好きの男性とポケモンたちの、おいしくてあたたかい日常風景を描いたショートムービー「ポケモンたちとの甘い冬」第2話「ゴージャス！タルト盛り合せ」が公開！\\n \\nある日、庭でボール遊びをしていたヒトカゲ・ピカチュウ・コダックは、うっかりそのボールをプリンに当ててしまった！\\n泣き出してしまったプリンをなぐさめるために、みんなが取った行動は……？\\n\\n----\\n「ポケモンたちとの甘い冬」は、中国の大人気映像クリエイターチーム「日食記」によって制作された全3話の実写×CG映像作品。\\nエピソードごとに、ポケモンの世界に暮らすひとりの男性とポケモンたちとのおいしくてあたたかい一日を描いています。\\n \\n■日食記\\n「食」をテーマとする中国大人気映像クリエイターチーム。2013年の活動開始以来、現在は中国本土で6,000万以上のフォロワーを持ち、動画の総再生数が78億を超えた。創業者の姜老刀（ジャン・ラオダオ）が本人役で出演する動画は愛情を込めた手作り料理と温かい雰囲気で多くのファンから厚い支持を得ている。\\n\\n日食記公式YouTubeチャンネル\\nhttps://www.youtube.com/channel/UCisCgODN_XZUC-s6Y9iwm7w\\n\\n#ポケモン #日食記 #ポケモンたちとの甘い冬\\n\\n-----\\nチャンネル登録はこちら\\nhttp://www.youtube.com/user/PokemonCoJp?sub_confirmation=1\\n\\n【ポケモンの最新情報をチェック！】\\n■オフィシャルサイト\\nhttps://www.pokemon.co.jp/\\n■Twitter\\nhttps://twitter.com/pokemon_cojp\\n■ポケモン情報局\\nhttps://twitter.com/poke_times\\n■LINE\\nhttps://line.me/R/ti/p/@pokemon\\n■Instagram\\nhttps://www.instagram.com/pokemon_jpn/\\n■TikTok\\nhttps://www.tiktok.com/@pokemon\\n-----\\n©2022 Pokémon. ©1995-2022 Nintendo/Creatures Inc./GAME FREAK inc.'},\n",
       " 'defaultAudioLanguage': 'ja'}"
      ]
     },
     "execution_count": 32,
     "metadata": {},
     "output_type": "execute_result"
    }
   ],
   "source": [
    "r.json()[\"items\"][0][\"snippet\"]"
   ]
  },
  {
   "cell_type": "code",
   "execution_count": 33,
   "id": "ebec86cc",
   "metadata": {},
   "outputs": [
    {
     "data": {
      "text/plain": [
       "['ピカチュウ',\n",
       " 'プリン',\n",
       " 'コダック',\n",
       " 'ヒトカゲ',\n",
       " '料理動画',\n",
       " '3DCG',\n",
       " 'デザート',\n",
       " 'お菓子',\n",
       " '日食記',\n",
       " 'ポケモン',\n",
       " 'ぽけもん',\n",
       " 'Pokémon',\n",
       " 'Pokemon',\n",
       " 'ポケットモンスター',\n",
       " 'イーブイ',\n",
       " 'コイキング',\n",
       " 'ミミッキュ',\n",
       " 'ヤドン',\n",
       " 'メタモン',\n",
       " 'ポケモンGO',\n",
       " 'Pokémon GO',\n",
       " 'アニポケ',\n",
       " 'ポケんち',\n",
       " 'ポケモン映画',\n",
       " 'ポケカ',\n",
       " 'だいすきクラブ',\n",
       " 'ポケモンセンター',\n",
       " 'ポケモン ソード・シールド',\n",
       " '剣盾',\n",
       " 'ポケモン剣盾',\n",
       " '赤緑',\n",
       " 'GOTCHA',\n",
       " '薄明の翼',\n",
       " 'ポケモンカード',\n",
       " 'ダンデ',\n",
       " 'キバナ',\n",
       " 'マリィ',\n",
       " 'サトシ',\n",
       " 'ゴウ',\n",
       " 'ポケセン',\n",
       " 'ユウリ',\n",
       " 'マサル',\n",
       " 'ポケモンレジェンズ',\n",
       " 'ポッチャマ',\n",
       " 'ディアルガ',\n",
       " 'パルキア',\n",
       " 'アルセウス',\n",
       " 'ブリダイ',\n",
       " 'シャイパ',\n",
       " 'BDSP']"
      ]
     },
     "execution_count": 33,
     "metadata": {},
     "output_type": "execute_result"
    }
   ],
   "source": [
    "r.json()[\"items\"][0][\"snippet\"][\"tags\"]"
   ]
  },
  {
   "cell_type": "markdown",
   "id": "6124450d",
   "metadata": {},
   "source": [
    "### contentDetails"
   ]
  },
  {
   "cell_type": "code",
   "execution_count": 34,
   "id": "675960c4",
   "metadata": {},
   "outputs": [
    {
     "data": {
      "text/plain": [
       "dict_keys(['duration', 'dimension', 'definition', 'caption', 'licensedContent', 'contentRating', 'projection'])"
      ]
     },
     "execution_count": 34,
     "metadata": {},
     "output_type": "execute_result"
    }
   ],
   "source": [
    "r.json()[\"items\"][0][\"contentDetails\"].keys()"
   ]
  },
  {
   "cell_type": "code",
   "execution_count": 35,
   "id": "c4077cd8",
   "metadata": {},
   "outputs": [
    {
     "data": {
      "text/plain": [
       "{'duration': 'PT6M53S',\n",
       " 'dimension': '2d',\n",
       " 'definition': 'hd',\n",
       " 'caption': 'false',\n",
       " 'licensedContent': True,\n",
       " 'contentRating': {},\n",
       " 'projection': 'rectangular'}"
      ]
     },
     "execution_count": 35,
     "metadata": {},
     "output_type": "execute_result"
    }
   ],
   "source": [
    "r.json()[\"items\"][0][\"contentDetails\"]"
   ]
  },
  {
   "cell_type": "markdown",
   "id": "4fe18554",
   "metadata": {},
   "source": [
    "### status\n",
    "動画の公開状況など"
   ]
  },
  {
   "cell_type": "code",
   "execution_count": 36,
   "id": "a6e43e43-e293-4725-8399-30e313426efb",
   "metadata": {},
   "outputs": [
    {
     "data": {
      "text/plain": [
       "{'uploadStatus': 'processed',\n",
       " 'privacyStatus': 'public',\n",
       " 'license': 'youtube',\n",
       " 'embeddable': True,\n",
       " 'publicStatsViewable': True,\n",
       " 'madeForKids': True}"
      ]
     },
     "execution_count": 36,
     "metadata": {},
     "output_type": "execute_result"
    }
   ],
   "source": [
    "r.json()[\"items\"][0][\"status\"]"
   ]
  },
  {
   "cell_type": "markdown",
   "id": "699220de",
   "metadata": {},
   "source": [
    "- uploadStatus：アップロードされた動画のステータス\n",
    "- privacyStatus：動画のプライバシー ステータス\n",
    "- license：動画のライセンス\n",
    "- embeddable：別の Web サイトに埋め込むことができるかどうか\n",
    "- publicStatsViewable：拡張統計情報が一般公開されているかどうか\n",
    "- madeForKids:キッズ向けかどうか\n"
   ]
  },
  {
   "cell_type": "markdown",
   "id": "361a3aee",
   "metadata": {},
   "source": [
    "限定公開動画の場合\n",
    "```bash\n",
    "r.json()[\"items\"][0][\"status\"]\n",
    "\n",
    "{'uploadStatus': 'processed',\n",
    " 'privacyStatus': 'unlisted',\n",
    " 'license': 'youtube',\n",
    " 'embeddable': True,\n",
    " 'publicStatsViewable': True,\n",
    " 'madeForKids': False}\n",
    "```"
   ]
  },
  {
   "cell_type": "markdown",
   "id": "a0290f53",
   "metadata": {},
   "source": [
    "### statistics"
   ]
  },
  {
   "cell_type": "code",
   "execution_count": 37,
   "id": "0443928a",
   "metadata": {},
   "outputs": [
    {
     "data": {
      "text/plain": [
       "{'viewCount': '85212525', 'favoriteCount': '0', 'commentCount': '0'}"
      ]
     },
     "execution_count": 37,
     "metadata": {},
     "output_type": "execute_result"
    }
   ],
   "source": [
    "r.json()[\"items\"][0][\"statistics\"]"
   ]
  },
  {
   "cell_type": "code",
   "execution_count": null,
   "id": "3d9e92ee",
   "metadata": {},
   "outputs": [],
   "source": []
  },
  {
   "cell_type": "markdown",
   "id": "b78ff982",
   "metadata": {},
   "source": [
    "### topicDetails"
   ]
  },
  {
   "cell_type": "code",
   "execution_count": 38,
   "id": "bcf97ace",
   "metadata": {},
   "outputs": [
    {
     "data": {
      "text/plain": [
       "{'topicCategories': ['https://en.wikipedia.org/wiki/Food',\n",
       "  'https://en.wikipedia.org/wiki/Lifestyle_(sociology)']}"
      ]
     },
     "execution_count": 38,
     "metadata": {},
     "output_type": "execute_result"
    }
   ],
   "source": [
    "r.json()[\"items\"][0][\"topicDetails\"]"
   ]
  },
  {
   "cell_type": "code",
   "execution_count": null,
   "id": "601c7189",
   "metadata": {},
   "outputs": [],
   "source": []
  },
  {
   "cell_type": "code",
   "execution_count": null,
   "id": "c1b81c2c",
   "metadata": {},
   "outputs": [],
   "source": []
  },
  {
   "cell_type": "code",
   "execution_count": null,
   "id": "48e0c9cc",
   "metadata": {},
   "outputs": [],
   "source": []
  },
  {
   "cell_type": "markdown",
   "id": "a0ed203b",
   "metadata": {},
   "source": [
    "# スクレイピングによる広告抽出（開発中）"
   ]
  },
  {
   "cell_type": "markdown",
   "id": "f8694e0a-b576-48c2-a9bc-1eddacad676f",
   "metadata": {},
   "source": [
    "要素：<button class=\"ytp-ad-button-vm ytp-ad-component--clickable ytp-ad-button--style-filled ytp-ad-button--size-default\" id=\"ad-button:6\" aria-label=\"もっと見る This link opens in new tab\" role=\"link\" style=\"\"><span class=\"ytp-ad-button__text\">もっと見る</span></button>\n",
    "x-path:/html/body/ytd-app/div[1]/ytd-page-manager/ytd-watch-flexy/div[5]/div[1]/div/div[1]/div[2]/div/div/ytd-player/div/div/div[22]/div/div[1]/div/button\n",
    "\n",
    "要素：<span class=\"ytp-sfn-cpn\"> tYtQLNO4eNI / TB1B B64A KXBE N5GN N3F0</span>\n",
    "x-path:/html/body/ytd-app/div[1]/ytd-page-manager/ytd-watch-flexy/div[5]/div[1]/div/div[1]/div[2]/div/div/ytd-player/div/div/div[24]/div/div[1]/span"
   ]
  },
  {
   "cell_type": "code",
   "execution_count": 50,
   "id": "1247272c-20d3-4f9a-8699-ff96ebc763b7",
   "metadata": {},
   "outputs": [],
   "source": [
    "from selenium import webdriver\n",
    "from selenium.webdriver.chrome.options import Options\n",
    "# import chromedriver_binary\n",
    "\n",
    "options = Options()\n",
    "# linux上で動かすときは次の2つも実行してください。\n",
    "# options.add_argument('--headless')\n",
    "# options.add_argument('--no-sandbox')\n",
    "\n",
    "driver = webdriver.Chrome(options=options)\n",
    "\n",
    "\n",
    "url = \"https://www.youtube.com/watch?v=K8_hIOdWke8\"\n",
    "driver.get(url)\n"
   ]
  },
  {
   "cell_type": "code",
   "execution_count": 65,
   "id": "ea51cb3d",
   "metadata": {},
   "outputs": [],
   "source": [
    "# <a class=\"yt-spec-button-shape-next yt-spec-button-shape-next--filled yt-spec-button-shape-next--call-to-action yt-spec-button-shape-next--size-m\" aria-label=\"ヒーローよ\" title=\"\" href=\"https://www.googleadservices.com/pagead/aclk?sa=L&amp;ai=CKvFCgzwhZvDjHOadvcAPuJiLoA6etNz2dtWe8OayErCQHxABIABgiavUhKwUggEXY2EtcHViLTYyMTk4MTE3NDcwNDkzNzGgAZyv-6gCqAMEqgSOA0_QJYzCxQJwKkp6GEAacWuBTBLcxAt9pF0_omSt3vigHgupnYvPFHXrwMZNWqnqjCIqcMpFlCNVknC90K78kKd0YTCK8GdujioKYZftplWZGWEYfgdOZpFpciJq2Sn08uNmZuIKYL90a2SELiLVCTBDmbF0szup6c8rYbXW0OjIjImZEofbfDmjaACdPDbRmAvtkUjvVyeOchCehLvyPAJYIr11kCohmUiGoSAu4cOp99en1U1kVdPq7ynSOGjpXbHErMeaVkd_LrM9LWIPqDNR9ssBufaU4YY80fUT_SlBg4J17TsUXiX6xjy7oeaXdqm-Yh14WB07QM68yPy4ndOGANIDhcOh2ckcLEqIif0FkAYzJOLucknuxluhlQBrf6KjQK-0S7mXG9ETgfLCvmTtWqC64w4JZAC2ozzScPARbjLIurjk9EhUAO6xcFJakPSsJh_UTzevXbjmyNwaC-kQJr5VfcxNuHcjhOWyrm_Jed5KlQzYJ3yEnSS3u8hdw85kH9sPhe62ZaoS0-zjoAZUgAfM0ITXAZAHBKgH67axAqgH-bGxAqgHgLqxAqgH2LexAqgH552xAqgH6J2xAqgH6rexAqgHp7WxAqgH77WxAqgH8LWxAqgHgqqxAqgHhAioB6jSG6gHtgeoB6SasQKoB5GfsQKoB7CbsQKoB66xsQKoB-a8sQKoB6aqsQKoB8q6sQKoB_2ysQKoB6i9sQKoB8O9sQKoB_e4sQKoB_i4sQKoB4HGG6gH_K-xAqgHq8UbqAec3BuoB-adsQKoB8ifsQKoB7ehsQKoB961sQKoB-qxsQKoB763sQKoB5m1sQKoB-ulsQKoB8qpsQKSCAs5aThieHlPYWV0OKgIAdIIJQiAQRABGF4yAoICOgiAQoDAgICAIEjZoNI1UBRYyJ30rIrMhQPyCB9jYS15dC1ob3N0LXB1Yi05Njk4MzM2MzE2NDc5Nzc0mgkaaHR0cHM6Ly93d3cuaGVyby13YXJzLmNvbS-xCXUj1WeSUFEnyAkYyAmPAcgJkAGYCwGhC7zhqtZebo9Ougs9CAEQARgFIAEoATAQQAFIAWAAaABwAogBAJgBAaIBEgoAGAAgAFgBYABwAagCAdgCAqgBAdgBAYACAYgCBdALEtoMHwoKEODj3fmWge69KhICAQMaDRiE7o6oTCDJ1pTYsASaDQESoA0Bqg0CSlC4E____________wGIFAGwFAHAFcmAgEDQFQHYFQGQFgGYFgHiFgIIAYAXAYoXGAgDGAEgASgBMAE4AUABSAFQAVgBYAJwAaAXAakXvsk9g8ywYye6FwQoADAA&amp;ase=2&amp;num=1&amp;cid=CAASFeRoisq5zpscDdyaDyq4n1Mh7lj21w&amp;ad_cpn=%5BAD_CPN%5D&amp;sig=AOD64_0LloNuvOF8p3FNrQJa3g5qumbt3Q&amp;ms=[CLICK_MS]&amp;adurl=https://www.hero-wars.com/%3Fhl%3Dja%26delayedsignup%3Dtrue%26nx_source%3Dadx_adwordsyoutube.hw_wb_ut_-.cc-ww_jp.g-all.a-2554.au-all.opt-purchase.com-newac.lp-delayed.cr-hw_dungeonrooms42c_h_en_122.dt-youtube.cid-20485224196.agid-150508743497.csd-020424.-&amp;label=video_click_to_advertiser_site&amp;ctype=110\" target=\"_blank\" force-new-state=\"true\" style=\"\"><div class=\"yt-spec-button-shape-next__button-text-content\"><span class=\"yt-core-attributed-string yt-core-attributed-string--white-space-no-wrap\" role=\"text\">ヒーローよ</span></div><yt-touch-feedback-shape style=\"border-radius: inherit;\"><div class=\"yt-spec-touch-feedback-shape yt-spec-touch-feedback-shape--touch-response-inverse\" aria-hidden=\"true\"><div class=\"yt-spec-touch-feedback-shape__stroke\" style=\"\"></div><div class=\"yt-spec-touch-feedback-shape__fill\" style=\"\"></div></div></yt-touch-feedback-shape></a>\n",
    "# class属性値が'MV3Tnb'であるaタグを探索\n",
    "xpath = \"/html/body/ytd-app/div[1]/ytd-page-manager/ytd-watch-flexy/div[5]/div[1]/div/div[2]/div[11]/div[1]/ytd-player-legacy-desktop-watch-ads-renderer/ytd-companion-slot-renderer/div/top-banner-image-text-icon-buttoned-layout-view-model/div[2]/ad-button-view-model/a\"\n",
    "result = driver.find_elements(by=By.XPATH, value=xpath)\n",
    "\n",
    "# 取得した要素のHTMLを表示\n",
    "for element in result:\n",
    "    print(element.get_attribute(\"href\"))\n",
    "\n",
    "xpath = \"/html/body/ytd-app/div[1]/ytd-page-manager/ytd-watch-flexy/div[5]/div[1]/div/div[1]/div[2]/div/div/ytd-player/div/div/div[24]/div/div[1]/span\"\n",
    "result = driver.find_elements(by=By.XPATH, value=xpath)\n",
    "\n",
    "# 取得した要素のHTMLを表示\n",
    "for element in result:\n",
    "    print(element.get_attribute(\"innerHTML\"))\n"
   ]
  },
  {
   "cell_type": "code",
   "execution_count": 76,
   "id": "4936e24a",
   "metadata": {},
   "outputs": [],
   "source": [
    "fruits = driver.find_elements(By.TAG_NAME, \"span\")\n",
    "# fruit = fruits.find_element(By.CLASS_NAME,\"ytp-ad-button-vm\")"
   ]
  },
  {
   "cell_type": "code",
   "execution_count": 77,
   "id": "08e9208f",
   "metadata": {},
   "outputs": [
    {
     "name": "stdout",
     "output_type": "stream",
     "text": [
      "<selenium.webdriver.remote.webelement.WebElement (session=\"0e538163478ca9ec4c2c031f9d1ca6cd\", element=\"f.48B536DBBFEEF83CB53B66AC3835080B.d.5F40CDB2A35F8F7A0D0E6B48472567C5.e.719\")>\n",
      "<selenium.webdriver.remote.webelement.WebElement (session=\"0e538163478ca9ec4c2c031f9d1ca6cd\", element=\"f.48B536DBBFEEF83CB53B66AC3835080B.d.5F40CDB2A35F8F7A0D0E6B48472567C5.e.723\")>\n",
      "<selenium.webdriver.remote.webelement.WebElement (session=\"0e538163478ca9ec4c2c031f9d1ca6cd\", element=\"f.48B536DBBFEEF83CB53B66AC3835080B.d.5F40CDB2A35F8F7A0D0E6B48472567C5.e.993\")>\n",
      "<selenium.webdriver.remote.webelement.WebElement (session=\"0e538163478ca9ec4c2c031f9d1ca6cd\", element=\"f.48B536DBBFEEF83CB53B66AC3835080B.d.5F40CDB2A35F8F7A0D0E6B48472567C5.e.995\")>\n",
      "<selenium.webdriver.remote.webelement.WebElement (session=\"0e538163478ca9ec4c2c031f9d1ca6cd\", element=\"f.48B536DBBFEEF83CB53B66AC3835080B.d.5F40CDB2A35F8F7A0D0E6B48472567C5.e.903\")>\n",
      "<selenium.webdriver.remote.webelement.WebElement (session=\"0e538163478ca9ec4c2c031f9d1ca6cd\", element=\"f.48B536DBBFEEF83CB53B66AC3835080B.d.5F40CDB2A35F8F7A0D0E6B48472567C5.e.910\")>\n",
      "<selenium.webdriver.remote.webelement.WebElement (session=\"0e538163478ca9ec4c2c031f9d1ca6cd\", element=\"f.48B536DBBFEEF83CB53B66AC3835080B.d.5F40CDB2A35F8F7A0D0E6B48472567C5.e.971\")>\n",
      "<selenium.webdriver.remote.webelement.WebElement (session=\"0e538163478ca9ec4c2c031f9d1ca6cd\", element=\"f.48B536DBBFEEF83CB53B66AC3835080B.d.5F40CDB2A35F8F7A0D0E6B48472567C5.e.1205\")>\n",
      "<selenium.webdriver.remote.webelement.WebElement (session=\"0e538163478ca9ec4c2c031f9d1ca6cd\", element=\"f.48B536DBBFEEF83CB53B66AC3835080B.d.5F40CDB2A35F8F7A0D0E6B48472567C5.e.1220\")>\n",
      "<selenium.webdriver.remote.webelement.WebElement (session=\"0e538163478ca9ec4c2c031f9d1ca6cd\", element=\"f.48B536DBBFEEF83CB53B66AC3835080B.d.5F40CDB2A35F8F7A0D0E6B48472567C5.e.941\")>\n",
      "<selenium.webdriver.remote.webelement.WebElement (session=\"0e538163478ca9ec4c2c031f9d1ca6cd\", element=\"f.48B536DBBFEEF83CB53B66AC3835080B.d.5F40CDB2A35F8F7A0D0E6B48472567C5.e.2525\")>\n",
      "<selenium.webdriver.remote.webelement.WebElement (session=\"0e538163478ca9ec4c2c031f9d1ca6cd\", element=\"f.48B536DBBFEEF83CB53B66AC3835080B.d.5F40CDB2A35F8F7A0D0E6B48472567C5.e.2533\")>\n",
      "<selenium.webdriver.remote.webelement.WebElement (session=\"0e538163478ca9ec4c2c031f9d1ca6cd\", element=\"f.48B536DBBFEEF83CB53B66AC3835080B.d.5F40CDB2A35F8F7A0D0E6B48472567C5.e.710\")>\n",
      "<selenium.webdriver.remote.webelement.WebElement (session=\"0e538163478ca9ec4c2c031f9d1ca6cd\", element=\"f.48B536DBBFEEF83CB53B66AC3835080B.d.5F40CDB2A35F8F7A0D0E6B48472567C5.e.474\")>\n",
      "<selenium.webdriver.remote.webelement.WebElement (session=\"0e538163478ca9ec4c2c031f9d1ca6cd\", element=\"f.48B536DBBFEEF83CB53B66AC3835080B.d.5F40CDB2A35F8F7A0D0E6B48472567C5.e.475\")>\n",
      "<selenium.webdriver.remote.webelement.WebElement (session=\"0e538163478ca9ec4c2c031f9d1ca6cd\", element=\"f.48B536DBBFEEF83CB53B66AC3835080B.d.5F40CDB2A35F8F7A0D0E6B48472567C5.e.476\")>\n",
      "<selenium.webdriver.remote.webelement.WebElement (session=\"0e538163478ca9ec4c2c031f9d1ca6cd\", element=\"f.48B536DBBFEEF83CB53B66AC3835080B.d.5F40CDB2A35F8F7A0D0E6B48472567C5.e.485\")>\n",
      "<selenium.webdriver.remote.webelement.WebElement (session=\"0e538163478ca9ec4c2c031f9d1ca6cd\", element=\"f.48B536DBBFEEF83CB53B66AC3835080B.d.5F40CDB2A35F8F7A0D0E6B48472567C5.e.488\")>\n",
      "<selenium.webdriver.remote.webelement.WebElement (session=\"0e538163478ca9ec4c2c031f9d1ca6cd\", element=\"f.48B536DBBFEEF83CB53B66AC3835080B.d.5F40CDB2A35F8F7A0D0E6B48472567C5.e.489\")>\n",
      "<selenium.webdriver.remote.webelement.WebElement (session=\"0e538163478ca9ec4c2c031f9d1ca6cd\", element=\"f.48B536DBBFEEF83CB53B66AC3835080B.d.5F40CDB2A35F8F7A0D0E6B48472567C5.e.499\")>\n",
      "<selenium.webdriver.remote.webelement.WebElement (session=\"0e538163478ca9ec4c2c031f9d1ca6cd\", element=\"f.48B536DBBFEEF83CB53B66AC3835080B.d.5F40CDB2A35F8F7A0D0E6B48472567C5.e.500\")>\n",
      "<selenium.webdriver.remote.webelement.WebElement (session=\"0e538163478ca9ec4c2c031f9d1ca6cd\", element=\"f.48B536DBBFEEF83CB53B66AC3835080B.d.5F40CDB2A35F8F7A0D0E6B48472567C5.e.502\")>\n",
      "<selenium.webdriver.remote.webelement.WebElement (session=\"0e538163478ca9ec4c2c031f9d1ca6cd\", element=\"f.48B536DBBFEEF83CB53B66AC3835080B.d.5F40CDB2A35F8F7A0D0E6B48472567C5.e.6535\")>\n",
      "<selenium.webdriver.remote.webelement.WebElement (session=\"0e538163478ca9ec4c2c031f9d1ca6cd\", element=\"f.48B536DBBFEEF83CB53B66AC3835080B.d.5F40CDB2A35F8F7A0D0E6B48472567C5.e.5109\")>\n",
      "<selenium.webdriver.remote.webelement.WebElement (session=\"0e538163478ca9ec4c2c031f9d1ca6cd\", element=\"f.48B536DBBFEEF83CB53B66AC3835080B.d.5F40CDB2A35F8F7A0D0E6B48472567C5.e.5110\")>\n",
      "<selenium.webdriver.remote.webelement.WebElement (session=\"0e538163478ca9ec4c2c031f9d1ca6cd\", element=\"f.48B536DBBFEEF83CB53B66AC3835080B.d.5F40CDB2A35F8F7A0D0E6B48472567C5.e.5111\")>\n",
      "<selenium.webdriver.remote.webelement.WebElement (session=\"0e538163478ca9ec4c2c031f9d1ca6cd\", element=\"f.48B536DBBFEEF83CB53B66AC3835080B.d.5F40CDB2A35F8F7A0D0E6B48472567C5.e.5113\")>\n",
      "<selenium.webdriver.remote.webelement.WebElement (session=\"0e538163478ca9ec4c2c031f9d1ca6cd\", element=\"f.48B536DBBFEEF83CB53B66AC3835080B.d.5F40CDB2A35F8F7A0D0E6B48472567C5.e.6228\")>\n",
      "<selenium.webdriver.remote.webelement.WebElement (session=\"0e538163478ca9ec4c2c031f9d1ca6cd\", element=\"f.48B536DBBFEEF83CB53B66AC3835080B.d.5F40CDB2A35F8F7A0D0E6B48472567C5.e.6540\")>\n",
      "<selenium.webdriver.remote.webelement.WebElement (session=\"0e538163478ca9ec4c2c031f9d1ca6cd\", element=\"f.48B536DBBFEEF83CB53B66AC3835080B.d.5F40CDB2A35F8F7A0D0E6B48472567C5.e.531\")>\n",
      "<selenium.webdriver.remote.webelement.WebElement (session=\"0e538163478ca9ec4c2c031f9d1ca6cd\", element=\"f.48B536DBBFEEF83CB53B66AC3835080B.d.5F40CDB2A35F8F7A0D0E6B48472567C5.e.536\")>\n",
      "<selenium.webdriver.remote.webelement.WebElement (session=\"0e538163478ca9ec4c2c031f9d1ca6cd\", element=\"f.48B536DBBFEEF83CB53B66AC3835080B.d.5F40CDB2A35F8F7A0D0E6B48472567C5.e.541\")>\n",
      "<selenium.webdriver.remote.webelement.WebElement (session=\"0e538163478ca9ec4c2c031f9d1ca6cd\", element=\"f.48B536DBBFEEF83CB53B66AC3835080B.d.5F40CDB2A35F8F7A0D0E6B48472567C5.e.546\")>\n",
      "<selenium.webdriver.remote.webelement.WebElement (session=\"0e538163478ca9ec4c2c031f9d1ca6cd\", element=\"f.48B536DBBFEEF83CB53B66AC3835080B.d.5F40CDB2A35F8F7A0D0E6B48472567C5.e.551\")>\n",
      "<selenium.webdriver.remote.webelement.WebElement (session=\"0e538163478ca9ec4c2c031f9d1ca6cd\", element=\"f.48B536DBBFEEF83CB53B66AC3835080B.d.5F40CDB2A35F8F7A0D0E6B48472567C5.e.556\")>\n",
      "<selenium.webdriver.remote.webelement.WebElement (session=\"0e538163478ca9ec4c2c031f9d1ca6cd\", element=\"f.48B536DBBFEEF83CB53B66AC3835080B.d.5F40CDB2A35F8F7A0D0E6B48472567C5.e.560\")>\n",
      "<selenium.webdriver.remote.webelement.WebElement (session=\"0e538163478ca9ec4c2c031f9d1ca6cd\", element=\"f.48B536DBBFEEF83CB53B66AC3835080B.d.5F40CDB2A35F8F7A0D0E6B48472567C5.e.565\")>\n",
      "<selenium.webdriver.remote.webelement.WebElement (session=\"0e538163478ca9ec4c2c031f9d1ca6cd\", element=\"f.48B536DBBFEEF83CB53B66AC3835080B.d.5F40CDB2A35F8F7A0D0E6B48472567C5.e.569\")>\n",
      "<selenium.webdriver.remote.webelement.WebElement (session=\"0e538163478ca9ec4c2c031f9d1ca6cd\", element=\"f.48B536DBBFEEF83CB53B66AC3835080B.d.5F40CDB2A35F8F7A0D0E6B48472567C5.e.570\")>\n",
      "<selenium.webdriver.remote.webelement.WebElement (session=\"0e538163478ca9ec4c2c031f9d1ca6cd\", element=\"f.48B536DBBFEEF83CB53B66AC3835080B.d.5F40CDB2A35F8F7A0D0E6B48472567C5.e.573\")>\n",
      "<selenium.webdriver.remote.webelement.WebElement (session=\"0e538163478ca9ec4c2c031f9d1ca6cd\", element=\"f.48B536DBBFEEF83CB53B66AC3835080B.d.5F40CDB2A35F8F7A0D0E6B48472567C5.e.578\")>\n",
      "<selenium.webdriver.remote.webelement.WebElement (session=\"0e538163478ca9ec4c2c031f9d1ca6cd\", element=\"f.48B536DBBFEEF83CB53B66AC3835080B.d.5F40CDB2A35F8F7A0D0E6B48472567C5.e.579\")>\n",
      "<selenium.webdriver.remote.webelement.WebElement (session=\"0e538163478ca9ec4c2c031f9d1ca6cd\", element=\"f.48B536DBBFEEF83CB53B66AC3835080B.d.5F40CDB2A35F8F7A0D0E6B48472567C5.e.582\")>\n",
      "<selenium.webdriver.remote.webelement.WebElement (session=\"0e538163478ca9ec4c2c031f9d1ca6cd\", element=\"f.48B536DBBFEEF83CB53B66AC3835080B.d.5F40CDB2A35F8F7A0D0E6B48472567C5.e.587\")>\n",
      "<selenium.webdriver.remote.webelement.WebElement (session=\"0e538163478ca9ec4c2c031f9d1ca6cd\", element=\"f.48B536DBBFEEF83CB53B66AC3835080B.d.5F40CDB2A35F8F7A0D0E6B48472567C5.e.588\")>\n",
      "<selenium.webdriver.remote.webelement.WebElement (session=\"0e538163478ca9ec4c2c031f9d1ca6cd\", element=\"f.48B536DBBFEEF83CB53B66AC3835080B.d.5F40CDB2A35F8F7A0D0E6B48472567C5.e.591\")>\n",
      "<selenium.webdriver.remote.webelement.WebElement (session=\"0e538163478ca9ec4c2c031f9d1ca6cd\", element=\"f.48B536DBBFEEF83CB53B66AC3835080B.d.5F40CDB2A35F8F7A0D0E6B48472567C5.e.596\")>\n",
      "<selenium.webdriver.remote.webelement.WebElement (session=\"0e538163478ca9ec4c2c031f9d1ca6cd\", element=\"f.48B536DBBFEEF83CB53B66AC3835080B.d.5F40CDB2A35F8F7A0D0E6B48472567C5.e.597\")>\n",
      "<selenium.webdriver.remote.webelement.WebElement (session=\"0e538163478ca9ec4c2c031f9d1ca6cd\", element=\"f.48B536DBBFEEF83CB53B66AC3835080B.d.5F40CDB2A35F8F7A0D0E6B48472567C5.e.600\")>\n",
      "<selenium.webdriver.remote.webelement.WebElement (session=\"0e538163478ca9ec4c2c031f9d1ca6cd\", element=\"f.48B536DBBFEEF83CB53B66AC3835080B.d.5F40CDB2A35F8F7A0D0E6B48472567C5.e.604\")>\n",
      "<selenium.webdriver.remote.webelement.WebElement (session=\"0e538163478ca9ec4c2c031f9d1ca6cd\", element=\"f.48B536DBBFEEF83CB53B66AC3835080B.d.5F40CDB2A35F8F7A0D0E6B48472567C5.e.608\")>\n",
      "<selenium.webdriver.remote.webelement.WebElement (session=\"0e538163478ca9ec4c2c031f9d1ca6cd\", element=\"f.48B536DBBFEEF83CB53B66AC3835080B.d.5F40CDB2A35F8F7A0D0E6B48472567C5.e.612\")>\n",
      "<selenium.webdriver.remote.webelement.WebElement (session=\"0e538163478ca9ec4c2c031f9d1ca6cd\", element=\"f.48B536DBBFEEF83CB53B66AC3835080B.d.5F40CDB2A35F8F7A0D0E6B48472567C5.e.616\")>\n",
      "<selenium.webdriver.remote.webelement.WebElement (session=\"0e538163478ca9ec4c2c031f9d1ca6cd\", element=\"f.48B536DBBFEEF83CB53B66AC3835080B.d.5F40CDB2A35F8F7A0D0E6B48472567C5.e.617\")>\n",
      "<selenium.webdriver.remote.webelement.WebElement (session=\"0e538163478ca9ec4c2c031f9d1ca6cd\", element=\"f.48B536DBBFEEF83CB53B66AC3835080B.d.5F40CDB2A35F8F7A0D0E6B48472567C5.e.621\")>\n",
      "<selenium.webdriver.remote.webelement.WebElement (session=\"0e538163478ca9ec4c2c031f9d1ca6cd\", element=\"f.48B536DBBFEEF83CB53B66AC3835080B.d.5F40CDB2A35F8F7A0D0E6B48472567C5.e.626\")>\n",
      "<selenium.webdriver.remote.webelement.WebElement (session=\"0e538163478ca9ec4c2c031f9d1ca6cd\", element=\"f.48B536DBBFEEF83CB53B66AC3835080B.d.5F40CDB2A35F8F7A0D0E6B48472567C5.e.630\")>\n",
      "<selenium.webdriver.remote.webelement.WebElement (session=\"0e538163478ca9ec4c2c031f9d1ca6cd\", element=\"f.48B536DBBFEEF83CB53B66AC3835080B.d.5F40CDB2A35F8F7A0D0E6B48472567C5.e.243\")>\n",
      "<selenium.webdriver.remote.webelement.WebElement (session=\"0e538163478ca9ec4c2c031f9d1ca6cd\", element=\"f.48B536DBBFEEF83CB53B66AC3835080B.d.5F40CDB2A35F8F7A0D0E6B48472567C5.e.2944\")>\n",
      "<selenium.webdriver.remote.webelement.WebElement (session=\"0e538163478ca9ec4c2c031f9d1ca6cd\", element=\"f.48B536DBBFEEF83CB53B66AC3835080B.d.5F40CDB2A35F8F7A0D0E6B48472567C5.e.2947\")>\n",
      "<selenium.webdriver.remote.webelement.WebElement (session=\"0e538163478ca9ec4c2c031f9d1ca6cd\", element=\"f.48B536DBBFEEF83CB53B66AC3835080B.d.5F40CDB2A35F8F7A0D0E6B48472567C5.e.2948\")>\n",
      "<selenium.webdriver.remote.webelement.WebElement (session=\"0e538163478ca9ec4c2c031f9d1ca6cd\", element=\"f.48B536DBBFEEF83CB53B66AC3835080B.d.5F40CDB2A35F8F7A0D0E6B48472567C5.e.2949\")>\n",
      "<selenium.webdriver.remote.webelement.WebElement (session=\"0e538163478ca9ec4c2c031f9d1ca6cd\", element=\"f.48B536DBBFEEF83CB53B66AC3835080B.d.5F40CDB2A35F8F7A0D0E6B48472567C5.e.2950\")>\n",
      "<selenium.webdriver.remote.webelement.WebElement (session=\"0e538163478ca9ec4c2c031f9d1ca6cd\", element=\"f.48B536DBBFEEF83CB53B66AC3835080B.d.5F40CDB2A35F8F7A0D0E6B48472567C5.e.2951\")>\n",
      "<selenium.webdriver.remote.webelement.WebElement (session=\"0e538163478ca9ec4c2c031f9d1ca6cd\", element=\"f.48B536DBBFEEF83CB53B66AC3835080B.d.5F40CDB2A35F8F7A0D0E6B48472567C5.e.2953\")>\n",
      "<selenium.webdriver.remote.webelement.WebElement (session=\"0e538163478ca9ec4c2c031f9d1ca6cd\", element=\"f.48B536DBBFEEF83CB53B66AC3835080B.d.5F40CDB2A35F8F7A0D0E6B48472567C5.e.2572\")>\n",
      "<selenium.webdriver.remote.webelement.WebElement (session=\"0e538163478ca9ec4c2c031f9d1ca6cd\", element=\"f.48B536DBBFEEF83CB53B66AC3835080B.d.5F40CDB2A35F8F7A0D0E6B48472567C5.e.2580\")>\n",
      "<selenium.webdriver.remote.webelement.WebElement (session=\"0e538163478ca9ec4c2c031f9d1ca6cd\", element=\"f.48B536DBBFEEF83CB53B66AC3835080B.d.5F40CDB2A35F8F7A0D0E6B48472567C5.e.3436\")>\n",
      "<selenium.webdriver.remote.webelement.WebElement (session=\"0e538163478ca9ec4c2c031f9d1ca6cd\", element=\"f.48B536DBBFEEF83CB53B66AC3835080B.d.5F40CDB2A35F8F7A0D0E6B48472567C5.e.4279\")>\n",
      "<selenium.webdriver.remote.webelement.WebElement (session=\"0e538163478ca9ec4c2c031f9d1ca6cd\", element=\"f.48B536DBBFEEF83CB53B66AC3835080B.d.5F40CDB2A35F8F7A0D0E6B48472567C5.e.6809\")>\n",
      "<selenium.webdriver.remote.webelement.WebElement (session=\"0e538163478ca9ec4c2c031f9d1ca6cd\", element=\"f.48B536DBBFEEF83CB53B66AC3835080B.d.5F40CDB2A35F8F7A0D0E6B48472567C5.e.2316\")>\n",
      "<selenium.webdriver.remote.webelement.WebElement (session=\"0e538163478ca9ec4c2c031f9d1ca6cd\", element=\"f.48B536DBBFEEF83CB53B66AC3835080B.d.5F40CDB2A35F8F7A0D0E6B48472567C5.e.2317\")>\n",
      "<selenium.webdriver.remote.webelement.WebElement (session=\"0e538163478ca9ec4c2c031f9d1ca6cd\", element=\"f.48B536DBBFEEF83CB53B66AC3835080B.d.5F40CDB2A35F8F7A0D0E6B48472567C5.e.2318\")>\n",
      "<selenium.webdriver.remote.webelement.WebElement (session=\"0e538163478ca9ec4c2c031f9d1ca6cd\", element=\"f.48B536DBBFEEF83CB53B66AC3835080B.d.5F40CDB2A35F8F7A0D0E6B48472567C5.e.5646\")>\n",
      "<selenium.webdriver.remote.webelement.WebElement (session=\"0e538163478ca9ec4c2c031f9d1ca6cd\", element=\"f.48B536DBBFEEF83CB53B66AC3835080B.d.5F40CDB2A35F8F7A0D0E6B48472567C5.e.5648\")>\n",
      "<selenium.webdriver.remote.webelement.WebElement (session=\"0e538163478ca9ec4c2c031f9d1ca6cd\", element=\"f.48B536DBBFEEF83CB53B66AC3835080B.d.5F40CDB2A35F8F7A0D0E6B48472567C5.e.2021\")>\n",
      "<selenium.webdriver.remote.webelement.WebElement (session=\"0e538163478ca9ec4c2c031f9d1ca6cd\", element=\"f.48B536DBBFEEF83CB53B66AC3835080B.d.5F40CDB2A35F8F7A0D0E6B48472567C5.e.2321\")>\n",
      "<selenium.webdriver.remote.webelement.WebElement (session=\"0e538163478ca9ec4c2c031f9d1ca6cd\", element=\"f.48B536DBBFEEF83CB53B66AC3835080B.d.5F40CDB2A35F8F7A0D0E6B48472567C5.e.5911\")>\n",
      "<selenium.webdriver.remote.webelement.WebElement (session=\"0e538163478ca9ec4c2c031f9d1ca6cd\", element=\"f.48B536DBBFEEF83CB53B66AC3835080B.d.5F40CDB2A35F8F7A0D0E6B48472567C5.e.6242\")>\n",
      "<selenium.webdriver.remote.webelement.WebElement (session=\"0e538163478ca9ec4c2c031f9d1ca6cd\", element=\"f.48B536DBBFEEF83CB53B66AC3835080B.d.5F40CDB2A35F8F7A0D0E6B48472567C5.e.6244\")>\n",
      "<selenium.webdriver.remote.webelement.WebElement (session=\"0e538163478ca9ec4c2c031f9d1ca6cd\", element=\"f.48B536DBBFEEF83CB53B66AC3835080B.d.5F40CDB2A35F8F7A0D0E6B48472567C5.e.6246\")>\n",
      "<selenium.webdriver.remote.webelement.WebElement (session=\"0e538163478ca9ec4c2c031f9d1ca6cd\", element=\"f.48B536DBBFEEF83CB53B66AC3835080B.d.5F40CDB2A35F8F7A0D0E6B48472567C5.e.2022\")>\n",
      "<selenium.webdriver.remote.webelement.WebElement (session=\"0e538163478ca9ec4c2c031f9d1ca6cd\", element=\"f.48B536DBBFEEF83CB53B66AC3835080B.d.5F40CDB2A35F8F7A0D0E6B48472567C5.e.2023\")>\n",
      "<selenium.webdriver.remote.webelement.WebElement (session=\"0e538163478ca9ec4c2c031f9d1ca6cd\", element=\"f.48B536DBBFEEF83CB53B66AC3835080B.d.5F40CDB2A35F8F7A0D0E6B48472567C5.e.7042\")>\n",
      "<selenium.webdriver.remote.webelement.WebElement (session=\"0e538163478ca9ec4c2c031f9d1ca6cd\", element=\"f.48B536DBBFEEF83CB53B66AC3835080B.d.5F40CDB2A35F8F7A0D0E6B48472567C5.e.7043\")>\n",
      "<selenium.webdriver.remote.webelement.WebElement (session=\"0e538163478ca9ec4c2c031f9d1ca6cd\", element=\"f.48B536DBBFEEF83CB53B66AC3835080B.d.5F40CDB2A35F8F7A0D0E6B48472567C5.e.7045\")>\n",
      "<selenium.webdriver.remote.webelement.WebElement (session=\"0e538163478ca9ec4c2c031f9d1ca6cd\", element=\"f.48B536DBBFEEF83CB53B66AC3835080B.d.5F40CDB2A35F8F7A0D0E6B48472567C5.e.7190\")>\n",
      "<selenium.webdriver.remote.webelement.WebElement (session=\"0e538163478ca9ec4c2c031f9d1ca6cd\", element=\"f.48B536DBBFEEF83CB53B66AC3835080B.d.5F40CDB2A35F8F7A0D0E6B48472567C5.e.4554\")>\n",
      "<selenium.webdriver.remote.webelement.WebElement (session=\"0e538163478ca9ec4c2c031f9d1ca6cd\", element=\"f.48B536DBBFEEF83CB53B66AC3835080B.d.5F40CDB2A35F8F7A0D0E6B48472567C5.e.4560\")>\n",
      "<selenium.webdriver.remote.webelement.WebElement (session=\"0e538163478ca9ec4c2c031f9d1ca6cd\", element=\"f.48B536DBBFEEF83CB53B66AC3835080B.d.5F40CDB2A35F8F7A0D0E6B48472567C5.e.4567\")>\n",
      "<selenium.webdriver.remote.webelement.WebElement (session=\"0e538163478ca9ec4c2c031f9d1ca6cd\", element=\"f.48B536DBBFEEF83CB53B66AC3835080B.d.5F40CDB2A35F8F7A0D0E6B48472567C5.e.4573\")>\n",
      "<selenium.webdriver.remote.webelement.WebElement (session=\"0e538163478ca9ec4c2c031f9d1ca6cd\", element=\"f.48B536DBBFEEF83CB53B66AC3835080B.d.5F40CDB2A35F8F7A0D0E6B48472567C5.e.5320\")>\n",
      "<selenium.webdriver.remote.webelement.WebElement (session=\"0e538163478ca9ec4c2c031f9d1ca6cd\", element=\"f.48B536DBBFEEF83CB53B66AC3835080B.d.5F40CDB2A35F8F7A0D0E6B48472567C5.e.1573\")>\n",
      "<selenium.webdriver.remote.webelement.WebElement (session=\"0e538163478ca9ec4c2c031f9d1ca6cd\", element=\"f.48B536DBBFEEF83CB53B66AC3835080B.d.5F40CDB2A35F8F7A0D0E6B48472567C5.e.1574\")>\n",
      "<selenium.webdriver.remote.webelement.WebElement (session=\"0e538163478ca9ec4c2c031f9d1ca6cd\", element=\"f.48B536DBBFEEF83CB53B66AC3835080B.d.5F40CDB2A35F8F7A0D0E6B48472567C5.e.1409\")>\n",
      "<selenium.webdriver.remote.webelement.WebElement (session=\"0e538163478ca9ec4c2c031f9d1ca6cd\", element=\"f.48B536DBBFEEF83CB53B66AC3835080B.d.5F40CDB2A35F8F7A0D0E6B48472567C5.e.3050\")>\n",
      "<selenium.webdriver.remote.webelement.WebElement (session=\"0e538163478ca9ec4c2c031f9d1ca6cd\", element=\"f.48B536DBBFEEF83CB53B66AC3835080B.d.5F40CDB2A35F8F7A0D0E6B48472567C5.e.5651\")>\n",
      "<selenium.webdriver.remote.webelement.WebElement (session=\"0e538163478ca9ec4c2c031f9d1ca6cd\", element=\"f.48B536DBBFEEF83CB53B66AC3835080B.d.5F40CDB2A35F8F7A0D0E6B48472567C5.e.5652\")>\n",
      "<selenium.webdriver.remote.webelement.WebElement (session=\"0e538163478ca9ec4c2c031f9d1ca6cd\", element=\"f.48B536DBBFEEF83CB53B66AC3835080B.d.5F40CDB2A35F8F7A0D0E6B48472567C5.e.5426\")>\n",
      "<selenium.webdriver.remote.webelement.WebElement (session=\"0e538163478ca9ec4c2c031f9d1ca6cd\", element=\"f.48B536DBBFEEF83CB53B66AC3835080B.d.5F40CDB2A35F8F7A0D0E6B48472567C5.e.7507\")>\n",
      "<selenium.webdriver.remote.webelement.WebElement (session=\"0e538163478ca9ec4c2c031f9d1ca6cd\", element=\"f.48B536DBBFEEF83CB53B66AC3835080B.d.5F40CDB2A35F8F7A0D0E6B48472567C5.e.7511\")>\n",
      "<selenium.webdriver.remote.webelement.WebElement (session=\"0e538163478ca9ec4c2c031f9d1ca6cd\", element=\"f.48B536DBBFEEF83CB53B66AC3835080B.d.5F40CDB2A35F8F7A0D0E6B48472567C5.e.6571\")>\n",
      "<selenium.webdriver.remote.webelement.WebElement (session=\"0e538163478ca9ec4c2c031f9d1ca6cd\", element=\"f.48B536DBBFEEF83CB53B66AC3835080B.d.5F40CDB2A35F8F7A0D0E6B48472567C5.e.5923\")>\n",
      "<selenium.webdriver.remote.webelement.WebElement (session=\"0e538163478ca9ec4c2c031f9d1ca6cd\", element=\"f.48B536DBBFEEF83CB53B66AC3835080B.d.5F40CDB2A35F8F7A0D0E6B48472567C5.e.5924\")>\n",
      "<selenium.webdriver.remote.webelement.WebElement (session=\"0e538163478ca9ec4c2c031f9d1ca6cd\", element=\"f.48B536DBBFEEF83CB53B66AC3835080B.d.5F40CDB2A35F8F7A0D0E6B48472567C5.e.5925\")>\n",
      "<selenium.webdriver.remote.webelement.WebElement (session=\"0e538163478ca9ec4c2c031f9d1ca6cd\", element=\"f.48B536DBBFEEF83CB53B66AC3835080B.d.5F40CDB2A35F8F7A0D0E6B48472567C5.e.6576\")>\n",
      "<selenium.webdriver.remote.webelement.WebElement (session=\"0e538163478ca9ec4c2c031f9d1ca6cd\", element=\"f.48B536DBBFEEF83CB53B66AC3835080B.d.5F40CDB2A35F8F7A0D0E6B48472567C5.e.6263\")>\n",
      "<selenium.webdriver.remote.webelement.WebElement (session=\"0e538163478ca9ec4c2c031f9d1ca6cd\", element=\"f.48B536DBBFEEF83CB53B66AC3835080B.d.5F40CDB2A35F8F7A0D0E6B48472567C5.e.5929\")>\n",
      "<selenium.webdriver.remote.webelement.WebElement (session=\"0e538163478ca9ec4c2c031f9d1ca6cd\", element=\"f.48B536DBBFEEF83CB53B66AC3835080B.d.5F40CDB2A35F8F7A0D0E6B48472567C5.e.5930\")>\n",
      "<selenium.webdriver.remote.webelement.WebElement (session=\"0e538163478ca9ec4c2c031f9d1ca6cd\", element=\"f.48B536DBBFEEF83CB53B66AC3835080B.d.5F40CDB2A35F8F7A0D0E6B48472567C5.e.5932\")>\n",
      "<selenium.webdriver.remote.webelement.WebElement (session=\"0e538163478ca9ec4c2c031f9d1ca6cd\", element=\"f.48B536DBBFEEF83CB53B66AC3835080B.d.5F40CDB2A35F8F7A0D0E6B48472567C5.e.7068\")>\n",
      "<selenium.webdriver.remote.webelement.WebElement (session=\"0e538163478ca9ec4c2c031f9d1ca6cd\", element=\"f.48B536DBBFEEF83CB53B66AC3835080B.d.5F40CDB2A35F8F7A0D0E6B48472567C5.e.6581\")>\n",
      "<selenium.webdriver.remote.webelement.WebElement (session=\"0e538163478ca9ec4c2c031f9d1ca6cd\", element=\"f.48B536DBBFEEF83CB53B66AC3835080B.d.5F40CDB2A35F8F7A0D0E6B48472567C5.e.5940\")>\n",
      "<selenium.webdriver.remote.webelement.WebElement (session=\"0e538163478ca9ec4c2c031f9d1ca6cd\", element=\"f.48B536DBBFEEF83CB53B66AC3835080B.d.5F40CDB2A35F8F7A0D0E6B48472567C5.e.5941\")>\n",
      "<selenium.webdriver.remote.webelement.WebElement (session=\"0e538163478ca9ec4c2c031f9d1ca6cd\", element=\"f.48B536DBBFEEF83CB53B66AC3835080B.d.5F40CDB2A35F8F7A0D0E6B48472567C5.e.5942\")>\n",
      "<selenium.webdriver.remote.webelement.WebElement (session=\"0e538163478ca9ec4c2c031f9d1ca6cd\", element=\"f.48B536DBBFEEF83CB53B66AC3835080B.d.5F40CDB2A35F8F7A0D0E6B48472567C5.e.6586\")>\n",
      "<selenium.webdriver.remote.webelement.WebElement (session=\"0e538163478ca9ec4c2c031f9d1ca6cd\", element=\"f.48B536DBBFEEF83CB53B66AC3835080B.d.5F40CDB2A35F8F7A0D0E6B48472567C5.e.6280\")>\n",
      "<selenium.webdriver.remote.webelement.WebElement (session=\"0e538163478ca9ec4c2c031f9d1ca6cd\", element=\"f.48B536DBBFEEF83CB53B66AC3835080B.d.5F40CDB2A35F8F7A0D0E6B48472567C5.e.6588\")>\n",
      "<selenium.webdriver.remote.webelement.WebElement (session=\"0e538163478ca9ec4c2c031f9d1ca6cd\", element=\"f.48B536DBBFEEF83CB53B66AC3835080B.d.5F40CDB2A35F8F7A0D0E6B48472567C5.e.5946\")>\n",
      "<selenium.webdriver.remote.webelement.WebElement (session=\"0e538163478ca9ec4c2c031f9d1ca6cd\", element=\"f.48B536DBBFEEF83CB53B66AC3835080B.d.5F40CDB2A35F8F7A0D0E6B48472567C5.e.5947\")>\n",
      "<selenium.webdriver.remote.webelement.WebElement (session=\"0e538163478ca9ec4c2c031f9d1ca6cd\", element=\"f.48B536DBBFEEF83CB53B66AC3835080B.d.5F40CDB2A35F8F7A0D0E6B48472567C5.e.5949\")>\n",
      "<selenium.webdriver.remote.webelement.WebElement (session=\"0e538163478ca9ec4c2c031f9d1ca6cd\", element=\"f.48B536DBBFEEF83CB53B66AC3835080B.d.5F40CDB2A35F8F7A0D0E6B48472567C5.e.7075\")>\n",
      "<selenium.webdriver.remote.webelement.WebElement (session=\"0e538163478ca9ec4c2c031f9d1ca6cd\", element=\"f.48B536DBBFEEF83CB53B66AC3835080B.d.5F40CDB2A35F8F7A0D0E6B48472567C5.e.6596\")>\n",
      "<selenium.webdriver.remote.webelement.WebElement (session=\"0e538163478ca9ec4c2c031f9d1ca6cd\", element=\"f.48B536DBBFEEF83CB53B66AC3835080B.d.5F40CDB2A35F8F7A0D0E6B48472567C5.e.5957\")>\n",
      "<selenium.webdriver.remote.webelement.WebElement (session=\"0e538163478ca9ec4c2c031f9d1ca6cd\", element=\"f.48B536DBBFEEF83CB53B66AC3835080B.d.5F40CDB2A35F8F7A0D0E6B48472567C5.e.5958\")>\n",
      "<selenium.webdriver.remote.webelement.WebElement (session=\"0e538163478ca9ec4c2c031f9d1ca6cd\", element=\"f.48B536DBBFEEF83CB53B66AC3835080B.d.5F40CDB2A35F8F7A0D0E6B48472567C5.e.5959\")>\n",
      "<selenium.webdriver.remote.webelement.WebElement (session=\"0e538163478ca9ec4c2c031f9d1ca6cd\", element=\"f.48B536DBBFEEF83CB53B66AC3835080B.d.5F40CDB2A35F8F7A0D0E6B48472567C5.e.6601\")>\n",
      "<selenium.webdriver.remote.webelement.WebElement (session=\"0e538163478ca9ec4c2c031f9d1ca6cd\", element=\"f.48B536DBBFEEF83CB53B66AC3835080B.d.5F40CDB2A35F8F7A0D0E6B48472567C5.e.6297\")>\n",
      "<selenium.webdriver.remote.webelement.WebElement (session=\"0e538163478ca9ec4c2c031f9d1ca6cd\", element=\"f.48B536DBBFEEF83CB53B66AC3835080B.d.5F40CDB2A35F8F7A0D0E6B48472567C5.e.5963\")>\n",
      "<selenium.webdriver.remote.webelement.WebElement (session=\"0e538163478ca9ec4c2c031f9d1ca6cd\", element=\"f.48B536DBBFEEF83CB53B66AC3835080B.d.5F40CDB2A35F8F7A0D0E6B48472567C5.e.5964\")>\n",
      "<selenium.webdriver.remote.webelement.WebElement (session=\"0e538163478ca9ec4c2c031f9d1ca6cd\", element=\"f.48B536DBBFEEF83CB53B66AC3835080B.d.5F40CDB2A35F8F7A0D0E6B48472567C5.e.5966\")>\n",
      "<selenium.webdriver.remote.webelement.WebElement (session=\"0e538163478ca9ec4c2c031f9d1ca6cd\", element=\"f.48B536DBBFEEF83CB53B66AC3835080B.d.5F40CDB2A35F8F7A0D0E6B48472567C5.e.7083\")>\n",
      "<selenium.webdriver.remote.webelement.WebElement (session=\"0e538163478ca9ec4c2c031f9d1ca6cd\", element=\"f.48B536DBBFEEF83CB53B66AC3835080B.d.5F40CDB2A35F8F7A0D0E6B48472567C5.e.6609\")>\n",
      "<selenium.webdriver.remote.webelement.WebElement (session=\"0e538163478ca9ec4c2c031f9d1ca6cd\", element=\"f.48B536DBBFEEF83CB53B66AC3835080B.d.5F40CDB2A35F8F7A0D0E6B48472567C5.e.5974\")>\n",
      "<selenium.webdriver.remote.webelement.WebElement (session=\"0e538163478ca9ec4c2c031f9d1ca6cd\", element=\"f.48B536DBBFEEF83CB53B66AC3835080B.d.5F40CDB2A35F8F7A0D0E6B48472567C5.e.5975\")>\n",
      "<selenium.webdriver.remote.webelement.WebElement (session=\"0e538163478ca9ec4c2c031f9d1ca6cd\", element=\"f.48B536DBBFEEF83CB53B66AC3835080B.d.5F40CDB2A35F8F7A0D0E6B48472567C5.e.5976\")>\n",
      "<selenium.webdriver.remote.webelement.WebElement (session=\"0e538163478ca9ec4c2c031f9d1ca6cd\", element=\"f.48B536DBBFEEF83CB53B66AC3835080B.d.5F40CDB2A35F8F7A0D0E6B48472567C5.e.6614\")>\n",
      "<selenium.webdriver.remote.webelement.WebElement (session=\"0e538163478ca9ec4c2c031f9d1ca6cd\", element=\"f.48B536DBBFEEF83CB53B66AC3835080B.d.5F40CDB2A35F8F7A0D0E6B48472567C5.e.6314\")>\n",
      "<selenium.webdriver.remote.webelement.WebElement (session=\"0e538163478ca9ec4c2c031f9d1ca6cd\", element=\"f.48B536DBBFEEF83CB53B66AC3835080B.d.5F40CDB2A35F8F7A0D0E6B48472567C5.e.5980\")>\n",
      "<selenium.webdriver.remote.webelement.WebElement (session=\"0e538163478ca9ec4c2c031f9d1ca6cd\", element=\"f.48B536DBBFEEF83CB53B66AC3835080B.d.5F40CDB2A35F8F7A0D0E6B48472567C5.e.5981\")>\n",
      "<selenium.webdriver.remote.webelement.WebElement (session=\"0e538163478ca9ec4c2c031f9d1ca6cd\", element=\"f.48B536DBBFEEF83CB53B66AC3835080B.d.5F40CDB2A35F8F7A0D0E6B48472567C5.e.5983\")>\n",
      "<selenium.webdriver.remote.webelement.WebElement (session=\"0e538163478ca9ec4c2c031f9d1ca6cd\", element=\"f.48B536DBBFEEF83CB53B66AC3835080B.d.5F40CDB2A35F8F7A0D0E6B48472567C5.e.7091\")>\n",
      "<selenium.webdriver.remote.webelement.WebElement (session=\"0e538163478ca9ec4c2c031f9d1ca6cd\", element=\"f.48B536DBBFEEF83CB53B66AC3835080B.d.5F40CDB2A35F8F7A0D0E6B48472567C5.e.6622\")>\n",
      "<selenium.webdriver.remote.webelement.WebElement (session=\"0e538163478ca9ec4c2c031f9d1ca6cd\", element=\"f.48B536DBBFEEF83CB53B66AC3835080B.d.5F40CDB2A35F8F7A0D0E6B48472567C5.e.5991\")>\n",
      "<selenium.webdriver.remote.webelement.WebElement (session=\"0e538163478ca9ec4c2c031f9d1ca6cd\", element=\"f.48B536DBBFEEF83CB53B66AC3835080B.d.5F40CDB2A35F8F7A0D0E6B48472567C5.e.5992\")>\n",
      "<selenium.webdriver.remote.webelement.WebElement (session=\"0e538163478ca9ec4c2c031f9d1ca6cd\", element=\"f.48B536DBBFEEF83CB53B66AC3835080B.d.5F40CDB2A35F8F7A0D0E6B48472567C5.e.5993\")>\n",
      "<selenium.webdriver.remote.webelement.WebElement (session=\"0e538163478ca9ec4c2c031f9d1ca6cd\", element=\"f.48B536DBBFEEF83CB53B66AC3835080B.d.5F40CDB2A35F8F7A0D0E6B48472567C5.e.6627\")>\n",
      "<selenium.webdriver.remote.webelement.WebElement (session=\"0e538163478ca9ec4c2c031f9d1ca6cd\", element=\"f.48B536DBBFEEF83CB53B66AC3835080B.d.5F40CDB2A35F8F7A0D0E6B48472567C5.e.6331\")>\n",
      "<selenium.webdriver.remote.webelement.WebElement (session=\"0e538163478ca9ec4c2c031f9d1ca6cd\", element=\"f.48B536DBBFEEF83CB53B66AC3835080B.d.5F40CDB2A35F8F7A0D0E6B48472567C5.e.5997\")>\n",
      "<selenium.webdriver.remote.webelement.WebElement (session=\"0e538163478ca9ec4c2c031f9d1ca6cd\", element=\"f.48B536DBBFEEF83CB53B66AC3835080B.d.5F40CDB2A35F8F7A0D0E6B48472567C5.e.5998\")>\n",
      "<selenium.webdriver.remote.webelement.WebElement (session=\"0e538163478ca9ec4c2c031f9d1ca6cd\", element=\"f.48B536DBBFEEF83CB53B66AC3835080B.d.5F40CDB2A35F8F7A0D0E6B48472567C5.e.6000\")>\n",
      "<selenium.webdriver.remote.webelement.WebElement (session=\"0e538163478ca9ec4c2c031f9d1ca6cd\", element=\"f.48B536DBBFEEF83CB53B66AC3835080B.d.5F40CDB2A35F8F7A0D0E6B48472567C5.e.7099\")>\n",
      "<selenium.webdriver.remote.webelement.WebElement (session=\"0e538163478ca9ec4c2c031f9d1ca6cd\", element=\"f.48B536DBBFEEF83CB53B66AC3835080B.d.5F40CDB2A35F8F7A0D0E6B48472567C5.e.6635\")>\n",
      "<selenium.webdriver.remote.webelement.WebElement (session=\"0e538163478ca9ec4c2c031f9d1ca6cd\", element=\"f.48B536DBBFEEF83CB53B66AC3835080B.d.5F40CDB2A35F8F7A0D0E6B48472567C5.e.6008\")>\n",
      "<selenium.webdriver.remote.webelement.WebElement (session=\"0e538163478ca9ec4c2c031f9d1ca6cd\", element=\"f.48B536DBBFEEF83CB53B66AC3835080B.d.5F40CDB2A35F8F7A0D0E6B48472567C5.e.6009\")>\n",
      "<selenium.webdriver.remote.webelement.WebElement (session=\"0e538163478ca9ec4c2c031f9d1ca6cd\", element=\"f.48B536DBBFEEF83CB53B66AC3835080B.d.5F40CDB2A35F8F7A0D0E6B48472567C5.e.6010\")>\n",
      "<selenium.webdriver.remote.webelement.WebElement (session=\"0e538163478ca9ec4c2c031f9d1ca6cd\", element=\"f.48B536DBBFEEF83CB53B66AC3835080B.d.5F40CDB2A35F8F7A0D0E6B48472567C5.e.6640\")>\n",
      "<selenium.webdriver.remote.webelement.WebElement (session=\"0e538163478ca9ec4c2c031f9d1ca6cd\", element=\"f.48B536DBBFEEF83CB53B66AC3835080B.d.5F40CDB2A35F8F7A0D0E6B48472567C5.e.6348\")>\n",
      "<selenium.webdriver.remote.webelement.WebElement (session=\"0e538163478ca9ec4c2c031f9d1ca6cd\", element=\"f.48B536DBBFEEF83CB53B66AC3835080B.d.5F40CDB2A35F8F7A0D0E6B48472567C5.e.6642\")>\n",
      "<selenium.webdriver.remote.webelement.WebElement (session=\"0e538163478ca9ec4c2c031f9d1ca6cd\", element=\"f.48B536DBBFEEF83CB53B66AC3835080B.d.5F40CDB2A35F8F7A0D0E6B48472567C5.e.6643\")>\n",
      "<selenium.webdriver.remote.webelement.WebElement (session=\"0e538163478ca9ec4c2c031f9d1ca6cd\", element=\"f.48B536DBBFEEF83CB53B66AC3835080B.d.5F40CDB2A35F8F7A0D0E6B48472567C5.e.6645\")>\n",
      "<selenium.webdriver.remote.webelement.WebElement (session=\"0e538163478ca9ec4c2c031f9d1ca6cd\", element=\"f.48B536DBBFEEF83CB53B66AC3835080B.d.5F40CDB2A35F8F7A0D0E6B48472567C5.e.6647\")>\n",
      "<selenium.webdriver.remote.webelement.WebElement (session=\"0e538163478ca9ec4c2c031f9d1ca6cd\", element=\"f.48B536DBBFEEF83CB53B66AC3835080B.d.5F40CDB2A35F8F7A0D0E6B48472567C5.e.6014\")>\n",
      "<selenium.webdriver.remote.webelement.WebElement (session=\"0e538163478ca9ec4c2c031f9d1ca6cd\", element=\"f.48B536DBBFEEF83CB53B66AC3835080B.d.5F40CDB2A35F8F7A0D0E6B48472567C5.e.6015\")>\n",
      "<selenium.webdriver.remote.webelement.WebElement (session=\"0e538163478ca9ec4c2c031f9d1ca6cd\", element=\"f.48B536DBBFEEF83CB53B66AC3835080B.d.5F40CDB2A35F8F7A0D0E6B48472567C5.e.6017\")>\n",
      "<selenium.webdriver.remote.webelement.WebElement (session=\"0e538163478ca9ec4c2c031f9d1ca6cd\", element=\"f.48B536DBBFEEF83CB53B66AC3835080B.d.5F40CDB2A35F8F7A0D0E6B48472567C5.e.7107\")>\n",
      "<selenium.webdriver.remote.webelement.WebElement (session=\"0e538163478ca9ec4c2c031f9d1ca6cd\", element=\"f.48B536DBBFEEF83CB53B66AC3835080B.d.5F40CDB2A35F8F7A0D0E6B48472567C5.e.6654\")>\n",
      "<selenium.webdriver.remote.webelement.WebElement (session=\"0e538163478ca9ec4c2c031f9d1ca6cd\", element=\"f.48B536DBBFEEF83CB53B66AC3835080B.d.5F40CDB2A35F8F7A0D0E6B48472567C5.e.6025\")>\n",
      "<selenium.webdriver.remote.webelement.WebElement (session=\"0e538163478ca9ec4c2c031f9d1ca6cd\", element=\"f.48B536DBBFEEF83CB53B66AC3835080B.d.5F40CDB2A35F8F7A0D0E6B48472567C5.e.6026\")>\n",
      "<selenium.webdriver.remote.webelement.WebElement (session=\"0e538163478ca9ec4c2c031f9d1ca6cd\", element=\"f.48B536DBBFEEF83CB53B66AC3835080B.d.5F40CDB2A35F8F7A0D0E6B48472567C5.e.6027\")>\n",
      "<selenium.webdriver.remote.webelement.WebElement (session=\"0e538163478ca9ec4c2c031f9d1ca6cd\", element=\"f.48B536DBBFEEF83CB53B66AC3835080B.d.5F40CDB2A35F8F7A0D0E6B48472567C5.e.6659\")>\n",
      "<selenium.webdriver.remote.webelement.WebElement (session=\"0e538163478ca9ec4c2c031f9d1ca6cd\", element=\"f.48B536DBBFEEF83CB53B66AC3835080B.d.5F40CDB2A35F8F7A0D0E6B48472567C5.e.6365\")>\n",
      "<selenium.webdriver.remote.webelement.WebElement (session=\"0e538163478ca9ec4c2c031f9d1ca6cd\", element=\"f.48B536DBBFEEF83CB53B66AC3835080B.d.5F40CDB2A35F8F7A0D0E6B48472567C5.e.6661\")>\n",
      "<selenium.webdriver.remote.webelement.WebElement (session=\"0e538163478ca9ec4c2c031f9d1ca6cd\", element=\"f.48B536DBBFEEF83CB53B66AC3835080B.d.5F40CDB2A35F8F7A0D0E6B48472567C5.e.6031\")>\n",
      "<selenium.webdriver.remote.webelement.WebElement (session=\"0e538163478ca9ec4c2c031f9d1ca6cd\", element=\"f.48B536DBBFEEF83CB53B66AC3835080B.d.5F40CDB2A35F8F7A0D0E6B48472567C5.e.6032\")>\n",
      "<selenium.webdriver.remote.webelement.WebElement (session=\"0e538163478ca9ec4c2c031f9d1ca6cd\", element=\"f.48B536DBBFEEF83CB53B66AC3835080B.d.5F40CDB2A35F8F7A0D0E6B48472567C5.e.6034\")>\n",
      "<selenium.webdriver.remote.webelement.WebElement (session=\"0e538163478ca9ec4c2c031f9d1ca6cd\", element=\"f.48B536DBBFEEF83CB53B66AC3835080B.d.5F40CDB2A35F8F7A0D0E6B48472567C5.e.7115\")>\n",
      "<selenium.webdriver.remote.webelement.WebElement (session=\"0e538163478ca9ec4c2c031f9d1ca6cd\", element=\"f.48B536DBBFEEF83CB53B66AC3835080B.d.5F40CDB2A35F8F7A0D0E6B48472567C5.e.6669\")>\n",
      "<selenium.webdriver.remote.webelement.WebElement (session=\"0e538163478ca9ec4c2c031f9d1ca6cd\", element=\"f.48B536DBBFEEF83CB53B66AC3835080B.d.5F40CDB2A35F8F7A0D0E6B48472567C5.e.6042\")>\n",
      "<selenium.webdriver.remote.webelement.WebElement (session=\"0e538163478ca9ec4c2c031f9d1ca6cd\", element=\"f.48B536DBBFEEF83CB53B66AC3835080B.d.5F40CDB2A35F8F7A0D0E6B48472567C5.e.6043\")>\n",
      "<selenium.webdriver.remote.webelement.WebElement (session=\"0e538163478ca9ec4c2c031f9d1ca6cd\", element=\"f.48B536DBBFEEF83CB53B66AC3835080B.d.5F40CDB2A35F8F7A0D0E6B48472567C5.e.6044\")>\n",
      "<selenium.webdriver.remote.webelement.WebElement (session=\"0e538163478ca9ec4c2c031f9d1ca6cd\", element=\"f.48B536DBBFEEF83CB53B66AC3835080B.d.5F40CDB2A35F8F7A0D0E6B48472567C5.e.6674\")>\n",
      "<selenium.webdriver.remote.webelement.WebElement (session=\"0e538163478ca9ec4c2c031f9d1ca6cd\", element=\"f.48B536DBBFEEF83CB53B66AC3835080B.d.5F40CDB2A35F8F7A0D0E6B48472567C5.e.6381\")>\n",
      "<selenium.webdriver.remote.webelement.WebElement (session=\"0e538163478ca9ec4c2c031f9d1ca6cd\", element=\"f.48B536DBBFEEF83CB53B66AC3835080B.d.5F40CDB2A35F8F7A0D0E6B48472567C5.e.6048\")>\n",
      "<selenium.webdriver.remote.webelement.WebElement (session=\"0e538163478ca9ec4c2c031f9d1ca6cd\", element=\"f.48B536DBBFEEF83CB53B66AC3835080B.d.5F40CDB2A35F8F7A0D0E6B48472567C5.e.6049\")>\n",
      "<selenium.webdriver.remote.webelement.WebElement (session=\"0e538163478ca9ec4c2c031f9d1ca6cd\", element=\"f.48B536DBBFEEF83CB53B66AC3835080B.d.5F40CDB2A35F8F7A0D0E6B48472567C5.e.6051\")>\n",
      "<selenium.webdriver.remote.webelement.WebElement (session=\"0e538163478ca9ec4c2c031f9d1ca6cd\", element=\"f.48B536DBBFEEF83CB53B66AC3835080B.d.5F40CDB2A35F8F7A0D0E6B48472567C5.e.7123\")>\n",
      "<selenium.webdriver.remote.webelement.WebElement (session=\"0e538163478ca9ec4c2c031f9d1ca6cd\", element=\"f.48B536DBBFEEF83CB53B66AC3835080B.d.5F40CDB2A35F8F7A0D0E6B48472567C5.e.6682\")>\n",
      "<selenium.webdriver.remote.webelement.WebElement (session=\"0e538163478ca9ec4c2c031f9d1ca6cd\", element=\"f.48B536DBBFEEF83CB53B66AC3835080B.d.5F40CDB2A35F8F7A0D0E6B48472567C5.e.6059\")>\n",
      "<selenium.webdriver.remote.webelement.WebElement (session=\"0e538163478ca9ec4c2c031f9d1ca6cd\", element=\"f.48B536DBBFEEF83CB53B66AC3835080B.d.5F40CDB2A35F8F7A0D0E6B48472567C5.e.6060\")>\n",
      "<selenium.webdriver.remote.webelement.WebElement (session=\"0e538163478ca9ec4c2c031f9d1ca6cd\", element=\"f.48B536DBBFEEF83CB53B66AC3835080B.d.5F40CDB2A35F8F7A0D0E6B48472567C5.e.6061\")>\n",
      "<selenium.webdriver.remote.webelement.WebElement (session=\"0e538163478ca9ec4c2c031f9d1ca6cd\", element=\"f.48B536DBBFEEF83CB53B66AC3835080B.d.5F40CDB2A35F8F7A0D0E6B48472567C5.e.6687\")>\n",
      "<selenium.webdriver.remote.webelement.WebElement (session=\"0e538163478ca9ec4c2c031f9d1ca6cd\", element=\"f.48B536DBBFEEF83CB53B66AC3835080B.d.5F40CDB2A35F8F7A0D0E6B48472567C5.e.6398\")>\n",
      "<selenium.webdriver.remote.webelement.WebElement (session=\"0e538163478ca9ec4c2c031f9d1ca6cd\", element=\"f.48B536DBBFEEF83CB53B66AC3835080B.d.5F40CDB2A35F8F7A0D0E6B48472567C5.e.6065\")>\n",
      "<selenium.webdriver.remote.webelement.WebElement (session=\"0e538163478ca9ec4c2c031f9d1ca6cd\", element=\"f.48B536DBBFEEF83CB53B66AC3835080B.d.5F40CDB2A35F8F7A0D0E6B48472567C5.e.6066\")>\n",
      "<selenium.webdriver.remote.webelement.WebElement (session=\"0e538163478ca9ec4c2c031f9d1ca6cd\", element=\"f.48B536DBBFEEF83CB53B66AC3835080B.d.5F40CDB2A35F8F7A0D0E6B48472567C5.e.6068\")>\n",
      "<selenium.webdriver.remote.webelement.WebElement (session=\"0e538163478ca9ec4c2c031f9d1ca6cd\", element=\"f.48B536DBBFEEF83CB53B66AC3835080B.d.5F40CDB2A35F8F7A0D0E6B48472567C5.e.7131\")>\n",
      "<selenium.webdriver.remote.webelement.WebElement (session=\"0e538163478ca9ec4c2c031f9d1ca6cd\", element=\"f.48B536DBBFEEF83CB53B66AC3835080B.d.5F40CDB2A35F8F7A0D0E6B48472567C5.e.6695\")>\n",
      "<selenium.webdriver.remote.webelement.WebElement (session=\"0e538163478ca9ec4c2c031f9d1ca6cd\", element=\"f.48B536DBBFEEF83CB53B66AC3835080B.d.5F40CDB2A35F8F7A0D0E6B48472567C5.e.6076\")>\n",
      "<selenium.webdriver.remote.webelement.WebElement (session=\"0e538163478ca9ec4c2c031f9d1ca6cd\", element=\"f.48B536DBBFEEF83CB53B66AC3835080B.d.5F40CDB2A35F8F7A0D0E6B48472567C5.e.6077\")>\n",
      "<selenium.webdriver.remote.webelement.WebElement (session=\"0e538163478ca9ec4c2c031f9d1ca6cd\", element=\"f.48B536DBBFEEF83CB53B66AC3835080B.d.5F40CDB2A35F8F7A0D0E6B48472567C5.e.6078\")>\n",
      "<selenium.webdriver.remote.webelement.WebElement (session=\"0e538163478ca9ec4c2c031f9d1ca6cd\", element=\"f.48B536DBBFEEF83CB53B66AC3835080B.d.5F40CDB2A35F8F7A0D0E6B48472567C5.e.6700\")>\n",
      "<selenium.webdriver.remote.webelement.WebElement (session=\"0e538163478ca9ec4c2c031f9d1ca6cd\", element=\"f.48B536DBBFEEF83CB53B66AC3835080B.d.5F40CDB2A35F8F7A0D0E6B48472567C5.e.6414\")>\n",
      "<selenium.webdriver.remote.webelement.WebElement (session=\"0e538163478ca9ec4c2c031f9d1ca6cd\", element=\"f.48B536DBBFEEF83CB53B66AC3835080B.d.5F40CDB2A35F8F7A0D0E6B48472567C5.e.6702\")>\n",
      "<selenium.webdriver.remote.webelement.WebElement (session=\"0e538163478ca9ec4c2c031f9d1ca6cd\", element=\"f.48B536DBBFEEF83CB53B66AC3835080B.d.5F40CDB2A35F8F7A0D0E6B48472567C5.e.6704\")>\n",
      "<selenium.webdriver.remote.webelement.WebElement (session=\"0e538163478ca9ec4c2c031f9d1ca6cd\", element=\"f.48B536DBBFEEF83CB53B66AC3835080B.d.5F40CDB2A35F8F7A0D0E6B48472567C5.e.6082\")>\n",
      "<selenium.webdriver.remote.webelement.WebElement (session=\"0e538163478ca9ec4c2c031f9d1ca6cd\", element=\"f.48B536DBBFEEF83CB53B66AC3835080B.d.5F40CDB2A35F8F7A0D0E6B48472567C5.e.6083\")>\n",
      "<selenium.webdriver.remote.webelement.WebElement (session=\"0e538163478ca9ec4c2c031f9d1ca6cd\", element=\"f.48B536DBBFEEF83CB53B66AC3835080B.d.5F40CDB2A35F8F7A0D0E6B48472567C5.e.6085\")>\n",
      "<selenium.webdriver.remote.webelement.WebElement (session=\"0e538163478ca9ec4c2c031f9d1ca6cd\", element=\"f.48B536DBBFEEF83CB53B66AC3835080B.d.5F40CDB2A35F8F7A0D0E6B48472567C5.e.7139\")>\n",
      "<selenium.webdriver.remote.webelement.WebElement (session=\"0e538163478ca9ec4c2c031f9d1ca6cd\", element=\"f.48B536DBBFEEF83CB53B66AC3835080B.d.5F40CDB2A35F8F7A0D0E6B48472567C5.e.6711\")>\n",
      "<selenium.webdriver.remote.webelement.WebElement (session=\"0e538163478ca9ec4c2c031f9d1ca6cd\", element=\"f.48B536DBBFEEF83CB53B66AC3835080B.d.5F40CDB2A35F8F7A0D0E6B48472567C5.e.6093\")>\n",
      "<selenium.webdriver.remote.webelement.WebElement (session=\"0e538163478ca9ec4c2c031f9d1ca6cd\", element=\"f.48B536DBBFEEF83CB53B66AC3835080B.d.5F40CDB2A35F8F7A0D0E6B48472567C5.e.6094\")>\n",
      "<selenium.webdriver.remote.webelement.WebElement (session=\"0e538163478ca9ec4c2c031f9d1ca6cd\", element=\"f.48B536DBBFEEF83CB53B66AC3835080B.d.5F40CDB2A35F8F7A0D0E6B48472567C5.e.6095\")>\n",
      "<selenium.webdriver.remote.webelement.WebElement (session=\"0e538163478ca9ec4c2c031f9d1ca6cd\", element=\"f.48B536DBBFEEF83CB53B66AC3835080B.d.5F40CDB2A35F8F7A0D0E6B48472567C5.e.6716\")>\n",
      "<selenium.webdriver.remote.webelement.WebElement (session=\"0e538163478ca9ec4c2c031f9d1ca6cd\", element=\"f.48B536DBBFEEF83CB53B66AC3835080B.d.5F40CDB2A35F8F7A0D0E6B48472567C5.e.6430\")>\n",
      "<selenium.webdriver.remote.webelement.WebElement (session=\"0e538163478ca9ec4c2c031f9d1ca6cd\", element=\"f.48B536DBBFEEF83CB53B66AC3835080B.d.5F40CDB2A35F8F7A0D0E6B48472567C5.e.6718\")>\n",
      "<selenium.webdriver.remote.webelement.WebElement (session=\"0e538163478ca9ec4c2c031f9d1ca6cd\", element=\"f.48B536DBBFEEF83CB53B66AC3835080B.d.5F40CDB2A35F8F7A0D0E6B48472567C5.e.6719\")>\n",
      "<selenium.webdriver.remote.webelement.WebElement (session=\"0e538163478ca9ec4c2c031f9d1ca6cd\", element=\"f.48B536DBBFEEF83CB53B66AC3835080B.d.5F40CDB2A35F8F7A0D0E6B48472567C5.e.6721\")>\n",
      "<selenium.webdriver.remote.webelement.WebElement (session=\"0e538163478ca9ec4c2c031f9d1ca6cd\", element=\"f.48B536DBBFEEF83CB53B66AC3835080B.d.5F40CDB2A35F8F7A0D0E6B48472567C5.e.6099\")>\n",
      "<selenium.webdriver.remote.webelement.WebElement (session=\"0e538163478ca9ec4c2c031f9d1ca6cd\", element=\"f.48B536DBBFEEF83CB53B66AC3835080B.d.5F40CDB2A35F8F7A0D0E6B48472567C5.e.6100\")>\n",
      "<selenium.webdriver.remote.webelement.WebElement (session=\"0e538163478ca9ec4c2c031f9d1ca6cd\", element=\"f.48B536DBBFEEF83CB53B66AC3835080B.d.5F40CDB2A35F8F7A0D0E6B48472567C5.e.6102\")>\n",
      "<selenium.webdriver.remote.webelement.WebElement (session=\"0e538163478ca9ec4c2c031f9d1ca6cd\", element=\"f.48B536DBBFEEF83CB53B66AC3835080B.d.5F40CDB2A35F8F7A0D0E6B48472567C5.e.7147\")>\n",
      "<selenium.webdriver.remote.webelement.WebElement (session=\"0e538163478ca9ec4c2c031f9d1ca6cd\", element=\"f.48B536DBBFEEF83CB53B66AC3835080B.d.5F40CDB2A35F8F7A0D0E6B48472567C5.e.6728\")>\n",
      "<selenium.webdriver.remote.webelement.WebElement (session=\"0e538163478ca9ec4c2c031f9d1ca6cd\", element=\"f.48B536DBBFEEF83CB53B66AC3835080B.d.5F40CDB2A35F8F7A0D0E6B48472567C5.e.6110\")>\n",
      "<selenium.webdriver.remote.webelement.WebElement (session=\"0e538163478ca9ec4c2c031f9d1ca6cd\", element=\"f.48B536DBBFEEF83CB53B66AC3835080B.d.5F40CDB2A35F8F7A0D0E6B48472567C5.e.6111\")>\n",
      "<selenium.webdriver.remote.webelement.WebElement (session=\"0e538163478ca9ec4c2c031f9d1ca6cd\", element=\"f.48B536DBBFEEF83CB53B66AC3835080B.d.5F40CDB2A35F8F7A0D0E6B48472567C5.e.6112\")>\n",
      "<selenium.webdriver.remote.webelement.WebElement (session=\"0e538163478ca9ec4c2c031f9d1ca6cd\", element=\"f.48B536DBBFEEF83CB53B66AC3835080B.d.5F40CDB2A35F8F7A0D0E6B48472567C5.e.6733\")>\n",
      "<selenium.webdriver.remote.webelement.WebElement (session=\"0e538163478ca9ec4c2c031f9d1ca6cd\", element=\"f.48B536DBBFEEF83CB53B66AC3835080B.d.5F40CDB2A35F8F7A0D0E6B48472567C5.e.6446\")>\n",
      "<selenium.webdriver.remote.webelement.WebElement (session=\"0e538163478ca9ec4c2c031f9d1ca6cd\", element=\"f.48B536DBBFEEF83CB53B66AC3835080B.d.5F40CDB2A35F8F7A0D0E6B48472567C5.e.6116\")>\n",
      "<selenium.webdriver.remote.webelement.WebElement (session=\"0e538163478ca9ec4c2c031f9d1ca6cd\", element=\"f.48B536DBBFEEF83CB53B66AC3835080B.d.5F40CDB2A35F8F7A0D0E6B48472567C5.e.6117\")>\n",
      "<selenium.webdriver.remote.webelement.WebElement (session=\"0e538163478ca9ec4c2c031f9d1ca6cd\", element=\"f.48B536DBBFEEF83CB53B66AC3835080B.d.5F40CDB2A35F8F7A0D0E6B48472567C5.e.6119\")>\n",
      "<selenium.webdriver.remote.webelement.WebElement (session=\"0e538163478ca9ec4c2c031f9d1ca6cd\", element=\"f.48B536DBBFEEF83CB53B66AC3835080B.d.5F40CDB2A35F8F7A0D0E6B48472567C5.e.7155\")>\n",
      "<selenium.webdriver.remote.webelement.WebElement (session=\"0e538163478ca9ec4c2c031f9d1ca6cd\", element=\"f.48B536DBBFEEF83CB53B66AC3835080B.d.5F40CDB2A35F8F7A0D0E6B48472567C5.e.6741\")>\n",
      "<selenium.webdriver.remote.webelement.WebElement (session=\"0e538163478ca9ec4c2c031f9d1ca6cd\", element=\"f.48B536DBBFEEF83CB53B66AC3835080B.d.5F40CDB2A35F8F7A0D0E6B48472567C5.e.6127\")>\n",
      "<selenium.webdriver.remote.webelement.WebElement (session=\"0e538163478ca9ec4c2c031f9d1ca6cd\", element=\"f.48B536DBBFEEF83CB53B66AC3835080B.d.5F40CDB2A35F8F7A0D0E6B48472567C5.e.6128\")>\n",
      "<selenium.webdriver.remote.webelement.WebElement (session=\"0e538163478ca9ec4c2c031f9d1ca6cd\", element=\"f.48B536DBBFEEF83CB53B66AC3835080B.d.5F40CDB2A35F8F7A0D0E6B48472567C5.e.6129\")>\n",
      "<selenium.webdriver.remote.webelement.WebElement (session=\"0e538163478ca9ec4c2c031f9d1ca6cd\", element=\"f.48B536DBBFEEF83CB53B66AC3835080B.d.5F40CDB2A35F8F7A0D0E6B48472567C5.e.6746\")>\n",
      "<selenium.webdriver.remote.webelement.WebElement (session=\"0e538163478ca9ec4c2c031f9d1ca6cd\", element=\"f.48B536DBBFEEF83CB53B66AC3835080B.d.5F40CDB2A35F8F7A0D0E6B48472567C5.e.6462\")>\n",
      "<selenium.webdriver.remote.webelement.WebElement (session=\"0e538163478ca9ec4c2c031f9d1ca6cd\", element=\"f.48B536DBBFEEF83CB53B66AC3835080B.d.5F40CDB2A35F8F7A0D0E6B48472567C5.e.6133\")>\n",
      "<selenium.webdriver.remote.webelement.WebElement (session=\"0e538163478ca9ec4c2c031f9d1ca6cd\", element=\"f.48B536DBBFEEF83CB53B66AC3835080B.d.5F40CDB2A35F8F7A0D0E6B48472567C5.e.6134\")>\n",
      "<selenium.webdriver.remote.webelement.WebElement (session=\"0e538163478ca9ec4c2c031f9d1ca6cd\", element=\"f.48B536DBBFEEF83CB53B66AC3835080B.d.5F40CDB2A35F8F7A0D0E6B48472567C5.e.6136\")>\n",
      "<selenium.webdriver.remote.webelement.WebElement (session=\"0e538163478ca9ec4c2c031f9d1ca6cd\", element=\"f.48B536DBBFEEF83CB53B66AC3835080B.d.5F40CDB2A35F8F7A0D0E6B48472567C5.e.7163\")>\n",
      "<selenium.webdriver.remote.webelement.WebElement (session=\"0e538163478ca9ec4c2c031f9d1ca6cd\", element=\"f.48B536DBBFEEF83CB53B66AC3835080B.d.5F40CDB2A35F8F7A0D0E6B48472567C5.e.5840\")>\n",
      "<selenium.webdriver.remote.webelement.WebElement (session=\"0e538163478ca9ec4c2c031f9d1ca6cd\", element=\"f.48B536DBBFEEF83CB53B66AC3835080B.d.5F40CDB2A35F8F7A0D0E6B48472567C5.e.5841\")>\n",
      "<selenium.webdriver.remote.webelement.WebElement (session=\"0e538163478ca9ec4c2c031f9d1ca6cd\", element=\"f.48B536DBBFEEF83CB53B66AC3835080B.d.5F40CDB2A35F8F7A0D0E6B48472567C5.e.5843\")>\n",
      "<selenium.webdriver.remote.webelement.WebElement (session=\"0e538163478ca9ec4c2c031f9d1ca6cd\", element=\"f.48B536DBBFEEF83CB53B66AC3835080B.d.5F40CDB2A35F8F7A0D0E6B48472567C5.e.5844\")>\n",
      "<selenium.webdriver.remote.webelement.WebElement (session=\"0e538163478ca9ec4c2c031f9d1ca6cd\", element=\"f.48B536DBBFEEF83CB53B66AC3835080B.d.5F40CDB2A35F8F7A0D0E6B48472567C5.e.5846\")>\n",
      "<selenium.webdriver.remote.webelement.WebElement (session=\"0e538163478ca9ec4c2c031f9d1ca6cd\", element=\"f.48B536DBBFEEF83CB53B66AC3835080B.d.5F40CDB2A35F8F7A0D0E6B48472567C5.e.5847\")>\n",
      "<selenium.webdriver.remote.webelement.WebElement (session=\"0e538163478ca9ec4c2c031f9d1ca6cd\", element=\"f.48B536DBBFEEF83CB53B66AC3835080B.d.5F40CDB2A35F8F7A0D0E6B48472567C5.e.5849\")>\n",
      "<selenium.webdriver.remote.webelement.WebElement (session=\"0e538163478ca9ec4c2c031f9d1ca6cd\", element=\"f.48B536DBBFEEF83CB53B66AC3835080B.d.5F40CDB2A35F8F7A0D0E6B48472567C5.e.5850\")>\n",
      "<selenium.webdriver.remote.webelement.WebElement (session=\"0e538163478ca9ec4c2c031f9d1ca6cd\", element=\"f.48B536DBBFEEF83CB53B66AC3835080B.d.5F40CDB2A35F8F7A0D0E6B48472567C5.e.5852\")>\n",
      "<selenium.webdriver.remote.webelement.WebElement (session=\"0e538163478ca9ec4c2c031f9d1ca6cd\", element=\"f.48B536DBBFEEF83CB53B66AC3835080B.d.5F40CDB2A35F8F7A0D0E6B48472567C5.e.5853\")>\n",
      "<selenium.webdriver.remote.webelement.WebElement (session=\"0e538163478ca9ec4c2c031f9d1ca6cd\", element=\"f.48B536DBBFEEF83CB53B66AC3835080B.d.5F40CDB2A35F8F7A0D0E6B48472567C5.e.5855\")>\n",
      "<selenium.webdriver.remote.webelement.WebElement (session=\"0e538163478ca9ec4c2c031f9d1ca6cd\", element=\"f.48B536DBBFEEF83CB53B66AC3835080B.d.5F40CDB2A35F8F7A0D0E6B48472567C5.e.5856\")>\n",
      "<selenium.webdriver.remote.webelement.WebElement (session=\"0e538163478ca9ec4c2c031f9d1ca6cd\", element=\"f.48B536DBBFEEF83CB53B66AC3835080B.d.5F40CDB2A35F8F7A0D0E6B48472567C5.e.5858\")>\n",
      "<selenium.webdriver.remote.webelement.WebElement (session=\"0e538163478ca9ec4c2c031f9d1ca6cd\", element=\"f.48B536DBBFEEF83CB53B66AC3835080B.d.5F40CDB2A35F8F7A0D0E6B48472567C5.e.6142\")>\n",
      "<selenium.webdriver.remote.webelement.WebElement (session=\"0e538163478ca9ec4c2c031f9d1ca6cd\", element=\"f.48B536DBBFEEF83CB53B66AC3835080B.d.5F40CDB2A35F8F7A0D0E6B48472567C5.e.6144\")>\n",
      "<selenium.webdriver.remote.webelement.WebElement (session=\"0e538163478ca9ec4c2c031f9d1ca6cd\", element=\"f.48B536DBBFEEF83CB53B66AC3835080B.d.5F40CDB2A35F8F7A0D0E6B48472567C5.e.6147\")>\n",
      "<selenium.webdriver.remote.webelement.WebElement (session=\"0e538163478ca9ec4c2c031f9d1ca6cd\", element=\"f.48B536DBBFEEF83CB53B66AC3835080B.d.5F40CDB2A35F8F7A0D0E6B48472567C5.e.6149\")>\n",
      "<selenium.webdriver.remote.webelement.WebElement (session=\"0e538163478ca9ec4c2c031f9d1ca6cd\", element=\"f.48B536DBBFEEF83CB53B66AC3835080B.d.5F40CDB2A35F8F7A0D0E6B48472567C5.e.6150\")>\n",
      "<selenium.webdriver.remote.webelement.WebElement (session=\"0e538163478ca9ec4c2c031f9d1ca6cd\", element=\"f.48B536DBBFEEF83CB53B66AC3835080B.d.5F40CDB2A35F8F7A0D0E6B48472567C5.e.6153\")>\n",
      "<selenium.webdriver.remote.webelement.WebElement (session=\"0e538163478ca9ec4c2c031f9d1ca6cd\", element=\"f.48B536DBBFEEF83CB53B66AC3835080B.d.5F40CDB2A35F8F7A0D0E6B48472567C5.e.6156\")>\n",
      "<selenium.webdriver.remote.webelement.WebElement (session=\"0e538163478ca9ec4c2c031f9d1ca6cd\", element=\"f.48B536DBBFEEF83CB53B66AC3835080B.d.5F40CDB2A35F8F7A0D0E6B48472567C5.e.6158\")>\n",
      "<selenium.webdriver.remote.webelement.WebElement (session=\"0e538163478ca9ec4c2c031f9d1ca6cd\", element=\"f.48B536DBBFEEF83CB53B66AC3835080B.d.5F40CDB2A35F8F7A0D0E6B48472567C5.e.6159\")>\n",
      "<selenium.webdriver.remote.webelement.WebElement (session=\"0e538163478ca9ec4c2c031f9d1ca6cd\", element=\"f.48B536DBBFEEF83CB53B66AC3835080B.d.5F40CDB2A35F8F7A0D0E6B48472567C5.e.6162\")>\n",
      "<selenium.webdriver.remote.webelement.WebElement (session=\"0e538163478ca9ec4c2c031f9d1ca6cd\", element=\"f.48B536DBBFEEF83CB53B66AC3835080B.d.5F40CDB2A35F8F7A0D0E6B48472567C5.e.6165\")>\n",
      "<selenium.webdriver.remote.webelement.WebElement (session=\"0e538163478ca9ec4c2c031f9d1ca6cd\", element=\"f.48B536DBBFEEF83CB53B66AC3835080B.d.5F40CDB2A35F8F7A0D0E6B48472567C5.e.6167\")>\n",
      "<selenium.webdriver.remote.webelement.WebElement (session=\"0e538163478ca9ec4c2c031f9d1ca6cd\", element=\"f.48B536DBBFEEF83CB53B66AC3835080B.d.5F40CDB2A35F8F7A0D0E6B48472567C5.e.6170\")>\n",
      "<selenium.webdriver.remote.webelement.WebElement (session=\"0e538163478ca9ec4c2c031f9d1ca6cd\", element=\"f.48B536DBBFEEF83CB53B66AC3835080B.d.5F40CDB2A35F8F7A0D0E6B48472567C5.e.6172\")>\n",
      "<selenium.webdriver.remote.webelement.WebElement (session=\"0e538163478ca9ec4c2c031f9d1ca6cd\", element=\"f.48B536DBBFEEF83CB53B66AC3835080B.d.5F40CDB2A35F8F7A0D0E6B48472567C5.e.6175\")>\n",
      "<selenium.webdriver.remote.webelement.WebElement (session=\"0e538163478ca9ec4c2c031f9d1ca6cd\", element=\"f.48B536DBBFEEF83CB53B66AC3835080B.d.5F40CDB2A35F8F7A0D0E6B48472567C5.e.6177\")>\n",
      "<selenium.webdriver.remote.webelement.WebElement (session=\"0e538163478ca9ec4c2c031f9d1ca6cd\", element=\"f.48B536DBBFEEF83CB53B66AC3835080B.d.5F40CDB2A35F8F7A0D0E6B48472567C5.e.6180\")>\n",
      "<selenium.webdriver.remote.webelement.WebElement (session=\"0e538163478ca9ec4c2c031f9d1ca6cd\", element=\"f.48B536DBBFEEF83CB53B66AC3835080B.d.5F40CDB2A35F8F7A0D0E6B48472567C5.e.6181\")>\n",
      "<selenium.webdriver.remote.webelement.WebElement (session=\"0e538163478ca9ec4c2c031f9d1ca6cd\", element=\"f.48B536DBBFEEF83CB53B66AC3835080B.d.5F40CDB2A35F8F7A0D0E6B48472567C5.e.6184\")>\n",
      "<selenium.webdriver.remote.webelement.WebElement (session=\"0e538163478ca9ec4c2c031f9d1ca6cd\", element=\"f.48B536DBBFEEF83CB53B66AC3835080B.d.5F40CDB2A35F8F7A0D0E6B48472567C5.e.6187\")>\n",
      "<selenium.webdriver.remote.webelement.WebElement (session=\"0e538163478ca9ec4c2c031f9d1ca6cd\", element=\"f.48B536DBBFEEF83CB53B66AC3835080B.d.5F40CDB2A35F8F7A0D0E6B48472567C5.e.5881\")>\n",
      "<selenium.webdriver.remote.webelement.WebElement (session=\"0e538163478ca9ec4c2c031f9d1ca6cd\", element=\"f.48B536DBBFEEF83CB53B66AC3835080B.d.5F40CDB2A35F8F7A0D0E6B48472567C5.e.5882\")>\n",
      "<selenium.webdriver.remote.webelement.WebElement (session=\"0e538163478ca9ec4c2c031f9d1ca6cd\", element=\"f.48B536DBBFEEF83CB53B66AC3835080B.d.5F40CDB2A35F8F7A0D0E6B48472567C5.e.5884\")>\n",
      "<selenium.webdriver.remote.webelement.WebElement (session=\"0e538163478ca9ec4c2c031f9d1ca6cd\", element=\"f.48B536DBBFEEF83CB53B66AC3835080B.d.5F40CDB2A35F8F7A0D0E6B48472567C5.e.6200\")>\n",
      "<selenium.webdriver.remote.webelement.WebElement (session=\"0e538163478ca9ec4c2c031f9d1ca6cd\", element=\"f.48B536DBBFEEF83CB53B66AC3835080B.d.5F40CDB2A35F8F7A0D0E6B48472567C5.e.2974\")>\n",
      "<selenium.webdriver.remote.webelement.WebElement (session=\"0e538163478ca9ec4c2c031f9d1ca6cd\", element=\"f.48B536DBBFEEF83CB53B66AC3835080B.d.5F40CDB2A35F8F7A0D0E6B48472567C5.e.2980\")>\n",
      "<selenium.webdriver.remote.webelement.WebElement (session=\"0e538163478ca9ec4c2c031f9d1ca6cd\", element=\"f.48B536DBBFEEF83CB53B66AC3835080B.d.5F40CDB2A35F8F7A0D0E6B48472567C5.e.2987\")>\n",
      "<selenium.webdriver.remote.webelement.WebElement (session=\"0e538163478ca9ec4c2c031f9d1ca6cd\", element=\"f.48B536DBBFEEF83CB53B66AC3835080B.d.5F40CDB2A35F8F7A0D0E6B48472567C5.e.2993\")>\n",
      "<selenium.webdriver.remote.webelement.WebElement (session=\"0e538163478ca9ec4c2c031f9d1ca6cd\", element=\"f.48B536DBBFEEF83CB53B66AC3835080B.d.5F40CDB2A35F8F7A0D0E6B48472567C5.e.4673\")>\n",
      "<selenium.webdriver.remote.webelement.WebElement (session=\"0e538163478ca9ec4c2c031f9d1ca6cd\", element=\"f.48B536DBBFEEF83CB53B66AC3835080B.d.5F40CDB2A35F8F7A0D0E6B48472567C5.e.4677\")>\n",
      "<selenium.webdriver.remote.webelement.WebElement (session=\"0e538163478ca9ec4c2c031f9d1ca6cd\", element=\"f.48B536DBBFEEF83CB53B66AC3835080B.d.5F40CDB2A35F8F7A0D0E6B48472567C5.e.1142\")>\n",
      "<selenium.webdriver.remote.webelement.WebElement (session=\"0e538163478ca9ec4c2c031f9d1ca6cd\", element=\"f.48B536DBBFEEF83CB53B66AC3835080B.d.5F40CDB2A35F8F7A0D0E6B48472567C5.e.1149\")>\n",
      "<selenium.webdriver.remote.webelement.WebElement (session=\"0e538163478ca9ec4c2c031f9d1ca6cd\", element=\"f.48B536DBBFEEF83CB53B66AC3835080B.d.5F40CDB2A35F8F7A0D0E6B48472567C5.e.6486\")>\n",
      "<selenium.webdriver.remote.webelement.WebElement (session=\"0e538163478ca9ec4c2c031f9d1ca6cd\", element=\"f.48B536DBBFEEF83CB53B66AC3835080B.d.5F40CDB2A35F8F7A0D0E6B48472567C5.e.6984\")>\n",
      "<selenium.webdriver.remote.webelement.WebElement (session=\"0e538163478ca9ec4c2c031f9d1ca6cd\", element=\"f.48B536DBBFEEF83CB53B66AC3835080B.d.5F40CDB2A35F8F7A0D0E6B48472567C5.e.6206\")>\n",
      "<selenium.webdriver.remote.webelement.WebElement (session=\"0e538163478ca9ec4c2c031f9d1ca6cd\", element=\"f.48B536DBBFEEF83CB53B66AC3835080B.d.5F40CDB2A35F8F7A0D0E6B48472567C5.e.6771\")>\n",
      "<selenium.webdriver.remote.webelement.WebElement (session=\"0e538163478ca9ec4c2c031f9d1ca6cd\", element=\"f.48B536DBBFEEF83CB53B66AC3835080B.d.5F40CDB2A35F8F7A0D0E6B48472567C5.e.7396\")>\n",
      "<selenium.webdriver.remote.webelement.WebElement (session=\"0e538163478ca9ec4c2c031f9d1ca6cd\", element=\"f.48B536DBBFEEF83CB53B66AC3835080B.d.5F40CDB2A35F8F7A0D0E6B48472567C5.e.3081\")>\n",
      "<selenium.webdriver.remote.webelement.WebElement (session=\"0e538163478ca9ec4c2c031f9d1ca6cd\", element=\"f.48B536DBBFEEF83CB53B66AC3835080B.d.5F40CDB2A35F8F7A0D0E6B48472567C5.e.2702\")>\n",
      "<selenium.webdriver.remote.webelement.WebElement (session=\"0e538163478ca9ec4c2c031f9d1ca6cd\", element=\"f.48B536DBBFEEF83CB53B66AC3835080B.d.5F40CDB2A35F8F7A0D0E6B48472567C5.e.2705\")>\n",
      "<selenium.webdriver.remote.webelement.WebElement (session=\"0e538163478ca9ec4c2c031f9d1ca6cd\", element=\"f.48B536DBBFEEF83CB53B66AC3835080B.d.5F40CDB2A35F8F7A0D0E6B48472567C5.e.3878\")>\n",
      "<selenium.webdriver.remote.webelement.WebElement (session=\"0e538163478ca9ec4c2c031f9d1ca6cd\", element=\"f.48B536DBBFEEF83CB53B66AC3835080B.d.5F40CDB2A35F8F7A0D0E6B48472567C5.e.3881\")>\n",
      "<selenium.webdriver.remote.webelement.WebElement (session=\"0e538163478ca9ec4c2c031f9d1ca6cd\", element=\"f.48B536DBBFEEF83CB53B66AC3835080B.d.5F40CDB2A35F8F7A0D0E6B48472567C5.e.3094\")>\n",
      "<selenium.webdriver.remote.webelement.WebElement (session=\"0e538163478ca9ec4c2c031f9d1ca6cd\", element=\"f.48B536DBBFEEF83CB53B66AC3835080B.d.5F40CDB2A35F8F7A0D0E6B48472567C5.e.2713\")>\n",
      "<selenium.webdriver.remote.webelement.WebElement (session=\"0e538163478ca9ec4c2c031f9d1ca6cd\", element=\"f.48B536DBBFEEF83CB53B66AC3835080B.d.5F40CDB2A35F8F7A0D0E6B48472567C5.e.2716\")>\n",
      "<selenium.webdriver.remote.webelement.WebElement (session=\"0e538163478ca9ec4c2c031f9d1ca6cd\", element=\"f.48B536DBBFEEF83CB53B66AC3835080B.d.5F40CDB2A35F8F7A0D0E6B48472567C5.e.3897\")>\n",
      "<selenium.webdriver.remote.webelement.WebElement (session=\"0e538163478ca9ec4c2c031f9d1ca6cd\", element=\"f.48B536DBBFEEF83CB53B66AC3835080B.d.5F40CDB2A35F8F7A0D0E6B48472567C5.e.3900\")>\n",
      "<selenium.webdriver.remote.webelement.WebElement (session=\"0e538163478ca9ec4c2c031f9d1ca6cd\", element=\"f.48B536DBBFEEF83CB53B66AC3835080B.d.5F40CDB2A35F8F7A0D0E6B48472567C5.e.3108\")>\n",
      "<selenium.webdriver.remote.webelement.WebElement (session=\"0e538163478ca9ec4c2c031f9d1ca6cd\", element=\"f.48B536DBBFEEF83CB53B66AC3835080B.d.5F40CDB2A35F8F7A0D0E6B48472567C5.e.2724\")>\n",
      "<selenium.webdriver.remote.webelement.WebElement (session=\"0e538163478ca9ec4c2c031f9d1ca6cd\", element=\"f.48B536DBBFEEF83CB53B66AC3835080B.d.5F40CDB2A35F8F7A0D0E6B48472567C5.e.2727\")>\n",
      "<selenium.webdriver.remote.webelement.WebElement (session=\"0e538163478ca9ec4c2c031f9d1ca6cd\", element=\"f.48B536DBBFEEF83CB53B66AC3835080B.d.5F40CDB2A35F8F7A0D0E6B48472567C5.e.3916\")>\n",
      "<selenium.webdriver.remote.webelement.WebElement (session=\"0e538163478ca9ec4c2c031f9d1ca6cd\", element=\"f.48B536DBBFEEF83CB53B66AC3835080B.d.5F40CDB2A35F8F7A0D0E6B48472567C5.e.3919\")>\n",
      "<selenium.webdriver.remote.webelement.WebElement (session=\"0e538163478ca9ec4c2c031f9d1ca6cd\", element=\"f.48B536DBBFEEF83CB53B66AC3835080B.d.5F40CDB2A35F8F7A0D0E6B48472567C5.e.3122\")>\n",
      "<selenium.webdriver.remote.webelement.WebElement (session=\"0e538163478ca9ec4c2c031f9d1ca6cd\", element=\"f.48B536DBBFEEF83CB53B66AC3835080B.d.5F40CDB2A35F8F7A0D0E6B48472567C5.e.2735\")>\n",
      "<selenium.webdriver.remote.webelement.WebElement (session=\"0e538163478ca9ec4c2c031f9d1ca6cd\", element=\"f.48B536DBBFEEF83CB53B66AC3835080B.d.5F40CDB2A35F8F7A0D0E6B48472567C5.e.2738\")>\n",
      "<selenium.webdriver.remote.webelement.WebElement (session=\"0e538163478ca9ec4c2c031f9d1ca6cd\", element=\"f.48B536DBBFEEF83CB53B66AC3835080B.d.5F40CDB2A35F8F7A0D0E6B48472567C5.e.3935\")>\n",
      "<selenium.webdriver.remote.webelement.WebElement (session=\"0e538163478ca9ec4c2c031f9d1ca6cd\", element=\"f.48B536DBBFEEF83CB53B66AC3835080B.d.5F40CDB2A35F8F7A0D0E6B48472567C5.e.3938\")>\n",
      "<selenium.webdriver.remote.webelement.WebElement (session=\"0e538163478ca9ec4c2c031f9d1ca6cd\", element=\"f.48B536DBBFEEF83CB53B66AC3835080B.d.5F40CDB2A35F8F7A0D0E6B48472567C5.e.3135\")>\n",
      "<selenium.webdriver.remote.webelement.WebElement (session=\"0e538163478ca9ec4c2c031f9d1ca6cd\", element=\"f.48B536DBBFEEF83CB53B66AC3835080B.d.5F40CDB2A35F8F7A0D0E6B48472567C5.e.2746\")>\n",
      "<selenium.webdriver.remote.webelement.WebElement (session=\"0e538163478ca9ec4c2c031f9d1ca6cd\", element=\"f.48B536DBBFEEF83CB53B66AC3835080B.d.5F40CDB2A35F8F7A0D0E6B48472567C5.e.2749\")>\n",
      "<selenium.webdriver.remote.webelement.WebElement (session=\"0e538163478ca9ec4c2c031f9d1ca6cd\", element=\"f.48B536DBBFEEF83CB53B66AC3835080B.d.5F40CDB2A35F8F7A0D0E6B48472567C5.e.3954\")>\n",
      "<selenium.webdriver.remote.webelement.WebElement (session=\"0e538163478ca9ec4c2c031f9d1ca6cd\", element=\"f.48B536DBBFEEF83CB53B66AC3835080B.d.5F40CDB2A35F8F7A0D0E6B48472567C5.e.3957\")>\n",
      "<selenium.webdriver.remote.webelement.WebElement (session=\"0e538163478ca9ec4c2c031f9d1ca6cd\", element=\"f.48B536DBBFEEF83CB53B66AC3835080B.d.5F40CDB2A35F8F7A0D0E6B48472567C5.e.3149\")>\n",
      "<selenium.webdriver.remote.webelement.WebElement (session=\"0e538163478ca9ec4c2c031f9d1ca6cd\", element=\"f.48B536DBBFEEF83CB53B66AC3835080B.d.5F40CDB2A35F8F7A0D0E6B48472567C5.e.2757\")>\n",
      "<selenium.webdriver.remote.webelement.WebElement (session=\"0e538163478ca9ec4c2c031f9d1ca6cd\", element=\"f.48B536DBBFEEF83CB53B66AC3835080B.d.5F40CDB2A35F8F7A0D0E6B48472567C5.e.2760\")>\n",
      "<selenium.webdriver.remote.webelement.WebElement (session=\"0e538163478ca9ec4c2c031f9d1ca6cd\", element=\"f.48B536DBBFEEF83CB53B66AC3835080B.d.5F40CDB2A35F8F7A0D0E6B48472567C5.e.3973\")>\n",
      "<selenium.webdriver.remote.webelement.WebElement (session=\"0e538163478ca9ec4c2c031f9d1ca6cd\", element=\"f.48B536DBBFEEF83CB53B66AC3835080B.d.5F40CDB2A35F8F7A0D0E6B48472567C5.e.3976\")>\n",
      "<selenium.webdriver.remote.webelement.WebElement (session=\"0e538163478ca9ec4c2c031f9d1ca6cd\", element=\"f.48B536DBBFEEF83CB53B66AC3835080B.d.5F40CDB2A35F8F7A0D0E6B48472567C5.e.3163\")>\n",
      "<selenium.webdriver.remote.webelement.WebElement (session=\"0e538163478ca9ec4c2c031f9d1ca6cd\", element=\"f.48B536DBBFEEF83CB53B66AC3835080B.d.5F40CDB2A35F8F7A0D0E6B48472567C5.e.2768\")>\n",
      "<selenium.webdriver.remote.webelement.WebElement (session=\"0e538163478ca9ec4c2c031f9d1ca6cd\", element=\"f.48B536DBBFEEF83CB53B66AC3835080B.d.5F40CDB2A35F8F7A0D0E6B48472567C5.e.2771\")>\n",
      "<selenium.webdriver.remote.webelement.WebElement (session=\"0e538163478ca9ec4c2c031f9d1ca6cd\", element=\"f.48B536DBBFEEF83CB53B66AC3835080B.d.5F40CDB2A35F8F7A0D0E6B48472567C5.e.3992\")>\n",
      "<selenium.webdriver.remote.webelement.WebElement (session=\"0e538163478ca9ec4c2c031f9d1ca6cd\", element=\"f.48B536DBBFEEF83CB53B66AC3835080B.d.5F40CDB2A35F8F7A0D0E6B48472567C5.e.3995\")>\n",
      "<selenium.webdriver.remote.webelement.WebElement (session=\"0e538163478ca9ec4c2c031f9d1ca6cd\", element=\"f.48B536DBBFEEF83CB53B66AC3835080B.d.5F40CDB2A35F8F7A0D0E6B48472567C5.e.3176\")>\n",
      "<selenium.webdriver.remote.webelement.WebElement (session=\"0e538163478ca9ec4c2c031f9d1ca6cd\", element=\"f.48B536DBBFEEF83CB53B66AC3835080B.d.5F40CDB2A35F8F7A0D0E6B48472567C5.e.2779\")>\n",
      "<selenium.webdriver.remote.webelement.WebElement (session=\"0e538163478ca9ec4c2c031f9d1ca6cd\", element=\"f.48B536DBBFEEF83CB53B66AC3835080B.d.5F40CDB2A35F8F7A0D0E6B48472567C5.e.2782\")>\n",
      "<selenium.webdriver.remote.webelement.WebElement (session=\"0e538163478ca9ec4c2c031f9d1ca6cd\", element=\"f.48B536DBBFEEF83CB53B66AC3835080B.d.5F40CDB2A35F8F7A0D0E6B48472567C5.e.4011\")>\n",
      "<selenium.webdriver.remote.webelement.WebElement (session=\"0e538163478ca9ec4c2c031f9d1ca6cd\", element=\"f.48B536DBBFEEF83CB53B66AC3835080B.d.5F40CDB2A35F8F7A0D0E6B48472567C5.e.4014\")>\n",
      "<selenium.webdriver.remote.webelement.WebElement (session=\"0e538163478ca9ec4c2c031f9d1ca6cd\", element=\"f.48B536DBBFEEF83CB53B66AC3835080B.d.5F40CDB2A35F8F7A0D0E6B48472567C5.e.3190\")>\n",
      "<selenium.webdriver.remote.webelement.WebElement (session=\"0e538163478ca9ec4c2c031f9d1ca6cd\", element=\"f.48B536DBBFEEF83CB53B66AC3835080B.d.5F40CDB2A35F8F7A0D0E6B48472567C5.e.2790\")>\n",
      "<selenium.webdriver.remote.webelement.WebElement (session=\"0e538163478ca9ec4c2c031f9d1ca6cd\", element=\"f.48B536DBBFEEF83CB53B66AC3835080B.d.5F40CDB2A35F8F7A0D0E6B48472567C5.e.2793\")>\n",
      "<selenium.webdriver.remote.webelement.WebElement (session=\"0e538163478ca9ec4c2c031f9d1ca6cd\", element=\"f.48B536DBBFEEF83CB53B66AC3835080B.d.5F40CDB2A35F8F7A0D0E6B48472567C5.e.4030\")>\n",
      "<selenium.webdriver.remote.webelement.WebElement (session=\"0e538163478ca9ec4c2c031f9d1ca6cd\", element=\"f.48B536DBBFEEF83CB53B66AC3835080B.d.5F40CDB2A35F8F7A0D0E6B48472567C5.e.4033\")>\n",
      "<selenium.webdriver.remote.webelement.WebElement (session=\"0e538163478ca9ec4c2c031f9d1ca6cd\", element=\"f.48B536DBBFEEF83CB53B66AC3835080B.d.5F40CDB2A35F8F7A0D0E6B48472567C5.e.3204\")>\n",
      "<selenium.webdriver.remote.webelement.WebElement (session=\"0e538163478ca9ec4c2c031f9d1ca6cd\", element=\"f.48B536DBBFEEF83CB53B66AC3835080B.d.5F40CDB2A35F8F7A0D0E6B48472567C5.e.2801\")>\n",
      "<selenium.webdriver.remote.webelement.WebElement (session=\"0e538163478ca9ec4c2c031f9d1ca6cd\", element=\"f.48B536DBBFEEF83CB53B66AC3835080B.d.5F40CDB2A35F8F7A0D0E6B48472567C5.e.2804\")>\n",
      "<selenium.webdriver.remote.webelement.WebElement (session=\"0e538163478ca9ec4c2c031f9d1ca6cd\", element=\"f.48B536DBBFEEF83CB53B66AC3835080B.d.5F40CDB2A35F8F7A0D0E6B48472567C5.e.4049\")>\n",
      "<selenium.webdriver.remote.webelement.WebElement (session=\"0e538163478ca9ec4c2c031f9d1ca6cd\", element=\"f.48B536DBBFEEF83CB53B66AC3835080B.d.5F40CDB2A35F8F7A0D0E6B48472567C5.e.4052\")>\n",
      "<selenium.webdriver.remote.webelement.WebElement (session=\"0e538163478ca9ec4c2c031f9d1ca6cd\", element=\"f.48B536DBBFEEF83CB53B66AC3835080B.d.5F40CDB2A35F8F7A0D0E6B48472567C5.e.3218\")>\n",
      "<selenium.webdriver.remote.webelement.WebElement (session=\"0e538163478ca9ec4c2c031f9d1ca6cd\", element=\"f.48B536DBBFEEF83CB53B66AC3835080B.d.5F40CDB2A35F8F7A0D0E6B48472567C5.e.2812\")>\n",
      "<selenium.webdriver.remote.webelement.WebElement (session=\"0e538163478ca9ec4c2c031f9d1ca6cd\", element=\"f.48B536DBBFEEF83CB53B66AC3835080B.d.5F40CDB2A35F8F7A0D0E6B48472567C5.e.2815\")>\n",
      "<selenium.webdriver.remote.webelement.WebElement (session=\"0e538163478ca9ec4c2c031f9d1ca6cd\", element=\"f.48B536DBBFEEF83CB53B66AC3835080B.d.5F40CDB2A35F8F7A0D0E6B48472567C5.e.4068\")>\n",
      "<selenium.webdriver.remote.webelement.WebElement (session=\"0e538163478ca9ec4c2c031f9d1ca6cd\", element=\"f.48B536DBBFEEF83CB53B66AC3835080B.d.5F40CDB2A35F8F7A0D0E6B48472567C5.e.4071\")>\n",
      "<selenium.webdriver.remote.webelement.WebElement (session=\"0e538163478ca9ec4c2c031f9d1ca6cd\", element=\"f.48B536DBBFEEF83CB53B66AC3835080B.d.5F40CDB2A35F8F7A0D0E6B48472567C5.e.3231\")>\n",
      "<selenium.webdriver.remote.webelement.WebElement (session=\"0e538163478ca9ec4c2c031f9d1ca6cd\", element=\"f.48B536DBBFEEF83CB53B66AC3835080B.d.5F40CDB2A35F8F7A0D0E6B48472567C5.e.2823\")>\n",
      "<selenium.webdriver.remote.webelement.WebElement (session=\"0e538163478ca9ec4c2c031f9d1ca6cd\", element=\"f.48B536DBBFEEF83CB53B66AC3835080B.d.5F40CDB2A35F8F7A0D0E6B48472567C5.e.2826\")>\n",
      "<selenium.webdriver.remote.webelement.WebElement (session=\"0e538163478ca9ec4c2c031f9d1ca6cd\", element=\"f.48B536DBBFEEF83CB53B66AC3835080B.d.5F40CDB2A35F8F7A0D0E6B48472567C5.e.4087\")>\n",
      "<selenium.webdriver.remote.webelement.WebElement (session=\"0e538163478ca9ec4c2c031f9d1ca6cd\", element=\"f.48B536DBBFEEF83CB53B66AC3835080B.d.5F40CDB2A35F8F7A0D0E6B48472567C5.e.4090\")>\n",
      "<selenium.webdriver.remote.webelement.WebElement (session=\"0e538163478ca9ec4c2c031f9d1ca6cd\", element=\"f.48B536DBBFEEF83CB53B66AC3835080B.d.5F40CDB2A35F8F7A0D0E6B48472567C5.e.3244\")>\n",
      "<selenium.webdriver.remote.webelement.WebElement (session=\"0e538163478ca9ec4c2c031f9d1ca6cd\", element=\"f.48B536DBBFEEF83CB53B66AC3835080B.d.5F40CDB2A35F8F7A0D0E6B48472567C5.e.2834\")>\n",
      "<selenium.webdriver.remote.webelement.WebElement (session=\"0e538163478ca9ec4c2c031f9d1ca6cd\", element=\"f.48B536DBBFEEF83CB53B66AC3835080B.d.5F40CDB2A35F8F7A0D0E6B48472567C5.e.2837\")>\n",
      "<selenium.webdriver.remote.webelement.WebElement (session=\"0e538163478ca9ec4c2c031f9d1ca6cd\", element=\"f.48B536DBBFEEF83CB53B66AC3835080B.d.5F40CDB2A35F8F7A0D0E6B48472567C5.e.4106\")>\n",
      "<selenium.webdriver.remote.webelement.WebElement (session=\"0e538163478ca9ec4c2c031f9d1ca6cd\", element=\"f.48B536DBBFEEF83CB53B66AC3835080B.d.5F40CDB2A35F8F7A0D0E6B48472567C5.e.4109\")>\n",
      "<selenium.webdriver.remote.webelement.WebElement (session=\"0e538163478ca9ec4c2c031f9d1ca6cd\", element=\"f.48B536DBBFEEF83CB53B66AC3835080B.d.5F40CDB2A35F8F7A0D0E6B48472567C5.e.3258\")>\n",
      "<selenium.webdriver.remote.webelement.WebElement (session=\"0e538163478ca9ec4c2c031f9d1ca6cd\", element=\"f.48B536DBBFEEF83CB53B66AC3835080B.d.5F40CDB2A35F8F7A0D0E6B48472567C5.e.2845\")>\n",
      "<selenium.webdriver.remote.webelement.WebElement (session=\"0e538163478ca9ec4c2c031f9d1ca6cd\", element=\"f.48B536DBBFEEF83CB53B66AC3835080B.d.5F40CDB2A35F8F7A0D0E6B48472567C5.e.2848\")>\n",
      "<selenium.webdriver.remote.webelement.WebElement (session=\"0e538163478ca9ec4c2c031f9d1ca6cd\", element=\"f.48B536DBBFEEF83CB53B66AC3835080B.d.5F40CDB2A35F8F7A0D0E6B48472567C5.e.4125\")>\n",
      "<selenium.webdriver.remote.webelement.WebElement (session=\"0e538163478ca9ec4c2c031f9d1ca6cd\", element=\"f.48B536DBBFEEF83CB53B66AC3835080B.d.5F40CDB2A35F8F7A0D0E6B48472567C5.e.4128\")>\n",
      "<selenium.webdriver.remote.webelement.WebElement (session=\"0e538163478ca9ec4c2c031f9d1ca6cd\", element=\"f.48B536DBBFEEF83CB53B66AC3835080B.d.5F40CDB2A35F8F7A0D0E6B48472567C5.e.3272\")>\n",
      "<selenium.webdriver.remote.webelement.WebElement (session=\"0e538163478ca9ec4c2c031f9d1ca6cd\", element=\"f.48B536DBBFEEF83CB53B66AC3835080B.d.5F40CDB2A35F8F7A0D0E6B48472567C5.e.2856\")>\n",
      "<selenium.webdriver.remote.webelement.WebElement (session=\"0e538163478ca9ec4c2c031f9d1ca6cd\", element=\"f.48B536DBBFEEF83CB53B66AC3835080B.d.5F40CDB2A35F8F7A0D0E6B48472567C5.e.2859\")>\n",
      "<selenium.webdriver.remote.webelement.WebElement (session=\"0e538163478ca9ec4c2c031f9d1ca6cd\", element=\"f.48B536DBBFEEF83CB53B66AC3835080B.d.5F40CDB2A35F8F7A0D0E6B48472567C5.e.4144\")>\n",
      "<selenium.webdriver.remote.webelement.WebElement (session=\"0e538163478ca9ec4c2c031f9d1ca6cd\", element=\"f.48B536DBBFEEF83CB53B66AC3835080B.d.5F40CDB2A35F8F7A0D0E6B48472567C5.e.4147\")>\n",
      "<selenium.webdriver.remote.webelement.WebElement (session=\"0e538163478ca9ec4c2c031f9d1ca6cd\", element=\"f.48B536DBBFEEF83CB53B66AC3835080B.d.5F40CDB2A35F8F7A0D0E6B48472567C5.e.3286\")>\n",
      "<selenium.webdriver.remote.webelement.WebElement (session=\"0e538163478ca9ec4c2c031f9d1ca6cd\", element=\"f.48B536DBBFEEF83CB53B66AC3835080B.d.5F40CDB2A35F8F7A0D0E6B48472567C5.e.2867\")>\n",
      "<selenium.webdriver.remote.webelement.WebElement (session=\"0e538163478ca9ec4c2c031f9d1ca6cd\", element=\"f.48B536DBBFEEF83CB53B66AC3835080B.d.5F40CDB2A35F8F7A0D0E6B48472567C5.e.2870\")>\n",
      "<selenium.webdriver.remote.webelement.WebElement (session=\"0e538163478ca9ec4c2c031f9d1ca6cd\", element=\"f.48B536DBBFEEF83CB53B66AC3835080B.d.5F40CDB2A35F8F7A0D0E6B48472567C5.e.4163\")>\n",
      "<selenium.webdriver.remote.webelement.WebElement (session=\"0e538163478ca9ec4c2c031f9d1ca6cd\", element=\"f.48B536DBBFEEF83CB53B66AC3835080B.d.5F40CDB2A35F8F7A0D0E6B48472567C5.e.4166\")>\n",
      "<selenium.webdriver.remote.webelement.WebElement (session=\"0e538163478ca9ec4c2c031f9d1ca6cd\", element=\"f.48B536DBBFEEF83CB53B66AC3835080B.d.5F40CDB2A35F8F7A0D0E6B48472567C5.e.3300\")>\n",
      "<selenium.webdriver.remote.webelement.WebElement (session=\"0e538163478ca9ec4c2c031f9d1ca6cd\", element=\"f.48B536DBBFEEF83CB53B66AC3835080B.d.5F40CDB2A35F8F7A0D0E6B48472567C5.e.2878\")>\n",
      "<selenium.webdriver.remote.webelement.WebElement (session=\"0e538163478ca9ec4c2c031f9d1ca6cd\", element=\"f.48B536DBBFEEF83CB53B66AC3835080B.d.5F40CDB2A35F8F7A0D0E6B48472567C5.e.2881\")>\n",
      "<selenium.webdriver.remote.webelement.WebElement (session=\"0e538163478ca9ec4c2c031f9d1ca6cd\", element=\"f.48B536DBBFEEF83CB53B66AC3835080B.d.5F40CDB2A35F8F7A0D0E6B48472567C5.e.4182\")>\n",
      "<selenium.webdriver.remote.webelement.WebElement (session=\"0e538163478ca9ec4c2c031f9d1ca6cd\", element=\"f.48B536DBBFEEF83CB53B66AC3835080B.d.5F40CDB2A35F8F7A0D0E6B48472567C5.e.4185\")>\n",
      "<selenium.webdriver.remote.webelement.WebElement (session=\"0e538163478ca9ec4c2c031f9d1ca6cd\", element=\"f.48B536DBBFEEF83CB53B66AC3835080B.d.5F40CDB2A35F8F7A0D0E6B48472567C5.e.3314\")>\n",
      "<selenium.webdriver.remote.webelement.WebElement (session=\"0e538163478ca9ec4c2c031f9d1ca6cd\", element=\"f.48B536DBBFEEF83CB53B66AC3835080B.d.5F40CDB2A35F8F7A0D0E6B48472567C5.e.2889\")>\n",
      "<selenium.webdriver.remote.webelement.WebElement (session=\"0e538163478ca9ec4c2c031f9d1ca6cd\", element=\"f.48B536DBBFEEF83CB53B66AC3835080B.d.5F40CDB2A35F8F7A0D0E6B48472567C5.e.2892\")>\n",
      "<selenium.webdriver.remote.webelement.WebElement (session=\"0e538163478ca9ec4c2c031f9d1ca6cd\", element=\"f.48B536DBBFEEF83CB53B66AC3835080B.d.5F40CDB2A35F8F7A0D0E6B48472567C5.e.4201\")>\n",
      "<selenium.webdriver.remote.webelement.WebElement (session=\"0e538163478ca9ec4c2c031f9d1ca6cd\", element=\"f.48B536DBBFEEF83CB53B66AC3835080B.d.5F40CDB2A35F8F7A0D0E6B48472567C5.e.4204\")>\n",
      "<selenium.webdriver.remote.webelement.WebElement (session=\"0e538163478ca9ec4c2c031f9d1ca6cd\", element=\"f.48B536DBBFEEF83CB53B66AC3835080B.d.5F40CDB2A35F8F7A0D0E6B48472567C5.e.3327\")>\n",
      "<selenium.webdriver.remote.webelement.WebElement (session=\"0e538163478ca9ec4c2c031f9d1ca6cd\", element=\"f.48B536DBBFEEF83CB53B66AC3835080B.d.5F40CDB2A35F8F7A0D0E6B48472567C5.e.2900\")>\n",
      "<selenium.webdriver.remote.webelement.WebElement (session=\"0e538163478ca9ec4c2c031f9d1ca6cd\", element=\"f.48B536DBBFEEF83CB53B66AC3835080B.d.5F40CDB2A35F8F7A0D0E6B48472567C5.e.2903\")>\n",
      "<selenium.webdriver.remote.webelement.WebElement (session=\"0e538163478ca9ec4c2c031f9d1ca6cd\", element=\"f.48B536DBBFEEF83CB53B66AC3835080B.d.5F40CDB2A35F8F7A0D0E6B48472567C5.e.4220\")>\n",
      "<selenium.webdriver.remote.webelement.WebElement (session=\"0e538163478ca9ec4c2c031f9d1ca6cd\", element=\"f.48B536DBBFEEF83CB53B66AC3835080B.d.5F40CDB2A35F8F7A0D0E6B48472567C5.e.4223\")>\n",
      "<selenium.webdriver.remote.webelement.WebElement (session=\"0e538163478ca9ec4c2c031f9d1ca6cd\", element=\"f.48B536DBBFEEF83CB53B66AC3835080B.d.5F40CDB2A35F8F7A0D0E6B48472567C5.e.3068\")>\n",
      "<selenium.webdriver.remote.webelement.WebElement (session=\"0e538163478ca9ec4c2c031f9d1ca6cd\", element=\"f.48B536DBBFEEF83CB53B66AC3835080B.d.5F40CDB2A35F8F7A0D0E6B48472567C5.e.2691\")>\n",
      "<selenium.webdriver.remote.webelement.WebElement (session=\"0e538163478ca9ec4c2c031f9d1ca6cd\", element=\"f.48B536DBBFEEF83CB53B66AC3835080B.d.5F40CDB2A35F8F7A0D0E6B48472567C5.e.2694\")>\n",
      "<selenium.webdriver.remote.webelement.WebElement (session=\"0e538163478ca9ec4c2c031f9d1ca6cd\", element=\"f.48B536DBBFEEF83CB53B66AC3835080B.d.5F40CDB2A35F8F7A0D0E6B48472567C5.e.3859\")>\n",
      "<selenium.webdriver.remote.webelement.WebElement (session=\"0e538163478ca9ec4c2c031f9d1ca6cd\", element=\"f.48B536DBBFEEF83CB53B66AC3835080B.d.5F40CDB2A35F8F7A0D0E6B48472567C5.e.3862\")>\n",
      "<selenium.webdriver.remote.webelement.WebElement (session=\"0e538163478ca9ec4c2c031f9d1ca6cd\", element=\"f.48B536DBBFEEF83CB53B66AC3835080B.d.5F40CDB2A35F8F7A0D0E6B48472567C5.e.5640\")>\n",
      "<selenium.webdriver.remote.webelement.WebElement (session=\"0e538163478ca9ec4c2c031f9d1ca6cd\", element=\"f.48B536DBBFEEF83CB53B66AC3835080B.d.5F40CDB2A35F8F7A0D0E6B48472567C5.e.5224\")>\n",
      "<selenium.webdriver.remote.webelement.WebElement (session=\"0e538163478ca9ec4c2c031f9d1ca6cd\", element=\"f.48B536DBBFEEF83CB53B66AC3835080B.d.5F40CDB2A35F8F7A0D0E6B48472567C5.e.5226\")>\n"
     ]
    }
   ],
   "source": [
    "for e in fruits:\n",
    "    print(e)"
   ]
  },
  {
   "cell_type": "code",
   "execution_count": 78,
   "id": "962c2227",
   "metadata": {},
   "outputs": [],
   "source": [
    "\n",
    "# driverを終了する\n",
    "driver.quit()"
   ]
  },
  {
   "cell_type": "code",
   "execution_count": null,
   "id": "a82dd8c0",
   "metadata": {},
   "outputs": [],
   "source": []
  }
 ],
 "metadata": {
  "kernelspec": {
   "display_name": "Python 3 (ipykernel)",
   "language": "python",
   "name": "python3"
  },
  "language_info": {
   "codemirror_mode": {
    "name": "ipython",
    "version": 3
   },
   "file_extension": ".py",
   "mimetype": "text/x-python",
   "name": "python",
   "nbconvert_exporter": "python",
   "pygments_lexer": "ipython3",
   "version": "3.10.9"
  }
 },
 "nbformat": 4,
 "nbformat_minor": 5
}
