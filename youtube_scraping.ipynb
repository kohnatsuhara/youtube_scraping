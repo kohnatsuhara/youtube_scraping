{
 "cells": [
  {
   "cell_type": "markdown",
   "id": "178076f5-c750-4fce-9320-cea0851b1498",
   "metadata": {},
   "source": [
    "# youtubeのスクレイピング\n",
    "\n",
    "## youtubeのAPI作成方法\n",
    "- 参考：https://qiita.com/g-k/items/7c98efe21257afac70e9\n"
   ]
  },
  {
   "cell_type": "markdown",
   "id": "60ddaf67",
   "metadata": {},
   "source": [
    "# キーワード検索\n",
    "- 基本的に動画検索用\n",
    "- ビデオID\n",
    "- チャンネルID\n",
    "- 公開日\n",
    "- 動画詳細など"
   ]
  },
  {
   "cell_type": "code",
   "execution_count": 12,
   "id": "aae5ef20-b73e-4488-8fd0-7ca3323bf18e",
   "metadata": {},
   "outputs": [],
   "source": [
    "from config import *\n",
    "import requests"
   ]
  },
  {
   "cell_type": "code",
   "execution_count": 13,
   "id": "bd921610",
   "metadata": {},
   "outputs": [
    {
     "ename": "KeyboardInterrupt",
     "evalue": "",
     "output_type": "error",
     "traceback": [
      "\u001b[0;31m---------------------------------------------------------------------------\u001b[0m",
      "\u001b[0;31mKeyboardInterrupt\u001b[0m                         Traceback (most recent call last)",
      "Cell \u001b[0;32mIn[13], line 9\u001b[0m\n\u001b[1;32m      1\u001b[0m params \u001b[38;5;241m=\u001b[39m {\n\u001b[1;32m      2\u001b[0m     \u001b[38;5;124m\"\u001b[39m\u001b[38;5;124mkey\u001b[39m\u001b[38;5;124m\"\u001b[39m: YOUTUBE_API_KEY,\n\u001b[1;32m      3\u001b[0m     \u001b[38;5;124m\"\u001b[39m\u001b[38;5;124mpart\u001b[39m\u001b[38;5;124m\"\u001b[39m: \u001b[38;5;124m'\u001b[39m\u001b[38;5;124msnippet\u001b[39m\u001b[38;5;124m'\u001b[39m,\n\u001b[0;32m   (...)\u001b[0m\n\u001b[1;32m      7\u001b[0m     \u001b[38;5;66;03m# \"fields\": \"id,snippet,statistics,status\",\u001b[39;00m\n\u001b[1;32m      8\u001b[0m }\n\u001b[0;32m----> 9\u001b[0m r \u001b[38;5;241m=\u001b[39m \u001b[43mrequests\u001b[49m\u001b[38;5;241;43m.\u001b[39;49m\u001b[43mget\u001b[49m\u001b[43m(\u001b[49m\u001b[43mURL_SEARCH\u001b[49m\u001b[43m,\u001b[49m\u001b[43m \u001b[49m\u001b[43mparams\u001b[49m\u001b[38;5;241;43m=\u001b[39;49m\u001b[43mparams\u001b[49m\u001b[43m)\u001b[49m\n",
      "File \u001b[0;32m~/.local/lib/python3.10/site-packages/requests/api.py:73\u001b[0m, in \u001b[0;36mget\u001b[0;34m(url, params, **kwargs)\u001b[0m\n\u001b[1;32m     62\u001b[0m \u001b[38;5;28;01mdef\u001b[39;00m \u001b[38;5;21mget\u001b[39m(url, params\u001b[38;5;241m=\u001b[39m\u001b[38;5;28;01mNone\u001b[39;00m, \u001b[38;5;241m*\u001b[39m\u001b[38;5;241m*\u001b[39mkwargs):\n\u001b[1;32m     63\u001b[0m \u001b[38;5;250m    \u001b[39m\u001b[38;5;124mr\u001b[39m\u001b[38;5;124;03m\"\"\"Sends a GET request.\u001b[39;00m\n\u001b[1;32m     64\u001b[0m \n\u001b[1;32m     65\u001b[0m \u001b[38;5;124;03m    :param url: URL for the new :class:`Request` object.\u001b[39;00m\n\u001b[0;32m   (...)\u001b[0m\n\u001b[1;32m     70\u001b[0m \u001b[38;5;124;03m    :rtype: requests.Response\u001b[39;00m\n\u001b[1;32m     71\u001b[0m \u001b[38;5;124;03m    \"\"\"\u001b[39;00m\n\u001b[0;32m---> 73\u001b[0m     \u001b[38;5;28;01mreturn\u001b[39;00m \u001b[43mrequest\u001b[49m\u001b[43m(\u001b[49m\u001b[38;5;124;43m\"\u001b[39;49m\u001b[38;5;124;43mget\u001b[39;49m\u001b[38;5;124;43m\"\u001b[39;49m\u001b[43m,\u001b[49m\u001b[43m \u001b[49m\u001b[43murl\u001b[49m\u001b[43m,\u001b[49m\u001b[43m \u001b[49m\u001b[43mparams\u001b[49m\u001b[38;5;241;43m=\u001b[39;49m\u001b[43mparams\u001b[49m\u001b[43m,\u001b[49m\u001b[43m \u001b[49m\u001b[38;5;241;43m*\u001b[39;49m\u001b[38;5;241;43m*\u001b[39;49m\u001b[43mkwargs\u001b[49m\u001b[43m)\u001b[49m\n",
      "File \u001b[0;32m~/.local/lib/python3.10/site-packages/requests/api.py:59\u001b[0m, in \u001b[0;36mrequest\u001b[0;34m(method, url, **kwargs)\u001b[0m\n\u001b[1;32m     55\u001b[0m \u001b[38;5;66;03m# By using the 'with' statement we are sure the session is closed, thus we\u001b[39;00m\n\u001b[1;32m     56\u001b[0m \u001b[38;5;66;03m# avoid leaving sockets open which can trigger a ResourceWarning in some\u001b[39;00m\n\u001b[1;32m     57\u001b[0m \u001b[38;5;66;03m# cases, and look like a memory leak in others.\u001b[39;00m\n\u001b[1;32m     58\u001b[0m \u001b[38;5;28;01mwith\u001b[39;00m sessions\u001b[38;5;241m.\u001b[39mSession() \u001b[38;5;28;01mas\u001b[39;00m session:\n\u001b[0;32m---> 59\u001b[0m     \u001b[38;5;28;01mreturn\u001b[39;00m \u001b[43msession\u001b[49m\u001b[38;5;241;43m.\u001b[39;49m\u001b[43mrequest\u001b[49m\u001b[43m(\u001b[49m\u001b[43mmethod\u001b[49m\u001b[38;5;241;43m=\u001b[39;49m\u001b[43mmethod\u001b[49m\u001b[43m,\u001b[49m\u001b[43m \u001b[49m\u001b[43murl\u001b[49m\u001b[38;5;241;43m=\u001b[39;49m\u001b[43murl\u001b[49m\u001b[43m,\u001b[49m\u001b[43m \u001b[49m\u001b[38;5;241;43m*\u001b[39;49m\u001b[38;5;241;43m*\u001b[39;49m\u001b[43mkwargs\u001b[49m\u001b[43m)\u001b[49m\n",
      "File \u001b[0;32m~/.local/lib/python3.10/site-packages/requests/sessions.py:589\u001b[0m, in \u001b[0;36mSession.request\u001b[0;34m(self, method, url, params, data, headers, cookies, files, auth, timeout, allow_redirects, proxies, hooks, stream, verify, cert, json)\u001b[0m\n\u001b[1;32m    584\u001b[0m send_kwargs \u001b[38;5;241m=\u001b[39m {\n\u001b[1;32m    585\u001b[0m     \u001b[38;5;124m\"\u001b[39m\u001b[38;5;124mtimeout\u001b[39m\u001b[38;5;124m\"\u001b[39m: timeout,\n\u001b[1;32m    586\u001b[0m     \u001b[38;5;124m\"\u001b[39m\u001b[38;5;124mallow_redirects\u001b[39m\u001b[38;5;124m\"\u001b[39m: allow_redirects,\n\u001b[1;32m    587\u001b[0m }\n\u001b[1;32m    588\u001b[0m send_kwargs\u001b[38;5;241m.\u001b[39mupdate(settings)\n\u001b[0;32m--> 589\u001b[0m resp \u001b[38;5;241m=\u001b[39m \u001b[38;5;28;43mself\u001b[39;49m\u001b[38;5;241;43m.\u001b[39;49m\u001b[43msend\u001b[49m\u001b[43m(\u001b[49m\u001b[43mprep\u001b[49m\u001b[43m,\u001b[49m\u001b[43m \u001b[49m\u001b[38;5;241;43m*\u001b[39;49m\u001b[38;5;241;43m*\u001b[39;49m\u001b[43msend_kwargs\u001b[49m\u001b[43m)\u001b[49m\n\u001b[1;32m    591\u001b[0m \u001b[38;5;28;01mreturn\u001b[39;00m resp\n",
      "File \u001b[0;32m~/.local/lib/python3.10/site-packages/requests/sessions.py:703\u001b[0m, in \u001b[0;36mSession.send\u001b[0;34m(self, request, **kwargs)\u001b[0m\n\u001b[1;32m    700\u001b[0m start \u001b[38;5;241m=\u001b[39m preferred_clock()\n\u001b[1;32m    702\u001b[0m \u001b[38;5;66;03m# Send the request\u001b[39;00m\n\u001b[0;32m--> 703\u001b[0m r \u001b[38;5;241m=\u001b[39m \u001b[43madapter\u001b[49m\u001b[38;5;241;43m.\u001b[39;49m\u001b[43msend\u001b[49m\u001b[43m(\u001b[49m\u001b[43mrequest\u001b[49m\u001b[43m,\u001b[49m\u001b[43m \u001b[49m\u001b[38;5;241;43m*\u001b[39;49m\u001b[38;5;241;43m*\u001b[39;49m\u001b[43mkwargs\u001b[49m\u001b[43m)\u001b[49m\n\u001b[1;32m    705\u001b[0m \u001b[38;5;66;03m# Total elapsed time of the request (approximately)\u001b[39;00m\n\u001b[1;32m    706\u001b[0m elapsed \u001b[38;5;241m=\u001b[39m preferred_clock() \u001b[38;5;241m-\u001b[39m start\n",
      "File \u001b[0;32m~/.local/lib/python3.10/site-packages/requests/adapters.py:486\u001b[0m, in \u001b[0;36mHTTPAdapter.send\u001b[0;34m(self, request, stream, timeout, verify, cert, proxies)\u001b[0m\n\u001b[1;32m    483\u001b[0m     timeout \u001b[38;5;241m=\u001b[39m TimeoutSauce(connect\u001b[38;5;241m=\u001b[39mtimeout, read\u001b[38;5;241m=\u001b[39mtimeout)\n\u001b[1;32m    485\u001b[0m \u001b[38;5;28;01mtry\u001b[39;00m:\n\u001b[0;32m--> 486\u001b[0m     resp \u001b[38;5;241m=\u001b[39m \u001b[43mconn\u001b[49m\u001b[38;5;241;43m.\u001b[39;49m\u001b[43murlopen\u001b[49m\u001b[43m(\u001b[49m\n\u001b[1;32m    487\u001b[0m \u001b[43m        \u001b[49m\u001b[43mmethod\u001b[49m\u001b[38;5;241;43m=\u001b[39;49m\u001b[43mrequest\u001b[49m\u001b[38;5;241;43m.\u001b[39;49m\u001b[43mmethod\u001b[49m\u001b[43m,\u001b[49m\n\u001b[1;32m    488\u001b[0m \u001b[43m        \u001b[49m\u001b[43murl\u001b[49m\u001b[38;5;241;43m=\u001b[39;49m\u001b[43murl\u001b[49m\u001b[43m,\u001b[49m\n\u001b[1;32m    489\u001b[0m \u001b[43m        \u001b[49m\u001b[43mbody\u001b[49m\u001b[38;5;241;43m=\u001b[39;49m\u001b[43mrequest\u001b[49m\u001b[38;5;241;43m.\u001b[39;49m\u001b[43mbody\u001b[49m\u001b[43m,\u001b[49m\n\u001b[1;32m    490\u001b[0m \u001b[43m        \u001b[49m\u001b[43mheaders\u001b[49m\u001b[38;5;241;43m=\u001b[39;49m\u001b[43mrequest\u001b[49m\u001b[38;5;241;43m.\u001b[39;49m\u001b[43mheaders\u001b[49m\u001b[43m,\u001b[49m\n\u001b[1;32m    491\u001b[0m \u001b[43m        \u001b[49m\u001b[43mredirect\u001b[49m\u001b[38;5;241;43m=\u001b[39;49m\u001b[38;5;28;43;01mFalse\u001b[39;49;00m\u001b[43m,\u001b[49m\n\u001b[1;32m    492\u001b[0m \u001b[43m        \u001b[49m\u001b[43massert_same_host\u001b[49m\u001b[38;5;241;43m=\u001b[39;49m\u001b[38;5;28;43;01mFalse\u001b[39;49;00m\u001b[43m,\u001b[49m\n\u001b[1;32m    493\u001b[0m \u001b[43m        \u001b[49m\u001b[43mpreload_content\u001b[49m\u001b[38;5;241;43m=\u001b[39;49m\u001b[38;5;28;43;01mFalse\u001b[39;49;00m\u001b[43m,\u001b[49m\n\u001b[1;32m    494\u001b[0m \u001b[43m        \u001b[49m\u001b[43mdecode_content\u001b[49m\u001b[38;5;241;43m=\u001b[39;49m\u001b[38;5;28;43;01mFalse\u001b[39;49;00m\u001b[43m,\u001b[49m\n\u001b[1;32m    495\u001b[0m \u001b[43m        \u001b[49m\u001b[43mretries\u001b[49m\u001b[38;5;241;43m=\u001b[39;49m\u001b[38;5;28;43mself\u001b[39;49m\u001b[38;5;241;43m.\u001b[39;49m\u001b[43mmax_retries\u001b[49m\u001b[43m,\u001b[49m\n\u001b[1;32m    496\u001b[0m \u001b[43m        \u001b[49m\u001b[43mtimeout\u001b[49m\u001b[38;5;241;43m=\u001b[39;49m\u001b[43mtimeout\u001b[49m\u001b[43m,\u001b[49m\n\u001b[1;32m    497\u001b[0m \u001b[43m        \u001b[49m\u001b[43mchunked\u001b[49m\u001b[38;5;241;43m=\u001b[39;49m\u001b[43mchunked\u001b[49m\u001b[43m,\u001b[49m\n\u001b[1;32m    498\u001b[0m \u001b[43m    \u001b[49m\u001b[43m)\u001b[49m\n\u001b[1;32m    500\u001b[0m \u001b[38;5;28;01mexcept\u001b[39;00m (ProtocolError, \u001b[38;5;167;01mOSError\u001b[39;00m) \u001b[38;5;28;01mas\u001b[39;00m err:\n\u001b[1;32m    501\u001b[0m     \u001b[38;5;28;01mraise\u001b[39;00m \u001b[38;5;167;01mConnectionError\u001b[39;00m(err, request\u001b[38;5;241m=\u001b[39mrequest)\n",
      "File \u001b[0;32m~/.local/lib/python3.10/site-packages/urllib3/connectionpool.py:793\u001b[0m, in \u001b[0;36mHTTPConnectionPool.urlopen\u001b[0;34m(self, method, url, body, headers, retries, redirect, assert_same_host, timeout, pool_timeout, release_conn, chunked, body_pos, preload_content, decode_content, **response_kw)\u001b[0m\n\u001b[1;32m    790\u001b[0m response_conn \u001b[38;5;241m=\u001b[39m conn \u001b[38;5;28;01mif\u001b[39;00m \u001b[38;5;129;01mnot\u001b[39;00m release_conn \u001b[38;5;28;01melse\u001b[39;00m \u001b[38;5;28;01mNone\u001b[39;00m\n\u001b[1;32m    792\u001b[0m \u001b[38;5;66;03m# Make the request on the HTTPConnection object\u001b[39;00m\n\u001b[0;32m--> 793\u001b[0m response \u001b[38;5;241m=\u001b[39m \u001b[38;5;28;43mself\u001b[39;49m\u001b[38;5;241;43m.\u001b[39;49m\u001b[43m_make_request\u001b[49m\u001b[43m(\u001b[49m\n\u001b[1;32m    794\u001b[0m \u001b[43m    \u001b[49m\u001b[43mconn\u001b[49m\u001b[43m,\u001b[49m\n\u001b[1;32m    795\u001b[0m \u001b[43m    \u001b[49m\u001b[43mmethod\u001b[49m\u001b[43m,\u001b[49m\n\u001b[1;32m    796\u001b[0m \u001b[43m    \u001b[49m\u001b[43murl\u001b[49m\u001b[43m,\u001b[49m\n\u001b[1;32m    797\u001b[0m \u001b[43m    \u001b[49m\u001b[43mtimeout\u001b[49m\u001b[38;5;241;43m=\u001b[39;49m\u001b[43mtimeout_obj\u001b[49m\u001b[43m,\u001b[49m\n\u001b[1;32m    798\u001b[0m \u001b[43m    \u001b[49m\u001b[43mbody\u001b[49m\u001b[38;5;241;43m=\u001b[39;49m\u001b[43mbody\u001b[49m\u001b[43m,\u001b[49m\n\u001b[1;32m    799\u001b[0m \u001b[43m    \u001b[49m\u001b[43mheaders\u001b[49m\u001b[38;5;241;43m=\u001b[39;49m\u001b[43mheaders\u001b[49m\u001b[43m,\u001b[49m\n\u001b[1;32m    800\u001b[0m \u001b[43m    \u001b[49m\u001b[43mchunked\u001b[49m\u001b[38;5;241;43m=\u001b[39;49m\u001b[43mchunked\u001b[49m\u001b[43m,\u001b[49m\n\u001b[1;32m    801\u001b[0m \u001b[43m    \u001b[49m\u001b[43mretries\u001b[49m\u001b[38;5;241;43m=\u001b[39;49m\u001b[43mretries\u001b[49m\u001b[43m,\u001b[49m\n\u001b[1;32m    802\u001b[0m \u001b[43m    \u001b[49m\u001b[43mresponse_conn\u001b[49m\u001b[38;5;241;43m=\u001b[39;49m\u001b[43mresponse_conn\u001b[49m\u001b[43m,\u001b[49m\n\u001b[1;32m    803\u001b[0m \u001b[43m    \u001b[49m\u001b[43mpreload_content\u001b[49m\u001b[38;5;241;43m=\u001b[39;49m\u001b[43mpreload_content\u001b[49m\u001b[43m,\u001b[49m\n\u001b[1;32m    804\u001b[0m \u001b[43m    \u001b[49m\u001b[43mdecode_content\u001b[49m\u001b[38;5;241;43m=\u001b[39;49m\u001b[43mdecode_content\u001b[49m\u001b[43m,\u001b[49m\n\u001b[1;32m    805\u001b[0m \u001b[43m    \u001b[49m\u001b[38;5;241;43m*\u001b[39;49m\u001b[38;5;241;43m*\u001b[39;49m\u001b[43mresponse_kw\u001b[49m\u001b[43m,\u001b[49m\n\u001b[1;32m    806\u001b[0m \u001b[43m\u001b[49m\u001b[43m)\u001b[49m\n\u001b[1;32m    808\u001b[0m \u001b[38;5;66;03m# Everything went great!\u001b[39;00m\n\u001b[1;32m    809\u001b[0m clean_exit \u001b[38;5;241m=\u001b[39m \u001b[38;5;28;01mTrue\u001b[39;00m\n",
      "File \u001b[0;32m~/.local/lib/python3.10/site-packages/urllib3/connectionpool.py:467\u001b[0m, in \u001b[0;36mHTTPConnectionPool._make_request\u001b[0;34m(self, conn, method, url, body, headers, retries, timeout, chunked, response_conn, preload_content, decode_content, enforce_content_length)\u001b[0m\n\u001b[1;32m    464\u001b[0m \u001b[38;5;28;01mtry\u001b[39;00m:\n\u001b[1;32m    465\u001b[0m     \u001b[38;5;66;03m# Trigger any extra validation we need to do.\u001b[39;00m\n\u001b[1;32m    466\u001b[0m     \u001b[38;5;28;01mtry\u001b[39;00m:\n\u001b[0;32m--> 467\u001b[0m         \u001b[38;5;28;43mself\u001b[39;49m\u001b[38;5;241;43m.\u001b[39;49m\u001b[43m_validate_conn\u001b[49m\u001b[43m(\u001b[49m\u001b[43mconn\u001b[49m\u001b[43m)\u001b[49m\n\u001b[1;32m    468\u001b[0m     \u001b[38;5;28;01mexcept\u001b[39;00m (SocketTimeout, BaseSSLError) \u001b[38;5;28;01mas\u001b[39;00m e:\n\u001b[1;32m    469\u001b[0m         \u001b[38;5;28mself\u001b[39m\u001b[38;5;241m.\u001b[39m_raise_timeout(err\u001b[38;5;241m=\u001b[39me, url\u001b[38;5;241m=\u001b[39murl, timeout_value\u001b[38;5;241m=\u001b[39mconn\u001b[38;5;241m.\u001b[39mtimeout)\n",
      "File \u001b[0;32m~/.local/lib/python3.10/site-packages/urllib3/connectionpool.py:1099\u001b[0m, in \u001b[0;36mHTTPSConnectionPool._validate_conn\u001b[0;34m(self, conn)\u001b[0m\n\u001b[1;32m   1097\u001b[0m \u001b[38;5;66;03m# Force connect early to allow us to validate the connection.\u001b[39;00m\n\u001b[1;32m   1098\u001b[0m \u001b[38;5;28;01mif\u001b[39;00m conn\u001b[38;5;241m.\u001b[39mis_closed:\n\u001b[0;32m-> 1099\u001b[0m     \u001b[43mconn\u001b[49m\u001b[38;5;241;43m.\u001b[39;49m\u001b[43mconnect\u001b[49m\u001b[43m(\u001b[49m\u001b[43m)\u001b[49m\n\u001b[1;32m   1101\u001b[0m \u001b[38;5;66;03m# TODO revise this, see https://github.com/urllib3/urllib3/issues/2791\u001b[39;00m\n\u001b[1;32m   1102\u001b[0m \u001b[38;5;28;01mif\u001b[39;00m \u001b[38;5;129;01mnot\u001b[39;00m conn\u001b[38;5;241m.\u001b[39mis_verified \u001b[38;5;129;01mand\u001b[39;00m \u001b[38;5;129;01mnot\u001b[39;00m conn\u001b[38;5;241m.\u001b[39mproxy_is_verified:\n",
      "File \u001b[0;32m~/.local/lib/python3.10/site-packages/urllib3/connection.py:616\u001b[0m, in \u001b[0;36mHTTPSConnection.connect\u001b[0;34m(self)\u001b[0m\n\u001b[1;32m    614\u001b[0m \u001b[38;5;28;01mdef\u001b[39;00m \u001b[38;5;21mconnect\u001b[39m(\u001b[38;5;28mself\u001b[39m) \u001b[38;5;241m-\u001b[39m\u001b[38;5;241m>\u001b[39m \u001b[38;5;28;01mNone\u001b[39;00m:\n\u001b[1;32m    615\u001b[0m     sock: socket\u001b[38;5;241m.\u001b[39msocket \u001b[38;5;241m|\u001b[39m ssl\u001b[38;5;241m.\u001b[39mSSLSocket\n\u001b[0;32m--> 616\u001b[0m     \u001b[38;5;28mself\u001b[39m\u001b[38;5;241m.\u001b[39msock \u001b[38;5;241m=\u001b[39m sock \u001b[38;5;241m=\u001b[39m \u001b[38;5;28;43mself\u001b[39;49m\u001b[38;5;241;43m.\u001b[39;49m\u001b[43m_new_conn\u001b[49m\u001b[43m(\u001b[49m\u001b[43m)\u001b[49m\n\u001b[1;32m    617\u001b[0m     server_hostname: \u001b[38;5;28mstr\u001b[39m \u001b[38;5;241m=\u001b[39m \u001b[38;5;28mself\u001b[39m\u001b[38;5;241m.\u001b[39mhost\n\u001b[1;32m    618\u001b[0m     tls_in_tls \u001b[38;5;241m=\u001b[39m \u001b[38;5;28;01mFalse\u001b[39;00m\n",
      "File \u001b[0;32m~/.local/lib/python3.10/site-packages/urllib3/connection.py:198\u001b[0m, in \u001b[0;36mHTTPConnection._new_conn\u001b[0;34m(self)\u001b[0m\n\u001b[1;32m    193\u001b[0m \u001b[38;5;250m\u001b[39m\u001b[38;5;124;03m\"\"\"Establish a socket connection and set nodelay settings on it.\u001b[39;00m\n\u001b[1;32m    194\u001b[0m \n\u001b[1;32m    195\u001b[0m \u001b[38;5;124;03m:return: New socket connection.\u001b[39;00m\n\u001b[1;32m    196\u001b[0m \u001b[38;5;124;03m\"\"\"\u001b[39;00m\n\u001b[1;32m    197\u001b[0m \u001b[38;5;28;01mtry\u001b[39;00m:\n\u001b[0;32m--> 198\u001b[0m     sock \u001b[38;5;241m=\u001b[39m \u001b[43mconnection\u001b[49m\u001b[38;5;241;43m.\u001b[39;49m\u001b[43mcreate_connection\u001b[49m\u001b[43m(\u001b[49m\n\u001b[1;32m    199\u001b[0m \u001b[43m        \u001b[49m\u001b[43m(\u001b[49m\u001b[38;5;28;43mself\u001b[39;49m\u001b[38;5;241;43m.\u001b[39;49m\u001b[43m_dns_host\u001b[49m\u001b[43m,\u001b[49m\u001b[43m \u001b[49m\u001b[38;5;28;43mself\u001b[39;49m\u001b[38;5;241;43m.\u001b[39;49m\u001b[43mport\u001b[49m\u001b[43m)\u001b[49m\u001b[43m,\u001b[49m\n\u001b[1;32m    200\u001b[0m \u001b[43m        \u001b[49m\u001b[38;5;28;43mself\u001b[39;49m\u001b[38;5;241;43m.\u001b[39;49m\u001b[43mtimeout\u001b[49m\u001b[43m,\u001b[49m\n\u001b[1;32m    201\u001b[0m \u001b[43m        \u001b[49m\u001b[43msource_address\u001b[49m\u001b[38;5;241;43m=\u001b[39;49m\u001b[38;5;28;43mself\u001b[39;49m\u001b[38;5;241;43m.\u001b[39;49m\u001b[43msource_address\u001b[49m\u001b[43m,\u001b[49m\n\u001b[1;32m    202\u001b[0m \u001b[43m        \u001b[49m\u001b[43msocket_options\u001b[49m\u001b[38;5;241;43m=\u001b[39;49m\u001b[38;5;28;43mself\u001b[39;49m\u001b[38;5;241;43m.\u001b[39;49m\u001b[43msocket_options\u001b[49m\u001b[43m,\u001b[49m\n\u001b[1;32m    203\u001b[0m \u001b[43m    \u001b[49m\u001b[43m)\u001b[49m\n\u001b[1;32m    204\u001b[0m \u001b[38;5;28;01mexcept\u001b[39;00m socket\u001b[38;5;241m.\u001b[39mgaierror \u001b[38;5;28;01mas\u001b[39;00m e:\n\u001b[1;32m    205\u001b[0m     \u001b[38;5;28;01mraise\u001b[39;00m NameResolutionError(\u001b[38;5;28mself\u001b[39m\u001b[38;5;241m.\u001b[39mhost, \u001b[38;5;28mself\u001b[39m, e) \u001b[38;5;28;01mfrom\u001b[39;00m \u001b[38;5;21;01me\u001b[39;00m\n",
      "File \u001b[0;32m~/.local/lib/python3.10/site-packages/urllib3/util/connection.py:60\u001b[0m, in \u001b[0;36mcreate_connection\u001b[0;34m(address, timeout, source_address, socket_options)\u001b[0m\n\u001b[1;32m     57\u001b[0m \u001b[38;5;28;01mexcept\u001b[39;00m \u001b[38;5;167;01mUnicodeError\u001b[39;00m:\n\u001b[1;32m     58\u001b[0m     \u001b[38;5;28;01mraise\u001b[39;00m LocationParseError(\u001b[38;5;124mf\u001b[39m\u001b[38;5;124m\"\u001b[39m\u001b[38;5;124m'\u001b[39m\u001b[38;5;132;01m{\u001b[39;00mhost\u001b[38;5;132;01m}\u001b[39;00m\u001b[38;5;124m'\u001b[39m\u001b[38;5;124m, label empty or too long\u001b[39m\u001b[38;5;124m\"\u001b[39m) \u001b[38;5;28;01mfrom\u001b[39;00m \u001b[38;5;28;01mNone\u001b[39;00m\n\u001b[0;32m---> 60\u001b[0m \u001b[38;5;28;01mfor\u001b[39;00m res \u001b[38;5;129;01min\u001b[39;00m \u001b[43msocket\u001b[49m\u001b[38;5;241;43m.\u001b[39;49m\u001b[43mgetaddrinfo\u001b[49m\u001b[43m(\u001b[49m\u001b[43mhost\u001b[49m\u001b[43m,\u001b[49m\u001b[43m \u001b[49m\u001b[43mport\u001b[49m\u001b[43m,\u001b[49m\u001b[43m \u001b[49m\u001b[43mfamily\u001b[49m\u001b[43m,\u001b[49m\u001b[43m \u001b[49m\u001b[43msocket\u001b[49m\u001b[38;5;241;43m.\u001b[39;49m\u001b[43mSOCK_STREAM\u001b[49m\u001b[43m)\u001b[49m:\n\u001b[1;32m     61\u001b[0m     af, socktype, proto, canonname, sa \u001b[38;5;241m=\u001b[39m res\n\u001b[1;32m     62\u001b[0m     sock \u001b[38;5;241m=\u001b[39m \u001b[38;5;28;01mNone\u001b[39;00m\n",
      "File \u001b[0;32m/usr/lib/python3.10/socket.py:955\u001b[0m, in \u001b[0;36mgetaddrinfo\u001b[0;34m(host, port, family, type, proto, flags)\u001b[0m\n\u001b[1;32m    952\u001b[0m \u001b[38;5;66;03m# We override this function since we want to translate the numeric family\u001b[39;00m\n\u001b[1;32m    953\u001b[0m \u001b[38;5;66;03m# and socket type values to enum constants.\u001b[39;00m\n\u001b[1;32m    954\u001b[0m addrlist \u001b[38;5;241m=\u001b[39m []\n\u001b[0;32m--> 955\u001b[0m \u001b[38;5;28;01mfor\u001b[39;00m res \u001b[38;5;129;01min\u001b[39;00m \u001b[43m_socket\u001b[49m\u001b[38;5;241;43m.\u001b[39;49m\u001b[43mgetaddrinfo\u001b[49m\u001b[43m(\u001b[49m\u001b[43mhost\u001b[49m\u001b[43m,\u001b[49m\u001b[43m \u001b[49m\u001b[43mport\u001b[49m\u001b[43m,\u001b[49m\u001b[43m \u001b[49m\u001b[43mfamily\u001b[49m\u001b[43m,\u001b[49m\u001b[43m \u001b[49m\u001b[38;5;28;43mtype\u001b[39;49m\u001b[43m,\u001b[49m\u001b[43m \u001b[49m\u001b[43mproto\u001b[49m\u001b[43m,\u001b[49m\u001b[43m \u001b[49m\u001b[43mflags\u001b[49m\u001b[43m)\u001b[49m:\n\u001b[1;32m    956\u001b[0m     af, socktype, proto, canonname, sa \u001b[38;5;241m=\u001b[39m res\n\u001b[1;32m    957\u001b[0m     addrlist\u001b[38;5;241m.\u001b[39mappend((_intenum_converter(af, AddressFamily),\n\u001b[1;32m    958\u001b[0m                      _intenum_converter(socktype, SocketKind),\n\u001b[1;32m    959\u001b[0m                      proto, canonname, sa))\n",
      "\u001b[0;31mKeyboardInterrupt\u001b[0m: "
     ]
    }
   ],
   "source": [
    "params = {\n",
    "    \"key\": YOUTUBE_API_KEY,\n",
    "    \"part\": 'snippet',\n",
    "    \"q\":\"ポケモン\",\n",
    "    \"order\":'viewCount',\n",
    "    \"type\":'video',\n",
    "    # \"fields\": \"id,snippet,statistics,status\",\n",
    "}\n",
    "r = requests.get(URL_SEARCH, params=params)\n",
    "  \n"
   ]
  },
  {
   "cell_type": "code",
   "execution_count": null,
   "id": "dafda296",
   "metadata": {},
   "outputs": [
    {
     "data": {
      "text/plain": [
       "[{'kind': 'youtube#searchResult',\n",
       "  'etag': 'ZuuaG1al2W-QJSIIrmccwTmvpsY',\n",
       "  'id': {'kind': 'youtube#video', 'videoId': 'CYMQwEHzH_k'},\n",
       "  'snippet': {'publishedAt': '2017-11-30T17:34:45Z',\n",
       "   'channelId': 'UCUMKhiOBYNgBLUHcXcjj0WA',\n",
       "   'title': 'Pacman vs Pokemon',\n",
       "   'description': 'pacman #pikachu #pokemon Funny animation with some Pokemon versus Pacman ❤ Subscribe to my brand new relaxing ...',\n",
       "   'thumbnails': {'default': {'url': 'https://i.ytimg.com/vi/CYMQwEHzH_k/default.jpg',\n",
       "     'width': 120,\n",
       "     'height': 90},\n",
       "    'medium': {'url': 'https://i.ytimg.com/vi/CYMQwEHzH_k/mqdefault.jpg',\n",
       "     'width': 320,\n",
       "     'height': 180},\n",
       "    'high': {'url': 'https://i.ytimg.com/vi/CYMQwEHzH_k/hqdefault.jpg',\n",
       "     'width': 480,\n",
       "     'height': 360}},\n",
       "   'channelTitle': 'Antonio Palmucci',\n",
       "   'liveBroadcastContent': 'none',\n",
       "   'publishTime': '2017-11-30T17:34:45Z'}},\n",
       " {'kind': 'youtube#searchResult',\n",
       "  'etag': 'LZk_fHC5TOcTBXS5CTQSGQfcerE',\n",
       "  'id': {'kind': 'youtube#video', 'videoId': 'zlRDOj-3EpA'},\n",
       "  'snippet': {'publishedAt': '2022-02-18T02:45:04Z',\n",
       "   'channelId': 'UC_SI1j1d8vJo_rYMV5o_dRg',\n",
       "   'title': '【公式】「ポケモンたちとの甘い冬」第2話「ゴージャス！タルト盛り合せ」',\n",
       "   'description': 'ある料理好きの男性とポケモンたちの、おいしくてあたたかい日常風景を描いたショートムービー「ポケモンたちとの甘い冬」第2 ...',\n",
       "   'thumbnails': {'default': {'url': 'https://i.ytimg.com/vi/zlRDOj-3EpA/default.jpg',\n",
       "     'width': 120,\n",
       "     'height': 90},\n",
       "    'medium': {'url': 'https://i.ytimg.com/vi/zlRDOj-3EpA/mqdefault.jpg',\n",
       "     'width': 320,\n",
       "     'height': 180},\n",
       "    'high': {'url': 'https://i.ytimg.com/vi/zlRDOj-3EpA/hqdefault.jpg',\n",
       "     'width': 480,\n",
       "     'height': 360}},\n",
       "   'channelTitle': 'ポケモン公式YouTubeチャンネル',\n",
       "   'liveBroadcastContent': 'none',\n",
       "   'publishTime': '2022-02-18T02:45:04Z'}},\n",
       " {'kind': 'youtube#searchResult',\n",
       "  'etag': 'JE8xkDuB72FYMIjQHYTYtRhu2nA',\n",
       "  'id': {'kind': 'youtube#video', 'videoId': 'BoZ0Zwab6Oc'},\n",
       "  'snippet': {'publishedAt': '2020-09-29T13:13:35Z',\n",
       "   'channelId': 'UC_SI1j1d8vJo_rYMV5o_dRg',\n",
       "   'title': '【Official】Pokémon Special Music Video 「GOTCHA！」 | BUMP OF CHICKEN - Acacia',\n",
       "   'description': 'ポケモン ＆ BUMP OF CHICKEN スペシャルミュージックビデオ「GOTCHA！」 9言語の歌詞字幕付きで公開中！',\n",
       "   'thumbnails': {'default': {'url': 'https://i.ytimg.com/vi/BoZ0Zwab6Oc/default.jpg',\n",
       "     'width': 120,\n",
       "     'height': 90},\n",
       "    'medium': {'url': 'https://i.ytimg.com/vi/BoZ0Zwab6Oc/mqdefault.jpg',\n",
       "     'width': 320,\n",
       "     'height': 180},\n",
       "    'high': {'url': 'https://i.ytimg.com/vi/BoZ0Zwab6Oc/hqdefault.jpg',\n",
       "     'width': 480,\n",
       "     'height': 360}},\n",
       "   'channelTitle': 'ポケモン公式YouTubeチャンネル',\n",
       "   'liveBroadcastContent': 'none',\n",
       "   'publishTime': '2020-09-29T13:13:35Z'}},\n",
       " {'kind': 'youtube#searchResult',\n",
       "  'etag': 'dlQHt-TwbAi6gRnx9QC9uNQq_fw',\n",
       "  'id': {'kind': 'youtube#video', 'videoId': 'xtkcVp43Df4'},\n",
       "  'snippet': {'publishedAt': '2018-06-09T15:41:17Z',\n",
       "   'channelId': 'UCWJLwwmDx2m2zUA_J2r655w',\n",
       "   'title': 'Don&#39;t leave your Pokemon alone',\n",
       "   'description': 'This is what happens when you let your Pokemon play alone. If you liked the music you can listen to the full tracks here: ...',\n",
       "   'thumbnails': {'default': {'url': 'https://i.ytimg.com/vi/xtkcVp43Df4/default.jpg',\n",
       "     'width': 120,\n",
       "     'height': 90},\n",
       "    'medium': {'url': 'https://i.ytimg.com/vi/xtkcVp43Df4/mqdefault.jpg',\n",
       "     'width': 320,\n",
       "     'height': 180},\n",
       "    'high': {'url': 'https://i.ytimg.com/vi/xtkcVp43Df4/hqdefault.jpg',\n",
       "     'width': 480,\n",
       "     'height': 360}},\n",
       "   'channelTitle': 'Karma Animation',\n",
       "   'liveBroadcastContent': 'none',\n",
       "   'publishTime': '2018-06-09T15:41:17Z'}},\n",
       " {'kind': 'youtube#searchResult',\n",
       "  'etag': 'Uilevvun7FPwZWNYpk_EqSmA4dg',\n",
       "  'id': {'kind': 'youtube#video', 'videoId': 'qYllGk_5gl0'},\n",
       "  'snippet': {'publishedAt': '2022-11-18T15:00:38Z',\n",
       "   'channelId': 'UCn3AViOfcFN4zIICMC5hvPg',\n",
       "   'title': 'Pokémon In Real Life',\n",
       "   'description': \"Who's excited for the new Pokemon game Scarlet and Violet coming out??? \\u200d♀️ My first Pokemon game was Pokemon Go!\",\n",
       "   'thumbnails': {'default': {'url': 'https://i.ytimg.com/vi/qYllGk_5gl0/default.jpg',\n",
       "     'width': 120,\n",
       "     'height': 90},\n",
       "    'medium': {'url': 'https://i.ytimg.com/vi/qYllGk_5gl0/mqdefault.jpg',\n",
       "     'width': 320,\n",
       "     'height': 180},\n",
       "    'high': {'url': 'https://i.ytimg.com/vi/qYllGk_5gl0/hqdefault.jpg',\n",
       "     'width': 480,\n",
       "     'height': 360}},\n",
       "   'channelTitle': 'Shiloh & Bros',\n",
       "   'liveBroadcastContent': 'none',\n",
       "   'publishTime': '2022-11-18T15:00:38Z'}}]"
      ]
     },
     "execution_count": 3,
     "metadata": {},
     "output_type": "execute_result"
    }
   ],
   "source": [
    "r.json()[\"items\"]"
   ]
  },
  {
   "cell_type": "code",
   "execution_count": null,
   "id": "179c7f58",
   "metadata": {},
   "outputs": [],
   "source": [
    "top_bideoID = r.json()[\"items\"][0][\"id\"][\"videoId\"]"
   ]
  },
  {
   "cell_type": "markdown",
   "id": "a3fb0e40",
   "metadata": {},
   "source": [
    "# webAPIでの詳細検索\n",
    "キーワード検索で取得したIDを使って詳細検索"
   ]
  },
  {
   "cell_type": "code",
   "execution_count": null,
   "id": "e79e32ac-35b1-4f80-8909-edb94df6472a",
   "metadata": {},
   "outputs": [],
   "source": [
    "\n",
    "# videoId = \"tYtQLNO4eNI\"\n",
    "params = {\n",
    "    \"id\": top_bideoID,\n",
    "    \"key\": YOUTUBE_API_KEY,\n",
    "    \"part\": 'snippet,statistics,status,contentDetails,topicDetails',\n",
    "    # \"fields\": \"id,snippet,statistics,status\",\n",
    "}\n",
    "\n",
    "r = requests.get(URL_VIDEOS, params=params)"
   ]
  },
  {
   "cell_type": "markdown",
   "id": "0fc11111",
   "metadata": {},
   "source": [
    "## 取得できるデータ\n",
    "参考：https://qiita.com/SoichiroOta/items/6aa6316d9e0478180e2d"
   ]
  },
  {
   "cell_type": "code",
   "execution_count": null,
   "id": "5826aa7f",
   "metadata": {},
   "outputs": [
    {
     "data": {
      "text/plain": [
       "dict_keys(['kind', 'etag', 'id', 'snippet', 'contentDetails', 'status', 'statistics', 'topicDetails'])"
      ]
     },
     "execution_count": 6,
     "metadata": {},
     "output_type": "execute_result"
    }
   ],
   "source": [
    "\n",
    "r.json()[\"items\"][0].keys()"
   ]
  },
  {
   "cell_type": "markdown",
   "id": "d0a99951",
   "metadata": {},
   "source": [
    "### snippet"
   ]
  },
  {
   "cell_type": "code",
   "execution_count": null,
   "id": "89675361-bfa4-4e14-871f-1a107cc46880",
   "metadata": {},
   "outputs": [
    {
     "data": {
      "text/plain": [
       "dict_keys(['publishedAt', 'channelId', 'title', 'description', 'thumbnails', 'channelTitle', 'tags', 'categoryId', 'liveBroadcastContent', 'localized'])"
      ]
     },
     "execution_count": 7,
     "metadata": {},
     "output_type": "execute_result"
    }
   ],
   "source": [
    "r.json()[\"items\"][0][\"snippet\"].keys()"
   ]
  },
  {
   "cell_type": "code",
   "execution_count": null,
   "id": "b05c025d",
   "metadata": {},
   "outputs": [
    {
     "data": {
      "text/plain": [
       "{'publishedAt': '2017-11-30T17:34:45Z',\n",
       " 'channelId': 'UCUMKhiOBYNgBLUHcXcjj0WA',\n",
       " 'title': 'Pacman vs Pokemon',\n",
       " 'description': '#pacman #pikachu #pokemon\\nFunny animation with some Pokemon versus Pacman\\n\\n❤ Subscribe to my brand new relaxing channel! 😁 @arcadersoft \\n❤ Subscribe to my brand new Pacman channel! 😁 @arcadershorts \\n❤Follow me on Facebook - https://www.facebook.com/Pacman-is-a-bad-guy-458269667666956/?ref=aymt_homepage_panel\\n❤Follow me on my NEW TIK TOK channel antopacman88 😀',\n",
       " 'thumbnails': {'default': {'url': 'https://i.ytimg.com/vi/CYMQwEHzH_k/default.jpg',\n",
       "   'width': 120,\n",
       "   'height': 90},\n",
       "  'medium': {'url': 'https://i.ytimg.com/vi/CYMQwEHzH_k/mqdefault.jpg',\n",
       "   'width': 320,\n",
       "   'height': 180},\n",
       "  'high': {'url': 'https://i.ytimg.com/vi/CYMQwEHzH_k/hqdefault.jpg',\n",
       "   'width': 480,\n",
       "   'height': 360},\n",
       "  'standard': {'url': 'https://i.ytimg.com/vi/CYMQwEHzH_k/sddefault.jpg',\n",
       "   'width': 640,\n",
       "   'height': 480}},\n",
       " 'channelTitle': 'Antonio Palmucci',\n",
       " 'tags': ['pokemon',\n",
       "  'pokemon go',\n",
       "  'pacman vs pokemon',\n",
       "  'pacman',\n",
       "  'pikachu',\n",
       "  'nintendo',\n",
       "  'games',\n",
       "  'videogames',\n",
       "  'cartoon',\n",
       "  '3d',\n",
       "  'animation',\n",
       "  'humor',\n",
       "  'pacman 3d',\n",
       "  'namco',\n",
       "  'gaming',\n",
       "  'pokemon go gameplay',\n",
       "  'nintendo switch',\n",
       "  'pokemongo',\n",
       "  'switch',\n",
       "  'switch games',\n",
       "  'nintendo games',\n",
       "  'pokémon',\n",
       "  'pokemon go battle',\n",
       "  'game',\n",
       "  'pokémon go',\n",
       "  'video game',\n",
       "  'pokemon 3d',\n",
       "  'pokemon pacman',\n",
       "  'antonio pokemon',\n",
       "  'pokemon go pacman',\n",
       "  'pokemon go antonio',\n",
       "  'ポケモン',\n",
       "  'antonio palmucci',\n",
       "  'pac man',\n",
       "  'antonio pacman',\n",
       "  'pacman vs',\n",
       "  'pac man 3d',\n",
       "  'youtube kids',\n",
       "  'Pokémon Scarlet and Violet'],\n",
       " 'categoryId': '20',\n",
       " 'liveBroadcastContent': 'none',\n",
       " 'localized': {'title': 'Pacman vs Pokemon',\n",
       "  'description': '#pacman #pikachu #pokemon\\nFunny animation with some Pokemon versus Pacman\\n\\n❤ Subscribe to my brand new relaxing channel! 😁 @arcadersoft \\n❤ Subscribe to my brand new Pacman channel! 😁 @arcadershorts \\n❤Follow me on Facebook - https://www.facebook.com/Pacman-is-a-bad-guy-458269667666956/?ref=aymt_homepage_panel\\n❤Follow me on my NEW TIK TOK channel antopacman88 😀'}}"
      ]
     },
     "execution_count": 8,
     "metadata": {},
     "output_type": "execute_result"
    }
   ],
   "source": [
    "r.json()[\"items\"][0][\"snippet\"]\n",
    "\n"
   ]
  },
  {
   "cell_type": "code",
   "execution_count": null,
   "id": "ebec86cc",
   "metadata": {},
   "outputs": [
    {
     "data": {
      "text/plain": [
       "['pokemon',\n",
       " 'pokemon go',\n",
       " 'pacman vs pokemon',\n",
       " 'pacman',\n",
       " 'pikachu',\n",
       " 'nintendo',\n",
       " 'games',\n",
       " 'videogames',\n",
       " 'cartoon',\n",
       " '3d',\n",
       " 'animation',\n",
       " 'humor',\n",
       " 'pacman 3d',\n",
       " 'namco',\n",
       " 'gaming',\n",
       " 'pokemon go gameplay',\n",
       " 'nintendo switch',\n",
       " 'pokemongo',\n",
       " 'switch',\n",
       " 'switch games',\n",
       " 'nintendo games',\n",
       " 'pokémon',\n",
       " 'pokemon go battle',\n",
       " 'game',\n",
       " 'pokémon go',\n",
       " 'video game',\n",
       " 'pokemon 3d',\n",
       " 'pokemon pacman',\n",
       " 'antonio pokemon',\n",
       " 'pokemon go pacman',\n",
       " 'pokemon go antonio',\n",
       " 'ポケモン',\n",
       " 'antonio palmucci',\n",
       " 'pac man',\n",
       " 'antonio pacman',\n",
       " 'pacman vs',\n",
       " 'pac man 3d',\n",
       " 'youtube kids',\n",
       " 'Pokémon Scarlet and Violet']"
      ]
     },
     "execution_count": 9,
     "metadata": {},
     "output_type": "execute_result"
    }
   ],
   "source": [
    "r.json()[\"items\"][0][\"snippet\"][\"tags\"]"
   ]
  },
  {
   "cell_type": "markdown",
   "id": "6124450d",
   "metadata": {},
   "source": [
    "### contentDetails"
   ]
  },
  {
   "cell_type": "code",
   "execution_count": null,
   "id": "675960c4",
   "metadata": {},
   "outputs": [
    {
     "data": {
      "text/plain": [
       "dict_keys(['duration', 'dimension', 'definition', 'caption', 'licensedContent', 'contentRating', 'projection'])"
      ]
     },
     "execution_count": 10,
     "metadata": {},
     "output_type": "execute_result"
    }
   ],
   "source": [
    "r.json()[\"items\"][0][\"contentDetails\"].keys()"
   ]
  },
  {
   "cell_type": "code",
   "execution_count": null,
   "id": "c4077cd8",
   "metadata": {},
   "outputs": [
    {
     "data": {
      "text/plain": [
       "{'duration': 'PT2M41S',\n",
       " 'dimension': '2d',\n",
       " 'definition': 'hd',\n",
       " 'caption': 'false',\n",
       " 'licensedContent': True,\n",
       " 'contentRating': {},\n",
       " 'projection': 'rectangular'}"
      ]
     },
     "execution_count": 11,
     "metadata": {},
     "output_type": "execute_result"
    }
   ],
   "source": [
    "r.json()[\"items\"][0][\"contentDetails\"]"
   ]
  },
  {
   "cell_type": "markdown",
   "id": "4fe18554",
   "metadata": {},
   "source": [
    "### status\n",
    "動画の公開状況など"
   ]
  },
  {
   "cell_type": "code",
   "execution_count": null,
   "id": "a6e43e43-e293-4725-8399-30e313426efb",
   "metadata": {},
   "outputs": [
    {
     "data": {
      "text/plain": [
       "{'uploadStatus': 'processed',\n",
       " 'privacyStatus': 'public',\n",
       " 'license': 'youtube',\n",
       " 'embeddable': True,\n",
       " 'publicStatsViewable': True,\n",
       " 'madeForKids': True}"
      ]
     },
     "execution_count": 12,
     "metadata": {},
     "output_type": "execute_result"
    }
   ],
   "source": [
    "r.json()[\"items\"][0][\"status\"]"
   ]
  },
  {
   "cell_type": "markdown",
   "id": "699220de",
   "metadata": {},
   "source": [
    "- uploadStatus：アップロードされた動画のステータス\n",
    "- privacyStatus：動画のプライバシー ステータス\n",
    "- license：動画のライセンス\n",
    "- embeddable：別の Web サイトに埋め込むことができるかどうか\n",
    "- publicStatsViewable：拡張統計情報が一般公開されているかどうか\n",
    "- madeForKids:キッズ向けかどうか\n"
   ]
  },
  {
   "cell_type": "markdown",
   "id": "361a3aee",
   "metadata": {},
   "source": [
    "限定公開動画の場合\n",
    "```bash\n",
    "r.json()[\"items\"][0][\"status\"]\n",
    "\n",
    "{'uploadStatus': 'processed',\n",
    " 'privacyStatus': 'unlisted',\n",
    " 'license': 'youtube',\n",
    " 'embeddable': True,\n",
    " 'publicStatsViewable': True,\n",
    " 'madeForKids': False}\n",
    "```"
   ]
  },
  {
   "cell_type": "markdown",
   "id": "a0290f53",
   "metadata": {},
   "source": [
    "### statistics"
   ]
  },
  {
   "cell_type": "code",
   "execution_count": null,
   "id": "0443928a",
   "metadata": {},
   "outputs": [
    {
     "data": {
      "text/plain": [
       "{'viewCount': '88911455',\n",
       " 'likeCount': '184917',\n",
       " 'favoriteCount': '0',\n",
       " 'commentCount': '0'}"
      ]
     },
     "execution_count": 13,
     "metadata": {},
     "output_type": "execute_result"
    }
   ],
   "source": [
    "r.json()[\"items\"][0][\"statistics\"]"
   ]
  },
  {
   "cell_type": "code",
   "execution_count": null,
   "id": "3d9e92ee",
   "metadata": {},
   "outputs": [],
   "source": []
  },
  {
   "cell_type": "code",
   "execution_count": null,
   "id": "388800d9",
   "metadata": {},
   "outputs": [],
   "source": []
  },
  {
   "cell_type": "code",
   "execution_count": null,
   "id": "b46d006e",
   "metadata": {},
   "outputs": [],
   "source": []
  },
  {
   "cell_type": "markdown",
   "id": "b78ff982",
   "metadata": {},
   "source": [
    "### topicDetails"
   ]
  },
  {
   "cell_type": "code",
   "execution_count": null,
   "id": "bcf97ace",
   "metadata": {},
   "outputs": [
    {
     "data": {
      "text/plain": [
       "{'topicCategories': ['https://en.wikipedia.org/wiki/Food',\n",
       "  'https://en.wikipedia.org/wiki/Lifestyle_(sociology)']}"
      ]
     },
     "execution_count": 38,
     "metadata": {},
     "output_type": "execute_result"
    }
   ],
   "source": [
    "r.json()[\"items\"][0][\"topicDetails\"]"
   ]
  },
  {
   "cell_type": "code",
   "execution_count": null,
   "id": "601c7189",
   "metadata": {},
   "outputs": [],
   "source": []
  },
  {
   "cell_type": "code",
   "execution_count": null,
   "id": "c1b81c2c",
   "metadata": {},
   "outputs": [],
   "source": []
  },
  {
   "cell_type": "code",
   "execution_count": null,
   "id": "48e0c9cc",
   "metadata": {},
   "outputs": [],
   "source": []
  },
  {
   "cell_type": "markdown",
   "id": "a0ed203b",
   "metadata": {},
   "source": [
    "# スクレイピングによる広告抽出（開発中）"
   ]
  },
  {
   "cell_type": "markdown",
   "id": "f8694e0a-b576-48c2-a9bc-1eddacad676f",
   "metadata": {},
   "source": [
    "要素：<button class=\"ytp-ad-button-vm ytp-ad-component--clickable ytp-ad-button--style-filled ytp-ad-button--size-default\" id=\"ad-button:6\" aria-label=\"もっと見る This link opens in new tab\" role=\"link\" style=\"\"><span class=\"ytp-ad-button__text\">もっと見る</span></button>\n",
    "x-path:/html/body/ytd-app/div[1]/ytd-page-manager/ytd-watch-flexy/div[5]/div[1]/div/div[1]/div[2]/div/div/ytd-player/div/div/div[22]/div/div[1]/div/button\n",
    "\n",
    "要素：<span class=\"ytp-sfn-cpn\"> tYtQLNO4eNI / TB1B B64A KXBE N5GN N3F0</span>\n",
    "x-path:/html/body/ytd-app/div[1]/ytd-page-manager/ytd-watch-flexy/div[5]/div[1]/div/div[1]/div[2]/div/div/ytd-player/div/div/div[24]/div/div[1]/span"
   ]
  },
  {
   "cell_type": "code",
   "execution_count": null,
   "id": "203a89fa",
   "metadata": {},
   "outputs": [],
   "source": []
  },
  {
   "cell_type": "code",
   "execution_count": null,
   "id": "1247272c-20d3-4f9a-8699-ff96ebc763b7",
   "metadata": {},
   "outputs": [],
   "source": [
    "from config import *\n",
    "from selenium import webdriver\n",
    "from selenium.webdriver.chrome.options import Options\n",
    "from selenium.webdriver.common.by import By\n",
    "import re\n",
    "# import chromedriver_binary\n",
    "\n",
    "options = Options()\n",
    "# linux上で動かすときは次の2つも実行してください。\n",
    "# options.add_argument('--headless')\n",
    "options.add_argument('--incognito') #シークレットモード\n",
    "\n",
    "driver = webdriver.Chrome(options=options)\n",
    "\n",
    "\n",
    "url = f\"https://www.youtube.com/watch?v={top_bideoID}\"\n",
    "driver.get(url)\n"
   ]
  },
  {
   "cell_type": "code",
   "execution_count": null,
   "id": "e34a7e48",
   "metadata": {},
   "outputs": [],
   "source": []
  },
  {
   "cell_type": "code",
   "execution_count": null,
   "id": "68ae34e7",
   "metadata": {},
   "outputs": [],
   "source": [
    "url = \"https://www.youtube.com/watch?v=QwYHf-JxrMA\"\n",
    "driver.get(url)\n",
    "driver.back()"
   ]
  },
  {
   "cell_type": "code",
   "execution_count": null,
   "id": "8125afca",
   "metadata": {},
   "outputs": [],
   "source": [
    "# ページを進む\n",
    "# driver.forward()\n",
    "# ページを戻る\n"
   ]
  },
  {
   "cell_type": "code",
   "execution_count": null,
   "id": "c079c81f",
   "metadata": {},
   "outputs": [],
   "source": [
    "# ページを進む\n",
    "driver.forward()\n",
    "# ページを戻る\n",
    "driver.back()"
   ]
  },
  {
   "cell_type": "code",
   "execution_count": null,
   "id": "38de34f4",
   "metadata": {},
   "outputs": [],
   "source": [
    "\n",
    "xpath = '//*[@id=\"companion\"]/top-banner-image-text-icon-buttoned-layout-view-model/div[2]/ad-button-view-model/a'\n",
    "result = driver.find_elements(by=By.XPATH, value=xpath)\n",
    "\n",
    "# 取得した要素のHTMLを表示\n",
    "for element in result:\n",
    "    url_search_list = re.findall('adurl=(.*)', element.get_attribute(\"href\"))\n",
    "    if len(url_search_list) > 0:\n",
    "        print(url_search_list[0])"
   ]
  },
  {
   "cell_type": "code",
   "execution_count": null,
   "id": "962c2227",
   "metadata": {},
   "outputs": [],
   "source": [
    "\n",
    "# driverを終了する\n",
    "driver.quit()"
   ]
  },
  {
   "cell_type": "code",
   "execution_count": null,
   "id": "20936442",
   "metadata": {},
   "outputs": [],
   "source": []
  },
  {
   "cell_type": "markdown",
   "id": "b62dddc3",
   "metadata": {},
   "source": [
    "# 広告情報取得"
   ]
  },
  {
   "cell_type": "code",
   "execution_count": 1,
   "id": "1224f715",
   "metadata": {},
   "outputs": [],
   "source": [
    "from config import *\n",
    "import requests\n",
    "from selenium import webdriver\n",
    "from selenium.webdriver.chrome.options import Options\n",
    "from selenium.webdriver.common.by import By\n",
    "import re\n",
    "import time\n",
    "import pandas as pd"
   ]
  },
  {
   "cell_type": "code",
   "execution_count": 2,
   "id": "df8e7c6e",
   "metadata": {},
   "outputs": [],
   "source": [
    "def click_start(driver):\n",
    "    \"\"\"\n",
    "    広告を再生するために動画の再生ボタンを押す\n",
    "    \"\"\"\n",
    "    xpath = '//*[@id=\"movie_player\"]/div[8]/button'\n",
    "    element = driver.find_elements(by=By.XPATH, value=xpath)\n",
    "    try:\n",
    "        element[0].click()\n",
    "        print(\"click\")\n",
    "    except Exception as e:\n",
    "        print(e)\n",
    "\n",
    "def get_video_info(videoID):\n",
    "    \"\"\"\n",
    "    指定したvideoIDの詳細情報を取得\n",
    "    \"\"\"\n",
    "\n",
    "    params = {\n",
    "        \"id\": videoID,\n",
    "        \"key\": YOUTUBE_API_KEY,\n",
    "        \"part\": 'snippet,statistics,status,contentDetails,topicDetails',\n",
    "        # \"fields\": \"id,snippet,statistics,status\",\n",
    "    }\n",
    "\n",
    "    r = requests.get(URL_VIDEOS, params=params)\n",
    "    result_dic = {}\n",
    "    result_dic[\"viewCount\"] = r.json()[\"items\"][0][\"statistics\"].get('viewCount',\"不明\")# 再生回数\n",
    "    result_dic[\"commentCount\"] = r.json()[\"items\"][0][\"statistics\"].get('commentCount',\"不明\")# コメント数\n",
    "    result_dic[\"likeCount\"] = r.json()[\"items\"][0][\"statistics\"].get('likeCount',\"不明\")# いいねの数\n",
    "    result_dic[\"tags\"] = \",\".join(r.json()[\"items\"][0][\"snippet\"].get(\"tags\",\"不明\"))# タグ\n",
    "    result_dic[\"description\"] = r.json()[\"items\"][0][\"snippet\"].get(\"description\",\"不明\")# 動画詳細\n",
    "    result_dic[\"title\"] = r.json()[\"items\"][0][\"snippet\"].get(\"title\",\"不明\")#動画タイトル \n",
    "    result_dic[\"channelTitle\"] = r.json()[\"items\"][0][\"snippet\"].get(\"channelTitle\",\"不明\")# チャンネル名\n",
    "    return result_dic\n",
    "    "
   ]
  },
  {
   "cell_type": "code",
   "execution_count": 5,
   "id": "a82dd8c0",
   "metadata": {},
   "outputs": [
    {
     "name": "stdout",
     "output_type": "stream",
     "text": [
      "0 zlRDOj-3EpA\n",
      "開始\n",
      "list index out of range\n",
      "list index out of range\n",
      "list index out of range\n",
      "list index out of range\n",
      "list index out of range\n",
      "list index out of range\n",
      "list index out of range\n",
      "list index out of range\n",
      "list index out of range\n",
      "list index out of range\n",
      "1 BoZ0Zwab6Oc\n",
      "開始\n",
      "list index out of range\n",
      "list index out of range\n",
      "list index out of range\n",
      "list index out of range\n",
      "list index out of range\n",
      "list index out of range\n",
      "list index out of range\n",
      "list index out of range\n",
      "list index out of range\n",
      "list index out of range\n",
      "2 qYllGk_5gl0\n",
      "開始\n",
      "click\n",
      "click\n",
      "click\n",
      "click\n",
      "click\n",
      "click\n",
      "click\n",
      "click\n",
      "click\n",
      "click\n",
      "3 1X9HkJNIRfM\n",
      "開始\n",
      "list index out of range\n",
      "list index out of range\n",
      "list index out of range\n",
      "list index out of range\n",
      "list index out of range\n",
      "list index out of range\n",
      "list index out of range\n",
      "list index out of range\n",
      "list index out of range\n",
      "list index out of range\n",
      "4 23g5HBOg3Ic\n",
      "開始\n",
      "click\n",
      "click\n",
      "click\n",
      "click\n",
      "click\n",
      "click\n",
      "click\n",
      "click\n",
      "click\n",
      "click\n",
      "click\n",
      "click\n",
      "click\n",
      "click\n"
     ]
    }
   ],
   "source": [
    "video_search_words = \"ポケモン\"\n",
    "\n",
    "cm_num = 5\n",
    "video_num = 10\n",
    "\n",
    "params = {\n",
    "    \"key\": YOUTUBE_API_KEY,\n",
    "    \"part\": 'snippet',\n",
    "    \"q\":video_search_words,\n",
    "    \"order\":'viewCount',\n",
    "    \"type\":'video',\n",
    "    # \"fields\": \"id,snippet,statistics,status\",\n",
    "}\n",
    "r = requests.get(URL_SEARCH, params=params)\n",
    "  \n",
    "# top_bideoID = r.json()[\"items\"][0][\"id\"][\"videoId\"]\n",
    "\n",
    "result_df = pd.DataFrame()\n",
    "for n,video in enumerate(r.json()[\"items\"][:video_num]):\n",
    "    \n",
    "    options = Options()\n",
    "    # linux上で動かすときは次の2つも実行してください。\n",
    "    options.add_argument('--headless')\n",
    "    options.add_argument('--incognito') #シークレットモード\n",
    "\n",
    "    driver = webdriver.Chrome(options=options)\n",
    "    videoID = video['id'][\"videoId\"]\n",
    "    print(n,videoID)\n",
    "\n",
    "    url = f\"https://www.youtube.com/watch?v={videoID}\"\n",
    "    driver.get(url)\n",
    "    url_list = []\n",
    "    count_num = 0\n",
    "    print(\"開始\")\n",
    "    while True:\n",
    "        driver.refresh() # ページの更新\n",
    "        time.sleep(5)\n",
    "        click_start(driver) #動画再生（広告の割り込み）\n",
    "        time.sleep(3)\n",
    "\n",
    "        # 広告URLが格納されているxpath\n",
    "        xpath = '//*[@id=\"companion\"]/top-banner-image-text-icon-buttoned-layout-view-model/div[2]/ad-button-view-model/a'\n",
    "        result = driver.find_elements(by=By.XPATH, value=xpath)\n",
    "\n",
    "        # 取得した要素のHTMLを表示\n",
    "        for element in result:\n",
    "            # url_search_list = re.findall('adurl=(.*)', element.get_attribute(\"href\"))\n",
    "            url_search_list = element.get_attribute(\"href\")\n",
    "            if len(url_search_list) > 0:\n",
    "                url_list.append(url_search_list)\n",
    "                url_num = len(url_list)\n",
    "                count_num = 0\n",
    "\n",
    "        if (len(url_list)>5) or (count_num==9):\n",
    "            break\n",
    "        count_num += 1\n",
    "\n",
    "    url_list = list(set(url_list))\n",
    "    video_info_dic = get_video_info(videoID)\n",
    "    video_info_dic[\"koukoku\"]= \",\".join(url_list)\n",
    "    a = pd.Series(video_info_dic, name=f\"rank{n}\")\n",
    "        \n",
    "    result_df = pd.concat([result_df, a.to_frame().T])\n",
    "    # driverを終了する\n",
    "    driver.quit()"
   ]
  },
  {
   "cell_type": "code",
   "execution_count": 6,
   "id": "4325f76b",
   "metadata": {},
   "outputs": [
    {
     "data": {
      "text/html": [
       "<div>\n",
       "<style scoped>\n",
       "    .dataframe tbody tr th:only-of-type {\n",
       "        vertical-align: middle;\n",
       "    }\n",
       "\n",
       "    .dataframe tbody tr th {\n",
       "        vertical-align: top;\n",
       "    }\n",
       "\n",
       "    .dataframe thead th {\n",
       "        text-align: right;\n",
       "    }\n",
       "</style>\n",
       "<table border=\"1\" class=\"dataframe\">\n",
       "  <thead>\n",
       "    <tr style=\"text-align: right;\">\n",
       "      <th></th>\n",
       "      <th>viewCount</th>\n",
       "      <th>commentCount</th>\n",
       "      <th>likeCount</th>\n",
       "      <th>tags</th>\n",
       "      <th>description</th>\n",
       "      <th>title</th>\n",
       "      <th>channelTitle</th>\n",
       "    </tr>\n",
       "  </thead>\n",
       "  <tbody>\n",
       "    <tr>\n",
       "      <th>rank0</th>\n",
       "      <td>85571296</td>\n",
       "      <td>0</td>\n",
       "      <td>不明</td>\n",
       "      <td></td>\n",
       "      <td>ある料理好きの男性とポケモンたちの、おいしくてあたたかい日常風景を描いたショートムービー「ポ...</td>\n",
       "      <td>【公式】「ポケモンたちとの甘い冬」第2話「ゴージャス！タルト盛り合せ」</td>\n",
       "      <td>ポケモン公式YouTubeチャンネル</td>\n",
       "    </tr>\n",
       "    <tr>\n",
       "      <th>rank1</th>\n",
       "      <td>79566608</td>\n",
       "      <td>0</td>\n",
       "      <td>不明</td>\n",
       "      <td></td>\n",
       "      <td>ポケモン ＆ BUMP OF CHICKEN\\nスペシャルミュージックビデオ「GOTCHA！...</td>\n",
       "      <td>【Official】Pokémon Special Music Video 「GOTCHA！...</td>\n",
       "      <td>ポケモン公式YouTubeチャンネル</td>\n",
       "    </tr>\n",
       "    <tr>\n",
       "      <th>rank2</th>\n",
       "      <td>59772146</td>\n",
       "      <td>0</td>\n",
       "      <td>313618</td>\n",
       "      <td>https://www.googleadservices.com/pagead/aclk?s...</td>\n",
       "      <td>Who's excited for the new Pokemon game Scarlet...</td>\n",
       "      <td>Pokémon In Real Life</td>\n",
       "      <td>Shiloh &amp; Bros</td>\n",
       "    </tr>\n",
       "    <tr>\n",
       "      <th>rank3</th>\n",
       "      <td>56095176</td>\n",
       "      <td>3020</td>\n",
       "      <td>1443526</td>\n",
       "      <td></td>\n",
       "      <td>Can Meowth &amp; Pikachu answer who's that Pokémon...</td>\n",
       "      <td>Pikachu &amp; Meowth (Full Episode) ft. skibidi to...</td>\n",
       "      <td>FoxSmil</td>\n",
       "    </tr>\n",
       "    <tr>\n",
       "      <th>rank4</th>\n",
       "      <td>45809538</td>\n",
       "      <td>22340</td>\n",
       "      <td>710287</td>\n",
       "      <td>https://www.googleadservices.com/pagead/aclk?s...</td>\n",
       "      <td>The official music video for Ed Sheeran, Pokém...</td>\n",
       "      <td>Ed Sheeran, Pokémon - Celestial [Official Video]</td>\n",
       "      <td>Ed Sheeran</td>\n",
       "    </tr>\n",
       "  </tbody>\n",
       "</table>\n",
       "</div>"
      ],
      "text/plain": [
       "      viewCount commentCount likeCount  \\\n",
       "rank0  85571296            0        不明   \n",
       "rank1  79566608            0        不明   \n",
       "rank2  59772146            0    313618   \n",
       "rank3  56095176         3020   1443526   \n",
       "rank4  45809538        22340    710287   \n",
       "\n",
       "                                                    tags  \\\n",
       "rank0                                                      \n",
       "rank1                                                      \n",
       "rank2  https://www.googleadservices.com/pagead/aclk?s...   \n",
       "rank3                                                      \n",
       "rank4  https://www.googleadservices.com/pagead/aclk?s...   \n",
       "\n",
       "                                             description  \\\n",
       "rank0  ある料理好きの男性とポケモンたちの、おいしくてあたたかい日常風景を描いたショートムービー「ポ...   \n",
       "rank1  ポケモン ＆ BUMP OF CHICKEN\\nスペシャルミュージックビデオ「GOTCHA！...   \n",
       "rank2  Who's excited for the new Pokemon game Scarlet...   \n",
       "rank3  Can Meowth & Pikachu answer who's that Pokémon...   \n",
       "rank4  The official music video for Ed Sheeran, Pokém...   \n",
       "\n",
       "                                                   title        channelTitle  \n",
       "rank0                【公式】「ポケモンたちとの甘い冬」第2話「ゴージャス！タルト盛り合せ」  ポケモン公式YouTubeチャンネル  \n",
       "rank1  【Official】Pokémon Special Music Video 「GOTCHA！...  ポケモン公式YouTubeチャンネル  \n",
       "rank2                               Pokémon In Real Life       Shiloh & Bros  \n",
       "rank3  Pikachu & Meowth (Full Episode) ft. skibidi to...             FoxSmil  \n",
       "rank4   Ed Sheeran, Pokémon - Celestial [Official Video]          Ed Sheeran  "
      ]
     },
     "execution_count": 6,
     "metadata": {},
     "output_type": "execute_result"
    }
   ],
   "source": [
    "result_df"
   ]
  },
  {
   "cell_type": "code",
   "execution_count": null,
   "id": "48898392",
   "metadata": {},
   "outputs": [],
   "source": []
  }
 ],
 "metadata": {
  "kernelspec": {
   "display_name": "Python 3 (ipykernel)",
   "language": "python",
   "name": "python3"
  },
  "language_info": {
   "codemirror_mode": {
    "name": "ipython",
    "version": 3
   },
   "file_extension": ".py",
   "mimetype": "text/x-python",
   "name": "python",
   "nbconvert_exporter": "python",
   "pygments_lexer": "ipython3",
   "version": "3.10.12"
  }
 },
 "nbformat": 4,
 "nbformat_minor": 5
}
